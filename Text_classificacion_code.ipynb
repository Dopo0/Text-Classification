{
 "cells": [
  {
   "cell_type": "code",
   "execution_count": 1,
   "metadata": {
    "executionInfo": {
     "elapsed": 3,
     "status": "ok",
     "timestamp": 1700074505489,
     "user": {
      "displayName": "Thiago Yoshimura",
      "userId": "04877688367996314129"
     },
     "user_tz": 300
    },
    "id": "weIhrUCcriZJ",
    "ExecuteTime": {
     "end_time": "2023-11-15T22:11:02.055193303Z",
     "start_time": "2023-11-15T22:11:00.305660228Z"
    }
   },
   "outputs": [],
   "source": [
    "import numpy as np\n",
    "import pandas as pd\n",
    "from sklearn.model_selection import train_test_split\n",
    "from sklearn.feature_extraction.text import TfidfVectorizer\n",
    "from sklearn.linear_model import LogisticRegression\n",
    "from sklearn.metrics import classification_report, accuracy_score, f1_score\n",
    "from sklearn.decomposition import TruncatedSVD\n",
    "\n",
    "import nltk\n",
    "from nltk.corpus import stopwords\n",
    "from nltk.tokenize import word_tokenize\n",
    "from nltk.stem import SnowballStemmer\n",
    "import string\n",
    "import spacy\n",
    "import time\n",
    "\n",
    "from sklearn.ensemble import RandomForestClassifier\n",
    "from sklearn.metrics import accuracy_score\n"
   ]
  },
  {
   "cell_type": "code",
   "execution_count": 2,
   "metadata": {
    "colab": {
     "base_uri": "https://localhost:8080/"
    },
    "executionInfo": {
     "elapsed": 733,
     "status": "ok",
     "timestamp": 1700071638447,
     "user": {
      "displayName": "Thiago Yoshimura",
      "userId": "04877688367996314129"
     },
     "user_tz": 300
    },
    "id": "76u-_AxK1PYn",
    "outputId": "5681243a-ee37-48af-b466-7a07d6cc3bb2",
    "ExecuteTime": {
     "end_time": "2023-11-15T22:11:02.113398132Z",
     "start_time": "2023-11-15T22:11:02.056464802Z"
    }
   },
   "outputs": [
    {
     "name": "stderr",
     "output_type": "stream",
     "text": [
      "[nltk_data] Downloading package punkt to /home/daniel/nltk_data...\n",
      "[nltk_data]   Package punkt is already up-to-date!\n",
      "[nltk_data] Downloading package stopwords to /home/daniel/nltk_data...\n",
      "[nltk_data]   Package stopwords is already up-to-date!\n"
     ]
    },
    {
     "data": {
      "text/plain": "True"
     },
     "execution_count": 2,
     "metadata": {},
     "output_type": "execute_result"
    }
   ],
   "source": [
    "nltk.download('punkt')\n",
    "nltk.download('stopwords')"
   ]
  },
  {
   "cell_type": "markdown",
   "metadata": {
    "id": "yf0Vev_nyflN"
   },
   "source": [
    "# data"
   ]
  },
  {
   "cell_type": "raw",
   "source": [
    "from google.colab import drive\n",
    "drive.mount('/content/drive')"
   ],
   "metadata": {
    "collapsed": false
   }
  },
  {
   "cell_type": "code",
   "execution_count": 3,
   "outputs": [
    {
     "data": {
      "text/plain": "                    label                                               text\n0        Caída de objetos               Sacar llaves de pozo. Se sacó llave.\n1           Mantenimiento  Ventilador de cabina no funciona. Se desconect...\n2      Suministro energía  El ascensor arrancó en el piso 23 y paró brusc...\n3       Golpe, Vandalismo  El ascensor está bloqueado. Abrieron la escoti...\n4        Caída de objetos  Sacar llaves de pozo. Se sacó llave. Había caí...\n...                   ...                                                ...\n37385            Material  ASCENSOR FUERA DE SERVICIO. Se encontro equipo...\n37386            Material  ASCENSOR FUERA DE SERVICIO. Se encontro falla ...\n37387    Funcionando Bien  CARGA FUERA DE SERVICIO. Se encontro equipo fu...\n37388       Mantenimiento  ROSE EN CABINA. Se encontro equipo funcionando...\n37389   Golpe, Vandalismo  ASCENSOR FUERA DE SERVICIO. Se encontro equipo...\n\n[37390 rows x 2 columns]",
      "text/html": "<div>\n<style scoped>\n    .dataframe tbody tr th:only-of-type {\n        vertical-align: middle;\n    }\n\n    .dataframe tbody tr th {\n        vertical-align: top;\n    }\n\n    .dataframe thead th {\n        text-align: right;\n    }\n</style>\n<table border=\"1\" class=\"dataframe\">\n  <thead>\n    <tr style=\"text-align: right;\">\n      <th></th>\n      <th>label</th>\n      <th>text</th>\n    </tr>\n  </thead>\n  <tbody>\n    <tr>\n      <th>0</th>\n      <td>Caída de objetos</td>\n      <td>Sacar llaves de pozo. Se sacó llave.</td>\n    </tr>\n    <tr>\n      <th>1</th>\n      <td>Mantenimiento</td>\n      <td>Ventilador de cabina no funciona. Se desconect...</td>\n    </tr>\n    <tr>\n      <th>2</th>\n      <td>Suministro energía</td>\n      <td>El ascensor arrancó en el piso 23 y paró brusc...</td>\n    </tr>\n    <tr>\n      <th>3</th>\n      <td>Golpe, Vandalismo</td>\n      <td>El ascensor está bloqueado. Abrieron la escoti...</td>\n    </tr>\n    <tr>\n      <th>4</th>\n      <td>Caída de objetos</td>\n      <td>Sacar llaves de pozo. Se sacó llave. Había caí...</td>\n    </tr>\n    <tr>\n      <th>...</th>\n      <td>...</td>\n      <td>...</td>\n    </tr>\n    <tr>\n      <th>37385</th>\n      <td>Material</td>\n      <td>ASCENSOR FUERA DE SERVICIO. Se encontro equipo...</td>\n    </tr>\n    <tr>\n      <th>37386</th>\n      <td>Material</td>\n      <td>ASCENSOR FUERA DE SERVICIO. Se encontro falla ...</td>\n    </tr>\n    <tr>\n      <th>37387</th>\n      <td>Funcionando Bien</td>\n      <td>CARGA FUERA DE SERVICIO. Se encontro equipo fu...</td>\n    </tr>\n    <tr>\n      <th>37388</th>\n      <td>Mantenimiento</td>\n      <td>ROSE EN CABINA. Se encontro equipo funcionando...</td>\n    </tr>\n    <tr>\n      <th>37389</th>\n      <td>Golpe, Vandalismo</td>\n      <td>ASCENSOR FUERA DE SERVICIO. Se encontro equipo...</td>\n    </tr>\n  </tbody>\n</table>\n<p>37390 rows × 2 columns</p>\n</div>"
     },
     "execution_count": 3,
     "metadata": {},
     "output_type": "execute_result"
    }
   ],
   "source": [
    "data = pd.read_csv('data/sp_data.csv')\n",
    "data"
   ],
   "metadata": {
    "collapsed": false,
    "ExecuteTime": {
     "end_time": "2023-11-15T22:11:02.182254281Z",
     "start_time": "2023-11-15T22:11:02.112710411Z"
    }
   }
  },
  {
   "cell_type": "markdown",
   "metadata": {
    "id": "BJ9A2ApssJ6e"
   },
   "source": [
    "# Tokenization"
   ]
  },
  {
   "cell_type": "code",
   "execution_count": 4,
   "metadata": {
    "executionInfo": {
     "elapsed": 7,
     "status": "ok",
     "timestamp": 1700071660619,
     "user": {
      "displayName": "Thiago Yoshimura",
      "userId": "04877688367996314129"
     },
     "user_tz": 300
    },
    "id": "Inij8ssasRQn",
    "ExecuteTime": {
     "end_time": "2023-11-15T22:11:02.253802265Z",
     "start_time": "2023-11-15T22:11:02.181999727Z"
    }
   },
   "outputs": [],
   "source": [
    "def token_func(data):\n",
    "    return nltk.word_tokenize(data)"
   ]
  },
  {
   "cell_type": "markdown",
   "metadata": {
    "id": "pspdYZ0psFs8"
   },
   "source": [
    "# Stopwords"
   ]
  },
  {
   "cell_type": "code",
   "execution_count": 5,
   "metadata": {
    "executionInfo": {
     "elapsed": 197,
     "status": "ok",
     "timestamp": 1700071660809,
     "user": {
      "displayName": "Thiago Yoshimura",
      "userId": "04877688367996314129"
     },
     "user_tz": 300
    },
    "id": "EWqKVRyjsE-O",
    "ExecuteTime": {
     "end_time": "2023-11-15T22:11:02.254065171Z",
     "start_time": "2023-11-15T22:11:02.229627885Z"
    }
   },
   "outputs": [],
   "source": [
    "stop_words = set(stopwords.words('spanish'))\n",
    "\n",
    "def pre_remove_stop_words(data):\n",
    "    word_tokens = token_func(data)\n",
    "    data = [word for word in word_tokens if word.lower() not in stop_words]\n",
    "    return ' '.join(data)\n",
    "\n",
    "def remove_stop_words(data):\n",
    "  data['text'] = data['text'].apply(pre_remove_stop_words)\n",
    "  return data\n"
   ]
  },
  {
   "cell_type": "markdown",
   "metadata": {
    "id": "pgVWw8TeJe35"
   },
   "source": [
    "# Remove Ponctuation"
   ]
  },
  {
   "cell_type": "code",
   "execution_count": 6,
   "metadata": {
    "executionInfo": {
     "elapsed": 11,
     "status": "ok",
     "timestamp": 1700071660810,
     "user": {
      "displayName": "Thiago Yoshimura",
      "userId": "04877688367996314129"
     },
     "user_tz": 300
    },
    "id": "TtrmPr0VJiVm",
    "ExecuteTime": {
     "end_time": "2023-11-15T22:11:02.254230958Z",
     "start_time": "2023-11-15T22:11:02.229721168Z"
    }
   },
   "outputs": [],
   "source": [
    "def ponct_func(data):\n",
    "  data = data.translate(str.maketrans('', '', string.punctuation))\n",
    "  return data\n",
    "\n",
    "def ponctuation_remov_func(data):\n",
    "  data['text'] = data['text'].apply(ponct_func)\n",
    "  return data"
   ]
  },
  {
   "cell_type": "markdown",
   "metadata": {
    "id": "9U3EG6MEsaxr"
   },
   "source": [
    "# Lowercase convertion"
   ]
  },
  {
   "cell_type": "code",
   "execution_count": 7,
   "metadata": {
    "executionInfo": {
     "elapsed": 8,
     "status": "ok",
     "timestamp": 1700071660810,
     "user": {
      "displayName": "Thiago Yoshimura",
      "userId": "04877688367996314129"
     },
     "user_tz": 300
    },
    "id": "kQcAvkKGr0M2",
    "ExecuteTime": {
     "end_time": "2023-11-15T22:11:02.254376322Z",
     "start_time": "2023-11-15T22:11:02.229750841Z"
    }
   },
   "outputs": [],
   "source": [
    "def lowercase_func(data):\n",
    "    data['text'] = data['text'].str.lower()\n",
    "    return data"
   ]
  },
  {
   "cell_type": "markdown",
   "metadata": {
    "id": "BeupEvaPsid_"
   },
   "source": [
    "# Stemming"
   ]
  },
  {
   "cell_type": "code",
   "execution_count": 8,
   "metadata": {
    "executionInfo": {
     "elapsed": 7,
     "status": "ok",
     "timestamp": 1700071660810,
     "user": {
      "displayName": "Thiago Yoshimura",
      "userId": "04877688367996314129"
     },
     "user_tz": 300
    },
    "id": "4vH8VmkOsgyM",
    "ExecuteTime": {
     "end_time": "2023-11-15T22:11:02.254507241Z",
     "start_time": "2023-11-15T22:11:02.229775839Z"
    }
   },
   "outputs": [],
   "source": [
    "stemmer = SnowballStemmer('spanish')\n",
    "\n",
    "def preprocess_text(text):\n",
    "    word_tokens = word_tokenize(text)\n",
    "    filtered_text = [stemmer.stem(word) for word in word_tokens]\n",
    "    return ' '.join(filtered_text)\n",
    "\n",
    "def stemming_func(data):\n",
    "    data['text'] = data['text'].apply(preprocess_text)\n",
    "    return data"
   ]
  },
  {
   "cell_type": "markdown",
   "metadata": {
    "id": "Z2QL-ocdsoy_"
   },
   "source": [
    "# Lemmatization"
   ]
  },
  {
   "cell_type": "raw",
   "source": [
    "!python -m spacy download es_core_news_md"
   ],
   "metadata": {
    "collapsed": false
   }
  },
  {
   "cell_type": "code",
   "execution_count": 9,
   "metadata": {
    "executionInfo": {
     "elapsed": 1520,
     "status": "ok",
     "timestamp": 1700071678693,
     "user": {
      "displayName": "Thiago Yoshimura",
      "userId": "04877688367996314129"
     },
     "user_tz": 300
    },
    "id": "F0WNVwlRsn-v",
    "ExecuteTime": {
     "end_time": "2023-11-15T22:11:02.996353486Z",
     "start_time": "2023-11-15T22:11:02.229800207Z"
    }
   },
   "outputs": [],
   "source": [
    "nlp = spacy.load('es_core_news_md')\n",
    "\n",
    "# Function to preprocess and lemmatize text\n",
    "def preprocess_and_lemmatize(text):\n",
    "    # Process the text with spaCy\n",
    "    doc = nlp(text)\n",
    "\n",
    "    # Extract lemmatized tokens and join them back into a string\n",
    "    lemmatized_text = ' '.join([token.lemma_ for token in doc])\n",
    "\n",
    "    return lemmatized_text\n",
    "\n",
    "# Example function to apply preprocessing and lemmatization to a dataset column\n",
    "def lemmatization_func(data):\n",
    "    data['text'] = data['text'].apply(preprocess_and_lemmatize)\n",
    "    return data"
   ]
  },
  {
   "cell_type": "markdown",
   "metadata": {
    "id": "zCWvc9tjsyrE"
   },
   "source": [
    "# Feature extraction TF_IDF"
   ]
  },
  {
   "cell_type": "markdown",
   "metadata": {
    "id": "dsTky0u82t01"
   },
   "source": [
    "##### Total number of unique words in all the dataset, this number is 1,513,787 and 20,751 with lowercase\n",
    "X_lower = lowercase_func(data)\n",
    "X_lowe = X_lower['text']\n",
    "token_data = X_lowe.apply(token_func)\n",
    "flat_list = [token for sublist in token_data for token in sublist]\n",
    "flat_list\n",
    "print(len(flat_list))\n",
    "unique_words = set(flat_list)\n",
    "print(len(unique_words))"
   ]
  },
  {
   "cell_type": "code",
   "execution_count": 10,
   "metadata": {
    "executionInfo": {
     "elapsed": 207,
     "status": "ok",
     "timestamp": 1700075743230,
     "user": {
      "displayName": "Thiago Yoshimura",
      "userId": "04877688367996314129"
     },
     "user_tz": 300
    },
    "id": "-uBiXh1ysuZW",
    "ExecuteTime": {
     "end_time": "2023-11-15T22:11:03.042089097Z",
     "start_time": "2023-11-15T22:11:02.997917326Z"
    }
   },
   "outputs": [],
   "source": [
    "def TF_IDF_func(data, words_rate=0.1):\n",
    "  words_rate = 0.3\n",
    "  token_data = data['text'].apply(token_func)\n",
    "  flat_list = [token for sublist in token_data for token in sublist]\n",
    "  unique_words = len(set(flat_list))\n",
    "  tfidf_vectorizer = TfidfVectorizer(max_features= int(unique_words * words_rate))\n",
    "\n",
    "  data_tfidf = tfidf_vectorizer.fit_transform(data['text'])\n",
    "  return data_tfidf, tfidf_vectorizer"
   ]
  },
  {
   "cell_type": "markdown",
   "metadata": {
    "id": "S4QMx_P4tIW3"
   },
   "source": [
    "# Feature selection LSI"
   ]
  },
  {
   "cell_type": "code",
   "execution_count": 11,
   "metadata": {
    "executionInfo": {
     "elapsed": 5,
     "status": "ok",
     "timestamp": 1700071678694,
     "user": {
      "displayName": "Thiago Yoshimura",
      "userId": "04877688367996314129"
     },
     "user_tz": 300
    },
    "id": "v7CkqFSMtH0o",
    "ExecuteTime": {
     "end_time": "2023-11-15T22:11:03.042288704Z",
     "start_time": "2023-11-15T22:11:03.041862092Z"
    }
   },
   "outputs": [],
   "source": [
    "def LSI_func(data,  num_topics = 30):\n",
    "  tfidf_matrix, tfidf_vectorizer = TF_IDF_func(data)\n",
    "  lsa = TruncatedSVD(n_components=num_topics)\n",
    "  data_lsa = lsa.fit_transform(tfidf_matrix)\n",
    "  return data_lsa, lsa, tfidf_vectorizer"
   ]
  },
  {
   "cell_type": "raw",
   "source": [
    "lsa_data, lsa, tfidf_vectorizer = LSI_func(data)\n",
    "lsa_data"
   ],
   "metadata": {
    "collapsed": false
   }
  },
  {
   "cell_type": "raw",
   "source": [
    "terms = tfidf_vectorizer.get_feature_names_out()\n",
    "for i, topic in enumerate(lsa.components_):\n",
    "    top_words_idx = topic.argsort()[-10:][::-1]\n",
    "    top_words = [terms[idx] for idx in top_words_idx]\n",
    "    print(f\"Topic {i+1}: {', '.join(top_words)}\")\n"
   ],
   "metadata": {
    "collapsed": false
   }
  },
  {
   "cell_type": "markdown",
   "metadata": {
    "id": "6INZysTL3A27"
   },
   "source": [
    "# Models"
   ]
  },
  {
   "cell_type": "code",
   "execution_count": 12,
   "metadata": {
    "id": "NfxJR2K82-SN",
    "executionInfo": {
     "status": "ok",
     "timestamp": 1700076594843,
     "user_tz": 300,
     "elapsed": 148,
     "user": {
      "displayName": "Thiago Yoshimura",
      "userId": "04877688367996314129"
     }
    },
    "ExecuteTime": {
     "end_time": "2023-11-15T22:11:03.042349609Z",
     "start_time": "2023-11-15T22:11:03.042010290Z"
    }
   },
   "outputs": [],
   "source": [
    "def model(X, y):\n",
    "    X_train, X_test, y_train, y_test = train_test_split(X, y, test_size=0.2, random_state=42)\n",
    "    clf = RandomForestClassifier(n_jobs=-1)\n",
    "    clf.fit(X_train, y_train)\n",
    "    predictions = clf.predict(X_test)\n",
    "    rdf_accuracy = accuracy_score(y_test, predictions)\n",
    "    rdf_f1 = f1_score(y_test, predictions, average='weighted')\n",
    "    return rdf_accuracy, rdf_f1\n"
   ]
  },
  {
   "cell_type": "raw",
   "source": [
    "%%time\n",
    "X_tfidf,_ = TF_IDF_func(data,0.5)\n",
    "acc, f1 = model(X_tfidf, data['label'] )\n",
    "print(acc)\n",
    "print(f1)"
   ],
   "metadata": {
    "collapsed": false
   }
  },
  {
   "cell_type": "markdown",
   "source": [
    "# Code"
   ],
   "metadata": {
    "id": "fcWN-N6CLOSf"
   }
  },
  {
   "cell_type": "raw",
   "source": [
    "# remove_stop_words, ponct_func, lowercase_func, steamming_func, TF_IDF_func\n",
    "%%time\n",
    "df = lowercase_func(data)\n",
    "df = puntuation_remov_func(df)\n",
    "df = remove_stop_words(df)\n",
    "df = lemmatization_func(df)\n",
    "X_tfidf, _ = TF_IDF_func(df)\n"
   ],
   "metadata": {
    "collapsed": false
   }
  },
  {
   "cell_type": "code",
   "source": [
    "metrics_data = pd.DataFrame({})\n",
    "metrics_data[['Description','num_features', 'pipe_time', 'f1_rdf', 'acc_rdf']]=\"\"\n",
    "metrics_data\n"
   ],
   "metadata": {
    "colab": {
     "base_uri": "https://localhost:8080/",
     "height": 53
    },
    "id": "asOj0AN-U5hV",
    "executionInfo": {
     "status": "ok",
     "timestamp": 1700076322464,
     "user_tz": 300,
     "elapsed": 12,
     "user": {
      "displayName": "Thiago Yoshimura",
      "userId": "04877688367996314129"
     }
    },
    "outputId": "cfd7aaee-35df-489b-ddd7-971488806cb1",
    "ExecuteTime": {
     "end_time": "2023-11-15T22:11:03.043551036Z",
     "start_time": "2023-11-15T22:11:03.042188884Z"
    }
   },
   "execution_count": 13,
   "outputs": [
    {
     "data": {
      "text/plain": "Empty DataFrame\nColumns: [Description, num_features, pipe_time, f1_rdf, acc_rdf]\nIndex: []",
      "text/html": "<div>\n<style scoped>\n    .dataframe tbody tr th:only-of-type {\n        vertical-align: middle;\n    }\n\n    .dataframe tbody tr th {\n        vertical-align: top;\n    }\n\n    .dataframe thead th {\n        text-align: right;\n    }\n</style>\n<table border=\"1\" class=\"dataframe\">\n  <thead>\n    <tr style=\"text-align: right;\">\n      <th></th>\n      <th>Description</th>\n      <th>num_features</th>\n      <th>pipe_time</th>\n      <th>f1_rdf</th>\n      <th>acc_rdf</th>\n    </tr>\n  </thead>\n  <tbody>\n  </tbody>\n</table>\n</div>"
     },
     "execution_count": 13,
     "metadata": {},
     "output_type": "execute_result"
    }
   ]
  },
  {
   "cell_type": "code",
   "execution_count": 14,
   "outputs": [
    {
     "data": {
      "text/plain": "(37390, 2)"
     },
     "execution_count": 14,
     "metadata": {},
     "output_type": "execute_result"
    }
   ],
   "source": [
    "data.shape"
   ],
   "metadata": {
    "collapsed": false,
    "ExecuteTime": {
     "end_time": "2023-11-15T22:11:03.044500834Z",
     "start_time": "2023-11-15T22:11:03.042268965Z"
    }
   }
  },
  {
   "cell_type": "code",
   "source": [
    "def pipe_1(data):\n",
    "    start_time = time.time()\n",
    "    \n",
    "    #preprocesing\n",
    "    X, _ = TF_IDF_func(data, 1)\n",
    "    y = data['label']\n",
    "    description = 'tfidf'\n",
    "    \n",
    "    # call the model\n",
    "    acc_rdf, f1_rdf = model(X, y)\n",
    "    \n",
    "    end_time = time.time()\n",
    "\n",
    "    num_features = X.shape[1]\n",
    "    pipe_time = end_time - start_time\n",
    "    pipe_time = format(pipe_time, '.3f')\n",
    "    \n",
    "\n",
    "    metrics_data.loc[len(metrics_data.index)] = [description, num_features,  pipe_time,  f1_rdf,  acc_rdf]\n",
    "\n",
    "pipe_1(data)\n",
    "metrics_data"
   ],
   "metadata": {
    "id": "ORePDvV7U7qZ",
    "ExecuteTime": {
     "end_time": "2023-11-15T22:11:14.662658956Z",
     "start_time": "2023-11-15T22:11:03.042331232Z"
    }
   },
   "execution_count": 15,
   "outputs": [
    {
     "name": "stderr",
     "output_type": "stream",
     "text": [
      "/home/daniel/anaconda3/envs/cv/lib/python3.11/site-packages/sklearn/utils/validation.py:605: FutureWarning: is_sparse is deprecated and will be removed in a future version. Check `isinstance(dtype, pd.SparseDtype)` instead.\n",
      "  if is_sparse(pd_dtype):\n",
      "/home/daniel/anaconda3/envs/cv/lib/python3.11/site-packages/sklearn/utils/validation.py:614: FutureWarning: is_sparse is deprecated and will be removed in a future version. Check `isinstance(dtype, pd.SparseDtype)` instead.\n",
      "  if is_sparse(pd_dtype) or not is_extension_array_dtype(pd_dtype):\n",
      "/home/daniel/anaconda3/envs/cv/lib/python3.11/site-packages/sklearn/utils/validation.py:605: FutureWarning: is_sparse is deprecated and will be removed in a future version. Check `isinstance(dtype, pd.SparseDtype)` instead.\n",
      "  if is_sparse(pd_dtype):\n",
      "/home/daniel/anaconda3/envs/cv/lib/python3.11/site-packages/sklearn/utils/validation.py:614: FutureWarning: is_sparse is deprecated and will be removed in a future version. Check `isinstance(dtype, pd.SparseDtype)` instead.\n",
      "  if is_sparse(pd_dtype) or not is_extension_array_dtype(pd_dtype):\n",
      "/home/daniel/anaconda3/envs/cv/lib/python3.11/site-packages/sklearn/utils/validation.py:605: FutureWarning: is_sparse is deprecated and will be removed in a future version. Check `isinstance(dtype, pd.SparseDtype)` instead.\n",
      "  if is_sparse(pd_dtype):\n",
      "/home/daniel/anaconda3/envs/cv/lib/python3.11/site-packages/sklearn/utils/validation.py:614: FutureWarning: is_sparse is deprecated and will be removed in a future version. Check `isinstance(dtype, pd.SparseDtype)` instead.\n",
      "  if is_sparse(pd_dtype) or not is_extension_array_dtype(pd_dtype):\n",
      "/home/daniel/anaconda3/envs/cv/lib/python3.11/site-packages/sklearn/utils/validation.py:605: FutureWarning: is_sparse is deprecated and will be removed in a future version. Check `isinstance(dtype, pd.SparseDtype)` instead.\n",
      "  if is_sparse(pd_dtype):\n",
      "/home/daniel/anaconda3/envs/cv/lib/python3.11/site-packages/sklearn/utils/validation.py:614: FutureWarning: is_sparse is deprecated and will be removed in a future version. Check `isinstance(dtype, pd.SparseDtype)` instead.\n",
      "  if is_sparse(pd_dtype) or not is_extension_array_dtype(pd_dtype):\n",
      "/home/daniel/anaconda3/envs/cv/lib/python3.11/site-packages/sklearn/utils/validation.py:605: FutureWarning: is_sparse is deprecated and will be removed in a future version. Check `isinstance(dtype, pd.SparseDtype)` instead.\n",
      "  if is_sparse(pd_dtype):\n",
      "/home/daniel/anaconda3/envs/cv/lib/python3.11/site-packages/sklearn/utils/validation.py:614: FutureWarning: is_sparse is deprecated and will be removed in a future version. Check `isinstance(dtype, pd.SparseDtype)` instead.\n",
      "  if is_sparse(pd_dtype) or not is_extension_array_dtype(pd_dtype):\n",
      "/home/daniel/anaconda3/envs/cv/lib/python3.11/site-packages/sklearn/utils/validation.py:605: FutureWarning: is_sparse is deprecated and will be removed in a future version. Check `isinstance(dtype, pd.SparseDtype)` instead.\n",
      "  if is_sparse(pd_dtype):\n",
      "/home/daniel/anaconda3/envs/cv/lib/python3.11/site-packages/sklearn/utils/validation.py:614: FutureWarning: is_sparse is deprecated and will be removed in a future version. Check `isinstance(dtype, pd.SparseDtype)` instead.\n",
      "  if is_sparse(pd_dtype) or not is_extension_array_dtype(pd_dtype):\n",
      "/home/daniel/anaconda3/envs/cv/lib/python3.11/site-packages/sklearn/utils/validation.py:605: FutureWarning: is_sparse is deprecated and will be removed in a future version. Check `isinstance(dtype, pd.SparseDtype)` instead.\n",
      "  if is_sparse(pd_dtype):\n",
      "/home/daniel/anaconda3/envs/cv/lib/python3.11/site-packages/sklearn/utils/validation.py:614: FutureWarning: is_sparse is deprecated and will be removed in a future version. Check `isinstance(dtype, pd.SparseDtype)` instead.\n",
      "  if is_sparse(pd_dtype) or not is_extension_array_dtype(pd_dtype):\n",
      "/home/daniel/anaconda3/envs/cv/lib/python3.11/site-packages/sklearn/utils/validation.py:605: FutureWarning: is_sparse is deprecated and will be removed in a future version. Check `isinstance(dtype, pd.SparseDtype)` instead.\n",
      "  if is_sparse(pd_dtype):\n",
      "/home/daniel/anaconda3/envs/cv/lib/python3.11/site-packages/sklearn/utils/validation.py:614: FutureWarning: is_sparse is deprecated and will be removed in a future version. Check `isinstance(dtype, pd.SparseDtype)` instead.\n",
      "  if is_sparse(pd_dtype) or not is_extension_array_dtype(pd_dtype):\n",
      "/home/daniel/anaconda3/envs/cv/lib/python3.11/site-packages/sklearn/utils/validation.py:605: FutureWarning: is_sparse is deprecated and will be removed in a future version. Check `isinstance(dtype, pd.SparseDtype)` instead.\n",
      "  if is_sparse(pd_dtype):\n",
      "/home/daniel/anaconda3/envs/cv/lib/python3.11/site-packages/sklearn/utils/validation.py:614: FutureWarning: is_sparse is deprecated and will be removed in a future version. Check `isinstance(dtype, pd.SparseDtype)` instead.\n",
      "  if is_sparse(pd_dtype) or not is_extension_array_dtype(pd_dtype):\n",
      "/home/daniel/anaconda3/envs/cv/lib/python3.11/site-packages/sklearn/utils/validation.py:605: FutureWarning: is_sparse is deprecated and will be removed in a future version. Check `isinstance(dtype, pd.SparseDtype)` instead.\n",
      "  if is_sparse(pd_dtype):\n",
      "/home/daniel/anaconda3/envs/cv/lib/python3.11/site-packages/sklearn/utils/validation.py:614: FutureWarning: is_sparse is deprecated and will be removed in a future version. Check `isinstance(dtype, pd.SparseDtype)` instead.\n",
      "  if is_sparse(pd_dtype) or not is_extension_array_dtype(pd_dtype):\n"
     ]
    },
    {
     "data": {
      "text/plain": "  Description  num_features pipe_time    f1_rdf   acc_rdf\n0       tfidf          8598    11.629  0.686943  0.706339",
      "text/html": "<div>\n<style scoped>\n    .dataframe tbody tr th:only-of-type {\n        vertical-align: middle;\n    }\n\n    .dataframe tbody tr th {\n        vertical-align: top;\n    }\n\n    .dataframe thead th {\n        text-align: right;\n    }\n</style>\n<table border=\"1\" class=\"dataframe\">\n  <thead>\n    <tr style=\"text-align: right;\">\n      <th></th>\n      <th>Description</th>\n      <th>num_features</th>\n      <th>pipe_time</th>\n      <th>f1_rdf</th>\n      <th>acc_rdf</th>\n    </tr>\n  </thead>\n  <tbody>\n    <tr>\n      <th>0</th>\n      <td>tfidf</td>\n      <td>8598</td>\n      <td>11.629</td>\n      <td>0.686943</td>\n      <td>0.706339</td>\n    </tr>\n  </tbody>\n</table>\n</div>"
     },
     "execution_count": 15,
     "metadata": {},
     "output_type": "execute_result"
    }
   ]
  },
  {
   "cell_type": "code",
   "execution_count": 16,
   "outputs": [
    {
     "name": "stderr",
     "output_type": "stream",
     "text": [
      "/home/daniel/anaconda3/envs/cv/lib/python3.11/site-packages/sklearn/utils/validation.py:605: FutureWarning: is_sparse is deprecated and will be removed in a future version. Check `isinstance(dtype, pd.SparseDtype)` instead.\n",
      "  if is_sparse(pd_dtype):\n",
      "/home/daniel/anaconda3/envs/cv/lib/python3.11/site-packages/sklearn/utils/validation.py:614: FutureWarning: is_sparse is deprecated and will be removed in a future version. Check `isinstance(dtype, pd.SparseDtype)` instead.\n",
      "  if is_sparse(pd_dtype) or not is_extension_array_dtype(pd_dtype):\n",
      "/home/daniel/anaconda3/envs/cv/lib/python3.11/site-packages/sklearn/utils/validation.py:605: FutureWarning: is_sparse is deprecated and will be removed in a future version. Check `isinstance(dtype, pd.SparseDtype)` instead.\n",
      "  if is_sparse(pd_dtype):\n",
      "/home/daniel/anaconda3/envs/cv/lib/python3.11/site-packages/sklearn/utils/validation.py:614: FutureWarning: is_sparse is deprecated and will be removed in a future version. Check `isinstance(dtype, pd.SparseDtype)` instead.\n",
      "  if is_sparse(pd_dtype) or not is_extension_array_dtype(pd_dtype):\n",
      "/home/daniel/anaconda3/envs/cv/lib/python3.11/site-packages/sklearn/utils/validation.py:605: FutureWarning: is_sparse is deprecated and will be removed in a future version. Check `isinstance(dtype, pd.SparseDtype)` instead.\n",
      "  if is_sparse(pd_dtype):\n",
      "/home/daniel/anaconda3/envs/cv/lib/python3.11/site-packages/sklearn/utils/validation.py:614: FutureWarning: is_sparse is deprecated and will be removed in a future version. Check `isinstance(dtype, pd.SparseDtype)` instead.\n",
      "  if is_sparse(pd_dtype) or not is_extension_array_dtype(pd_dtype):\n",
      "/home/daniel/anaconda3/envs/cv/lib/python3.11/site-packages/sklearn/utils/validation.py:605: FutureWarning: is_sparse is deprecated and will be removed in a future version. Check `isinstance(dtype, pd.SparseDtype)` instead.\n",
      "  if is_sparse(pd_dtype):\n",
      "/home/daniel/anaconda3/envs/cv/lib/python3.11/site-packages/sklearn/utils/validation.py:614: FutureWarning: is_sparse is deprecated and will be removed in a future version. Check `isinstance(dtype, pd.SparseDtype)` instead.\n",
      "  if is_sparse(pd_dtype) or not is_extension_array_dtype(pd_dtype):\n",
      "/home/daniel/anaconda3/envs/cv/lib/python3.11/site-packages/sklearn/utils/validation.py:605: FutureWarning: is_sparse is deprecated and will be removed in a future version. Check `isinstance(dtype, pd.SparseDtype)` instead.\n",
      "  if is_sparse(pd_dtype):\n",
      "/home/daniel/anaconda3/envs/cv/lib/python3.11/site-packages/sklearn/utils/validation.py:614: FutureWarning: is_sparse is deprecated and will be removed in a future version. Check `isinstance(dtype, pd.SparseDtype)` instead.\n",
      "  if is_sparse(pd_dtype) or not is_extension_array_dtype(pd_dtype):\n",
      "/home/daniel/anaconda3/envs/cv/lib/python3.11/site-packages/sklearn/utils/validation.py:605: FutureWarning: is_sparse is deprecated and will be removed in a future version. Check `isinstance(dtype, pd.SparseDtype)` instead.\n",
      "  if is_sparse(pd_dtype):\n",
      "/home/daniel/anaconda3/envs/cv/lib/python3.11/site-packages/sklearn/utils/validation.py:614: FutureWarning: is_sparse is deprecated and will be removed in a future version. Check `isinstance(dtype, pd.SparseDtype)` instead.\n",
      "  if is_sparse(pd_dtype) or not is_extension_array_dtype(pd_dtype):\n",
      "/home/daniel/anaconda3/envs/cv/lib/python3.11/site-packages/sklearn/utils/validation.py:605: FutureWarning: is_sparse is deprecated and will be removed in a future version. Check `isinstance(dtype, pd.SparseDtype)` instead.\n",
      "  if is_sparse(pd_dtype):\n",
      "/home/daniel/anaconda3/envs/cv/lib/python3.11/site-packages/sklearn/utils/validation.py:614: FutureWarning: is_sparse is deprecated and will be removed in a future version. Check `isinstance(dtype, pd.SparseDtype)` instead.\n",
      "  if is_sparse(pd_dtype) or not is_extension_array_dtype(pd_dtype):\n",
      "/home/daniel/anaconda3/envs/cv/lib/python3.11/site-packages/sklearn/utils/validation.py:605: FutureWarning: is_sparse is deprecated and will be removed in a future version. Check `isinstance(dtype, pd.SparseDtype)` instead.\n",
      "  if is_sparse(pd_dtype):\n",
      "/home/daniel/anaconda3/envs/cv/lib/python3.11/site-packages/sklearn/utils/validation.py:614: FutureWarning: is_sparse is deprecated and will be removed in a future version. Check `isinstance(dtype, pd.SparseDtype)` instead.\n",
      "  if is_sparse(pd_dtype) or not is_extension_array_dtype(pd_dtype):\n",
      "/home/daniel/anaconda3/envs/cv/lib/python3.11/site-packages/sklearn/utils/validation.py:605: FutureWarning: is_sparse is deprecated and will be removed in a future version. Check `isinstance(dtype, pd.SparseDtype)` instead.\n",
      "  if is_sparse(pd_dtype):\n",
      "/home/daniel/anaconda3/envs/cv/lib/python3.11/site-packages/sklearn/utils/validation.py:614: FutureWarning: is_sparse is deprecated and will be removed in a future version. Check `isinstance(dtype, pd.SparseDtype)` instead.\n",
      "  if is_sparse(pd_dtype) or not is_extension_array_dtype(pd_dtype):\n",
      "/home/daniel/anaconda3/envs/cv/lib/python3.11/site-packages/sklearn/utils/validation.py:605: FutureWarning: is_sparse is deprecated and will be removed in a future version. Check `isinstance(dtype, pd.SparseDtype)` instead.\n",
      "  if is_sparse(pd_dtype):\n",
      "/home/daniel/anaconda3/envs/cv/lib/python3.11/site-packages/sklearn/utils/validation.py:614: FutureWarning: is_sparse is deprecated and will be removed in a future version. Check `isinstance(dtype, pd.SparseDtype)` instead.\n",
      "  if is_sparse(pd_dtype) or not is_extension_array_dtype(pd_dtype):\n"
     ]
    },
    {
     "data": {
      "text/plain": "   Description  num_features pipe_time    f1_rdf   acc_rdf\n0        tfidf          8598    11.629  0.686943  0.706339\n1  lower-tfidf          6225    11.076  0.685206  0.705403",
      "text/html": "<div>\n<style scoped>\n    .dataframe tbody tr th:only-of-type {\n        vertical-align: middle;\n    }\n\n    .dataframe tbody tr th {\n        vertical-align: top;\n    }\n\n    .dataframe thead th {\n        text-align: right;\n    }\n</style>\n<table border=\"1\" class=\"dataframe\">\n  <thead>\n    <tr style=\"text-align: right;\">\n      <th></th>\n      <th>Description</th>\n      <th>num_features</th>\n      <th>pipe_time</th>\n      <th>f1_rdf</th>\n      <th>acc_rdf</th>\n    </tr>\n  </thead>\n  <tbody>\n    <tr>\n      <th>0</th>\n      <td>tfidf</td>\n      <td>8598</td>\n      <td>11.629</td>\n      <td>0.686943</td>\n      <td>0.706339</td>\n    </tr>\n    <tr>\n      <th>1</th>\n      <td>lower-tfidf</td>\n      <td>6225</td>\n      <td>11.076</td>\n      <td>0.685206</td>\n      <td>0.705403</td>\n    </tr>\n  </tbody>\n</table>\n</div>"
     },
     "execution_count": 16,
     "metadata": {},
     "output_type": "execute_result"
    }
   ],
   "source": [
    "def pipe_2(data):\n",
    "    start_time = time.time()\n",
    "    \n",
    "    #preprocesing\n",
    "    df = data.copy()\n",
    "    df = lowercase_func(df)\n",
    "    X, _ = TF_IDF_func(df, 1)\n",
    "    y = df['label']\n",
    "    description = 'lower-tfidf'\n",
    "    \n",
    "    # call the model\n",
    "    acc_rdf, f1_rdf = model(X, y)\n",
    "    \n",
    "    end_time = time.time()\n",
    "\n",
    "    num_features = X.shape[1]\n",
    "    pipe_time = end_time - start_time\n",
    "    pipe_time = format(pipe_time, '.3f')\n",
    "    \n",
    "\n",
    "    metrics_data.loc[len(metrics_data.index)] = [description, num_features,  pipe_time,  f1_rdf,  acc_rdf]\n",
    "\n",
    "pipe_2(data)\n",
    "metrics_data"
   ],
   "metadata": {
    "collapsed": false,
    "ExecuteTime": {
     "end_time": "2023-11-15T22:11:34.543750856Z",
     "start_time": "2023-11-15T22:11:14.698404647Z"
    }
   }
  },
  {
   "cell_type": "code",
   "execution_count": 17,
   "outputs": [
    {
     "name": "stderr",
     "output_type": "stream",
     "text": [
      "/home/daniel/anaconda3/envs/cv/lib/python3.11/site-packages/sklearn/utils/validation.py:605: FutureWarning: is_sparse is deprecated and will be removed in a future version. Check `isinstance(dtype, pd.SparseDtype)` instead.\n",
      "  if is_sparse(pd_dtype):\n",
      "/home/daniel/anaconda3/envs/cv/lib/python3.11/site-packages/sklearn/utils/validation.py:614: FutureWarning: is_sparse is deprecated and will be removed in a future version. Check `isinstance(dtype, pd.SparseDtype)` instead.\n",
      "  if is_sparse(pd_dtype) or not is_extension_array_dtype(pd_dtype):\n",
      "/home/daniel/anaconda3/envs/cv/lib/python3.11/site-packages/sklearn/utils/validation.py:605: FutureWarning: is_sparse is deprecated and will be removed in a future version. Check `isinstance(dtype, pd.SparseDtype)` instead.\n",
      "  if is_sparse(pd_dtype):\n",
      "/home/daniel/anaconda3/envs/cv/lib/python3.11/site-packages/sklearn/utils/validation.py:614: FutureWarning: is_sparse is deprecated and will be removed in a future version. Check `isinstance(dtype, pd.SparseDtype)` instead.\n",
      "  if is_sparse(pd_dtype) or not is_extension_array_dtype(pd_dtype):\n",
      "/home/daniel/anaconda3/envs/cv/lib/python3.11/site-packages/sklearn/utils/validation.py:605: FutureWarning: is_sparse is deprecated and will be removed in a future version. Check `isinstance(dtype, pd.SparseDtype)` instead.\n",
      "  if is_sparse(pd_dtype):\n",
      "/home/daniel/anaconda3/envs/cv/lib/python3.11/site-packages/sklearn/utils/validation.py:614: FutureWarning: is_sparse is deprecated and will be removed in a future version. Check `isinstance(dtype, pd.SparseDtype)` instead.\n",
      "  if is_sparse(pd_dtype) or not is_extension_array_dtype(pd_dtype):\n",
      "/home/daniel/anaconda3/envs/cv/lib/python3.11/site-packages/sklearn/utils/validation.py:605: FutureWarning: is_sparse is deprecated and will be removed in a future version. Check `isinstance(dtype, pd.SparseDtype)` instead.\n",
      "  if is_sparse(pd_dtype):\n",
      "/home/daniel/anaconda3/envs/cv/lib/python3.11/site-packages/sklearn/utils/validation.py:614: FutureWarning: is_sparse is deprecated and will be removed in a future version. Check `isinstance(dtype, pd.SparseDtype)` instead.\n",
      "  if is_sparse(pd_dtype) or not is_extension_array_dtype(pd_dtype):\n",
      "/home/daniel/anaconda3/envs/cv/lib/python3.11/site-packages/sklearn/utils/validation.py:605: FutureWarning: is_sparse is deprecated and will be removed in a future version. Check `isinstance(dtype, pd.SparseDtype)` instead.\n",
      "  if is_sparse(pd_dtype):\n",
      "/home/daniel/anaconda3/envs/cv/lib/python3.11/site-packages/sklearn/utils/validation.py:614: FutureWarning: is_sparse is deprecated and will be removed in a future version. Check `isinstance(dtype, pd.SparseDtype)` instead.\n",
      "  if is_sparse(pd_dtype) or not is_extension_array_dtype(pd_dtype):\n",
      "/home/daniel/anaconda3/envs/cv/lib/python3.11/site-packages/sklearn/utils/validation.py:605: FutureWarning: is_sparse is deprecated and will be removed in a future version. Check `isinstance(dtype, pd.SparseDtype)` instead.\n",
      "  if is_sparse(pd_dtype):\n",
      "/home/daniel/anaconda3/envs/cv/lib/python3.11/site-packages/sklearn/utils/validation.py:614: FutureWarning: is_sparse is deprecated and will be removed in a future version. Check `isinstance(dtype, pd.SparseDtype)` instead.\n",
      "  if is_sparse(pd_dtype) or not is_extension_array_dtype(pd_dtype):\n",
      "/home/daniel/anaconda3/envs/cv/lib/python3.11/site-packages/sklearn/utils/validation.py:605: FutureWarning: is_sparse is deprecated and will be removed in a future version. Check `isinstance(dtype, pd.SparseDtype)` instead.\n",
      "  if is_sparse(pd_dtype):\n",
      "/home/daniel/anaconda3/envs/cv/lib/python3.11/site-packages/sklearn/utils/validation.py:614: FutureWarning: is_sparse is deprecated and will be removed in a future version. Check `isinstance(dtype, pd.SparseDtype)` instead.\n",
      "  if is_sparse(pd_dtype) or not is_extension_array_dtype(pd_dtype):\n",
      "/home/daniel/anaconda3/envs/cv/lib/python3.11/site-packages/sklearn/utils/validation.py:605: FutureWarning: is_sparse is deprecated and will be removed in a future version. Check `isinstance(dtype, pd.SparseDtype)` instead.\n",
      "  if is_sparse(pd_dtype):\n",
      "/home/daniel/anaconda3/envs/cv/lib/python3.11/site-packages/sklearn/utils/validation.py:614: FutureWarning: is_sparse is deprecated and will be removed in a future version. Check `isinstance(dtype, pd.SparseDtype)` instead.\n",
      "  if is_sparse(pd_dtype) or not is_extension_array_dtype(pd_dtype):\n",
      "/home/daniel/anaconda3/envs/cv/lib/python3.11/site-packages/sklearn/utils/validation.py:605: FutureWarning: is_sparse is deprecated and will be removed in a future version. Check `isinstance(dtype, pd.SparseDtype)` instead.\n",
      "  if is_sparse(pd_dtype):\n",
      "/home/daniel/anaconda3/envs/cv/lib/python3.11/site-packages/sklearn/utils/validation.py:614: FutureWarning: is_sparse is deprecated and will be removed in a future version. Check `isinstance(dtype, pd.SparseDtype)` instead.\n",
      "  if is_sparse(pd_dtype) or not is_extension_array_dtype(pd_dtype):\n",
      "/home/daniel/anaconda3/envs/cv/lib/python3.11/site-packages/sklearn/utils/validation.py:605: FutureWarning: is_sparse is deprecated and will be removed in a future version. Check `isinstance(dtype, pd.SparseDtype)` instead.\n",
      "  if is_sparse(pd_dtype):\n",
      "/home/daniel/anaconda3/envs/cv/lib/python3.11/site-packages/sklearn/utils/validation.py:614: FutureWarning: is_sparse is deprecated and will be removed in a future version. Check `isinstance(dtype, pd.SparseDtype)` instead.\n",
      "  if is_sparse(pd_dtype) or not is_extension_array_dtype(pd_dtype):\n"
     ]
    },
    {
     "data": {
      "text/plain": "         Description  num_features pipe_time    f1_rdf   acc_rdf\n0              tfidf          8598    11.629  0.686943  0.706339\n1        lower-tfidf          6225    11.076  0.685206  0.705403\n2  lower-ponct-tfidf          6193     8.697  0.686105  0.705536",
      "text/html": "<div>\n<style scoped>\n    .dataframe tbody tr th:only-of-type {\n        vertical-align: middle;\n    }\n\n    .dataframe tbody tr th {\n        vertical-align: top;\n    }\n\n    .dataframe thead th {\n        text-align: right;\n    }\n</style>\n<table border=\"1\" class=\"dataframe\">\n  <thead>\n    <tr style=\"text-align: right;\">\n      <th></th>\n      <th>Description</th>\n      <th>num_features</th>\n      <th>pipe_time</th>\n      <th>f1_rdf</th>\n      <th>acc_rdf</th>\n    </tr>\n  </thead>\n  <tbody>\n    <tr>\n      <th>0</th>\n      <td>tfidf</td>\n      <td>8598</td>\n      <td>11.629</td>\n      <td>0.686943</td>\n      <td>0.706339</td>\n    </tr>\n    <tr>\n      <th>1</th>\n      <td>lower-tfidf</td>\n      <td>6225</td>\n      <td>11.076</td>\n      <td>0.685206</td>\n      <td>0.705403</td>\n    </tr>\n    <tr>\n      <th>2</th>\n      <td>lower-ponct-tfidf</td>\n      <td>6193</td>\n      <td>8.697</td>\n      <td>0.686105</td>\n      <td>0.705536</td>\n    </tr>\n  </tbody>\n</table>\n</div>"
     },
     "execution_count": 17,
     "metadata": {},
     "output_type": "execute_result"
    }
   ],
   "source": [
    "def pipe_3(data):\n",
    "    start_time = time.time()\n",
    "    \n",
    "    #preprocesing\n",
    "    df = data.copy()\n",
    "    df = lowercase_func(df)\n",
    "    df = ponctuation_remov_func(df)\n",
    "    X, _ = TF_IDF_func(df, 1)\n",
    "    y = df['label']\n",
    "    description = 'lower-ponct-tfidf'\n",
    "    \n",
    "    # call the model\n",
    "    acc_rdf, f1_rdf = model(X, y)\n",
    "    \n",
    "    end_time = time.time()\n",
    "\n",
    "    num_features = X.shape[1]\n",
    "    pipe_time = end_time - start_time\n",
    "    pipe_time = format(pipe_time, '.3f')\n",
    "    \n",
    "\n",
    "    metrics_data.loc[len(metrics_data.index)] = [description, num_features,  pipe_time,  f1_rdf,  acc_rdf]\n",
    "\n",
    "pipe_3(data)\n",
    "metrics_data"
   ],
   "metadata": {
    "collapsed": false,
    "ExecuteTime": {
     "end_time": "2023-11-15T22:11:34.792996297Z",
     "start_time": "2023-11-15T22:11:25.779658142Z"
    }
   }
  },
  {
   "cell_type": "code",
   "execution_count": 18,
   "outputs": [
    {
     "name": "stderr",
     "output_type": "stream",
     "text": [
      "/home/daniel/anaconda3/envs/cv/lib/python3.11/site-packages/sklearn/utils/validation.py:605: FutureWarning: is_sparse is deprecated and will be removed in a future version. Check `isinstance(dtype, pd.SparseDtype)` instead.\n",
      "  if is_sparse(pd_dtype):\n",
      "/home/daniel/anaconda3/envs/cv/lib/python3.11/site-packages/sklearn/utils/validation.py:614: FutureWarning: is_sparse is deprecated and will be removed in a future version. Check `isinstance(dtype, pd.SparseDtype)` instead.\n",
      "  if is_sparse(pd_dtype) or not is_extension_array_dtype(pd_dtype):\n",
      "/home/daniel/anaconda3/envs/cv/lib/python3.11/site-packages/sklearn/utils/validation.py:605: FutureWarning: is_sparse is deprecated and will be removed in a future version. Check `isinstance(dtype, pd.SparseDtype)` instead.\n",
      "  if is_sparse(pd_dtype):\n",
      "/home/daniel/anaconda3/envs/cv/lib/python3.11/site-packages/sklearn/utils/validation.py:614: FutureWarning: is_sparse is deprecated and will be removed in a future version. Check `isinstance(dtype, pd.SparseDtype)` instead.\n",
      "  if is_sparse(pd_dtype) or not is_extension_array_dtype(pd_dtype):\n",
      "/home/daniel/anaconda3/envs/cv/lib/python3.11/site-packages/sklearn/utils/validation.py:605: FutureWarning: is_sparse is deprecated and will be removed in a future version. Check `isinstance(dtype, pd.SparseDtype)` instead.\n",
      "  if is_sparse(pd_dtype):\n",
      "/home/daniel/anaconda3/envs/cv/lib/python3.11/site-packages/sklearn/utils/validation.py:614: FutureWarning: is_sparse is deprecated and will be removed in a future version. Check `isinstance(dtype, pd.SparseDtype)` instead.\n",
      "  if is_sparse(pd_dtype) or not is_extension_array_dtype(pd_dtype):\n",
      "/home/daniel/anaconda3/envs/cv/lib/python3.11/site-packages/sklearn/utils/validation.py:605: FutureWarning: is_sparse is deprecated and will be removed in a future version. Check `isinstance(dtype, pd.SparseDtype)` instead.\n",
      "  if is_sparse(pd_dtype):\n",
      "/home/daniel/anaconda3/envs/cv/lib/python3.11/site-packages/sklearn/utils/validation.py:614: FutureWarning: is_sparse is deprecated and will be removed in a future version. Check `isinstance(dtype, pd.SparseDtype)` instead.\n",
      "  if is_sparse(pd_dtype) or not is_extension_array_dtype(pd_dtype):\n",
      "/home/daniel/anaconda3/envs/cv/lib/python3.11/site-packages/sklearn/utils/validation.py:605: FutureWarning: is_sparse is deprecated and will be removed in a future version. Check `isinstance(dtype, pd.SparseDtype)` instead.\n",
      "  if is_sparse(pd_dtype):\n",
      "/home/daniel/anaconda3/envs/cv/lib/python3.11/site-packages/sklearn/utils/validation.py:614: FutureWarning: is_sparse is deprecated and will be removed in a future version. Check `isinstance(dtype, pd.SparseDtype)` instead.\n",
      "  if is_sparse(pd_dtype) or not is_extension_array_dtype(pd_dtype):\n",
      "/home/daniel/anaconda3/envs/cv/lib/python3.11/site-packages/sklearn/utils/validation.py:605: FutureWarning: is_sparse is deprecated and will be removed in a future version. Check `isinstance(dtype, pd.SparseDtype)` instead.\n",
      "  if is_sparse(pd_dtype):\n",
      "/home/daniel/anaconda3/envs/cv/lib/python3.11/site-packages/sklearn/utils/validation.py:614: FutureWarning: is_sparse is deprecated and will be removed in a future version. Check `isinstance(dtype, pd.SparseDtype)` instead.\n",
      "  if is_sparse(pd_dtype) or not is_extension_array_dtype(pd_dtype):\n",
      "/home/daniel/anaconda3/envs/cv/lib/python3.11/site-packages/sklearn/utils/validation.py:605: FutureWarning: is_sparse is deprecated and will be removed in a future version. Check `isinstance(dtype, pd.SparseDtype)` instead.\n",
      "  if is_sparse(pd_dtype):\n",
      "/home/daniel/anaconda3/envs/cv/lib/python3.11/site-packages/sklearn/utils/validation.py:614: FutureWarning: is_sparse is deprecated and will be removed in a future version. Check `isinstance(dtype, pd.SparseDtype)` instead.\n",
      "  if is_sparse(pd_dtype) or not is_extension_array_dtype(pd_dtype):\n",
      "/home/daniel/anaconda3/envs/cv/lib/python3.11/site-packages/sklearn/utils/validation.py:605: FutureWarning: is_sparse is deprecated and will be removed in a future version. Check `isinstance(dtype, pd.SparseDtype)` instead.\n",
      "  if is_sparse(pd_dtype):\n",
      "/home/daniel/anaconda3/envs/cv/lib/python3.11/site-packages/sklearn/utils/validation.py:614: FutureWarning: is_sparse is deprecated and will be removed in a future version. Check `isinstance(dtype, pd.SparseDtype)` instead.\n",
      "  if is_sparse(pd_dtype) or not is_extension_array_dtype(pd_dtype):\n",
      "/home/daniel/anaconda3/envs/cv/lib/python3.11/site-packages/sklearn/utils/validation.py:605: FutureWarning: is_sparse is deprecated and will be removed in a future version. Check `isinstance(dtype, pd.SparseDtype)` instead.\n",
      "  if is_sparse(pd_dtype):\n",
      "/home/daniel/anaconda3/envs/cv/lib/python3.11/site-packages/sklearn/utils/validation.py:614: FutureWarning: is_sparse is deprecated and will be removed in a future version. Check `isinstance(dtype, pd.SparseDtype)` instead.\n",
      "  if is_sparse(pd_dtype) or not is_extension_array_dtype(pd_dtype):\n",
      "/home/daniel/anaconda3/envs/cv/lib/python3.11/site-packages/sklearn/utils/validation.py:605: FutureWarning: is_sparse is deprecated and will be removed in a future version. Check `isinstance(dtype, pd.SparseDtype)` instead.\n",
      "  if is_sparse(pd_dtype):\n",
      "/home/daniel/anaconda3/envs/cv/lib/python3.11/site-packages/sklearn/utils/validation.py:614: FutureWarning: is_sparse is deprecated and will be removed in a future version. Check `isinstance(dtype, pd.SparseDtype)` instead.\n",
      "  if is_sparse(pd_dtype) or not is_extension_array_dtype(pd_dtype):\n"
     ]
    },
    {
     "data": {
      "text/plain": "               Description  num_features pipe_time    f1_rdf   acc_rdf\n0                    tfidf          8598    11.629  0.686943  0.706339\n1              lower-tfidf          6225    11.076  0.685206  0.705403\n2        lower-ponct-tfidf          6193     8.697  0.686105  0.705536\n3  lower-ponct-stopw-tfidf          6142    11.360  0.695123  0.712490",
      "text/html": "<div>\n<style scoped>\n    .dataframe tbody tr th:only-of-type {\n        vertical-align: middle;\n    }\n\n    .dataframe tbody tr th {\n        vertical-align: top;\n    }\n\n    .dataframe thead th {\n        text-align: right;\n    }\n</style>\n<table border=\"1\" class=\"dataframe\">\n  <thead>\n    <tr style=\"text-align: right;\">\n      <th></th>\n      <th>Description</th>\n      <th>num_features</th>\n      <th>pipe_time</th>\n      <th>f1_rdf</th>\n      <th>acc_rdf</th>\n    </tr>\n  </thead>\n  <tbody>\n    <tr>\n      <th>0</th>\n      <td>tfidf</td>\n      <td>8598</td>\n      <td>11.629</td>\n      <td>0.686943</td>\n      <td>0.706339</td>\n    </tr>\n    <tr>\n      <th>1</th>\n      <td>lower-tfidf</td>\n      <td>6225</td>\n      <td>11.076</td>\n      <td>0.685206</td>\n      <td>0.705403</td>\n    </tr>\n    <tr>\n      <th>2</th>\n      <td>lower-ponct-tfidf</td>\n      <td>6193</td>\n      <td>8.697</td>\n      <td>0.686105</td>\n      <td>0.705536</td>\n    </tr>\n    <tr>\n      <th>3</th>\n      <td>lower-ponct-stopw-tfidf</td>\n      <td>6142</td>\n      <td>11.360</td>\n      <td>0.695123</td>\n      <td>0.712490</td>\n    </tr>\n  </tbody>\n</table>\n</div>"
     },
     "execution_count": 18,
     "metadata": {},
     "output_type": "execute_result"
    }
   ],
   "source": [
    "def pipe_4(data):\n",
    "    start_time = time.time()\n",
    "    \n",
    "    #preprocesing\n",
    "    df = data.copy()\n",
    "    df = lowercase_func(df)\n",
    "    df = ponctuation_remov_func(df)\n",
    "    df = remove_stop_words(df)\n",
    "    X, _ = TF_IDF_func(df, 1)\n",
    "    y = df['label']\n",
    "    description = 'lower-ponct-stopw-tfidf'\n",
    "    \n",
    "    # call the model\n",
    "    acc_rdf, f1_rdf = model(X, y)\n",
    "    \n",
    "    end_time = time.time()\n",
    "\n",
    "    num_features = X.shape[1]\n",
    "    pipe_time = end_time - start_time\n",
    "    pipe_time = format(pipe_time, '.3f')\n",
    "    \n",
    "\n",
    "    metrics_data.loc[len(metrics_data.index)] = [description, num_features,  pipe_time,  f1_rdf,  acc_rdf]\n",
    "\n",
    "pipe_4(data)\n",
    "metrics_data"
   ],
   "metadata": {
    "collapsed": false,
    "ExecuteTime": {
     "end_time": "2023-11-15T22:11:45.830805252Z",
     "start_time": "2023-11-15T22:11:34.497744796Z"
    }
   }
  },
  {
   "cell_type": "code",
   "execution_count": 19,
   "outputs": [
    {
     "name": "stderr",
     "output_type": "stream",
     "text": [
      "/home/daniel/anaconda3/envs/cv/lib/python3.11/site-packages/sklearn/utils/validation.py:605: FutureWarning: is_sparse is deprecated and will be removed in a future version. Check `isinstance(dtype, pd.SparseDtype)` instead.\n",
      "  if is_sparse(pd_dtype):\n",
      "/home/daniel/anaconda3/envs/cv/lib/python3.11/site-packages/sklearn/utils/validation.py:614: FutureWarning: is_sparse is deprecated and will be removed in a future version. Check `isinstance(dtype, pd.SparseDtype)` instead.\n",
      "  if is_sparse(pd_dtype) or not is_extension_array_dtype(pd_dtype):\n",
      "/home/daniel/anaconda3/envs/cv/lib/python3.11/site-packages/sklearn/utils/validation.py:605: FutureWarning: is_sparse is deprecated and will be removed in a future version. Check `isinstance(dtype, pd.SparseDtype)` instead.\n",
      "  if is_sparse(pd_dtype):\n",
      "/home/daniel/anaconda3/envs/cv/lib/python3.11/site-packages/sklearn/utils/validation.py:614: FutureWarning: is_sparse is deprecated and will be removed in a future version. Check `isinstance(dtype, pd.SparseDtype)` instead.\n",
      "  if is_sparse(pd_dtype) or not is_extension_array_dtype(pd_dtype):\n",
      "/home/daniel/anaconda3/envs/cv/lib/python3.11/site-packages/sklearn/utils/validation.py:605: FutureWarning: is_sparse is deprecated and will be removed in a future version. Check `isinstance(dtype, pd.SparseDtype)` instead.\n",
      "  if is_sparse(pd_dtype):\n",
      "/home/daniel/anaconda3/envs/cv/lib/python3.11/site-packages/sklearn/utils/validation.py:614: FutureWarning: is_sparse is deprecated and will be removed in a future version. Check `isinstance(dtype, pd.SparseDtype)` instead.\n",
      "  if is_sparse(pd_dtype) or not is_extension_array_dtype(pd_dtype):\n",
      "/home/daniel/anaconda3/envs/cv/lib/python3.11/site-packages/sklearn/utils/validation.py:605: FutureWarning: is_sparse is deprecated and will be removed in a future version. Check `isinstance(dtype, pd.SparseDtype)` instead.\n",
      "  if is_sparse(pd_dtype):\n",
      "/home/daniel/anaconda3/envs/cv/lib/python3.11/site-packages/sklearn/utils/validation.py:614: FutureWarning: is_sparse is deprecated and will be removed in a future version. Check `isinstance(dtype, pd.SparseDtype)` instead.\n",
      "  if is_sparse(pd_dtype) or not is_extension_array_dtype(pd_dtype):\n",
      "/home/daniel/anaconda3/envs/cv/lib/python3.11/site-packages/sklearn/utils/validation.py:605: FutureWarning: is_sparse is deprecated and will be removed in a future version. Check `isinstance(dtype, pd.SparseDtype)` instead.\n",
      "  if is_sparse(pd_dtype):\n",
      "/home/daniel/anaconda3/envs/cv/lib/python3.11/site-packages/sklearn/utils/validation.py:614: FutureWarning: is_sparse is deprecated and will be removed in a future version. Check `isinstance(dtype, pd.SparseDtype)` instead.\n",
      "  if is_sparse(pd_dtype) or not is_extension_array_dtype(pd_dtype):\n",
      "/home/daniel/anaconda3/envs/cv/lib/python3.11/site-packages/sklearn/utils/validation.py:605: FutureWarning: is_sparse is deprecated and will be removed in a future version. Check `isinstance(dtype, pd.SparseDtype)` instead.\n",
      "  if is_sparse(pd_dtype):\n",
      "/home/daniel/anaconda3/envs/cv/lib/python3.11/site-packages/sklearn/utils/validation.py:614: FutureWarning: is_sparse is deprecated and will be removed in a future version. Check `isinstance(dtype, pd.SparseDtype)` instead.\n",
      "  if is_sparse(pd_dtype) or not is_extension_array_dtype(pd_dtype):\n",
      "/home/daniel/anaconda3/envs/cv/lib/python3.11/site-packages/sklearn/utils/validation.py:605: FutureWarning: is_sparse is deprecated and will be removed in a future version. Check `isinstance(dtype, pd.SparseDtype)` instead.\n",
      "  if is_sparse(pd_dtype):\n",
      "/home/daniel/anaconda3/envs/cv/lib/python3.11/site-packages/sklearn/utils/validation.py:614: FutureWarning: is_sparse is deprecated and will be removed in a future version. Check `isinstance(dtype, pd.SparseDtype)` instead.\n",
      "  if is_sparse(pd_dtype) or not is_extension_array_dtype(pd_dtype):\n",
      "/home/daniel/anaconda3/envs/cv/lib/python3.11/site-packages/sklearn/utils/validation.py:605: FutureWarning: is_sparse is deprecated and will be removed in a future version. Check `isinstance(dtype, pd.SparseDtype)` instead.\n",
      "  if is_sparse(pd_dtype):\n",
      "/home/daniel/anaconda3/envs/cv/lib/python3.11/site-packages/sklearn/utils/validation.py:614: FutureWarning: is_sparse is deprecated and will be removed in a future version. Check `isinstance(dtype, pd.SparseDtype)` instead.\n",
      "  if is_sparse(pd_dtype) or not is_extension_array_dtype(pd_dtype):\n",
      "/home/daniel/anaconda3/envs/cv/lib/python3.11/site-packages/sklearn/utils/validation.py:605: FutureWarning: is_sparse is deprecated and will be removed in a future version. Check `isinstance(dtype, pd.SparseDtype)` instead.\n",
      "  if is_sparse(pd_dtype):\n",
      "/home/daniel/anaconda3/envs/cv/lib/python3.11/site-packages/sklearn/utils/validation.py:614: FutureWarning: is_sparse is deprecated and will be removed in a future version. Check `isinstance(dtype, pd.SparseDtype)` instead.\n",
      "  if is_sparse(pd_dtype) or not is_extension_array_dtype(pd_dtype):\n",
      "/home/daniel/anaconda3/envs/cv/lib/python3.11/site-packages/sklearn/utils/validation.py:605: FutureWarning: is_sparse is deprecated and will be removed in a future version. Check `isinstance(dtype, pd.SparseDtype)` instead.\n",
      "  if is_sparse(pd_dtype):\n",
      "/home/daniel/anaconda3/envs/cv/lib/python3.11/site-packages/sklearn/utils/validation.py:614: FutureWarning: is_sparse is deprecated and will be removed in a future version. Check `isinstance(dtype, pd.SparseDtype)` instead.\n",
      "  if is_sparse(pd_dtype) or not is_extension_array_dtype(pd_dtype):\n"
     ]
    },
    {
     "data": {
      "text/plain": "                     Description  num_features pipe_time    f1_rdf   acc_rdf\n0                          tfidf          8598    11.629  0.686943  0.706339\n1                    lower-tfidf          6225    11.076  0.685206  0.705403\n2              lower-ponct-tfidf          6193     8.697  0.686105  0.705536\n3        lower-ponct-stopw-tfidf          6142    11.360  0.695123  0.712490\n4  lower-ponct-stopw-lemma-tfidf          4946   148.964  0.703538  0.720647",
      "text/html": "<div>\n<style scoped>\n    .dataframe tbody tr th:only-of-type {\n        vertical-align: middle;\n    }\n\n    .dataframe tbody tr th {\n        vertical-align: top;\n    }\n\n    .dataframe thead th {\n        text-align: right;\n    }\n</style>\n<table border=\"1\" class=\"dataframe\">\n  <thead>\n    <tr style=\"text-align: right;\">\n      <th></th>\n      <th>Description</th>\n      <th>num_features</th>\n      <th>pipe_time</th>\n      <th>f1_rdf</th>\n      <th>acc_rdf</th>\n    </tr>\n  </thead>\n  <tbody>\n    <tr>\n      <th>0</th>\n      <td>tfidf</td>\n      <td>8598</td>\n      <td>11.629</td>\n      <td>0.686943</td>\n      <td>0.706339</td>\n    </tr>\n    <tr>\n      <th>1</th>\n      <td>lower-tfidf</td>\n      <td>6225</td>\n      <td>11.076</td>\n      <td>0.685206</td>\n      <td>0.705403</td>\n    </tr>\n    <tr>\n      <th>2</th>\n      <td>lower-ponct-tfidf</td>\n      <td>6193</td>\n      <td>8.697</td>\n      <td>0.686105</td>\n      <td>0.705536</td>\n    </tr>\n    <tr>\n      <th>3</th>\n      <td>lower-ponct-stopw-tfidf</td>\n      <td>6142</td>\n      <td>11.360</td>\n      <td>0.695123</td>\n      <td>0.712490</td>\n    </tr>\n    <tr>\n      <th>4</th>\n      <td>lower-ponct-stopw-lemma-tfidf</td>\n      <td>4946</td>\n      <td>148.964</td>\n      <td>0.703538</td>\n      <td>0.720647</td>\n    </tr>\n  </tbody>\n</table>\n</div>"
     },
     "execution_count": 19,
     "metadata": {},
     "output_type": "execute_result"
    }
   ],
   "source": [
    "def pipe_5(data):\n",
    "    start_time = time.time()\n",
    "    \n",
    "    #preprocesing\n",
    "    df = data.copy()\n",
    "    df = lowercase_func(df)\n",
    "    df = ponctuation_remov_func(df)\n",
    "    df = remove_stop_words(df)\n",
    "    df = lemmatization_func(df)\n",
    "    X, _ = TF_IDF_func(df, 1)\n",
    "    y = df['label']\n",
    "    description = 'lower-ponct-stopw-lemma-tfidf'\n",
    "    \n",
    "    # call the model\n",
    "    acc_rdf, f1_rdf = model(X, y)\n",
    "    \n",
    "    end_time = time.time()\n",
    "\n",
    "    num_features = X.shape[1]\n",
    "    pipe_time = end_time - start_time\n",
    "    pipe_time = format(pipe_time, '.3f')\n",
    "    \n",
    "\n",
    "    metrics_data.loc[len(metrics_data.index)] = [description, num_features,  pipe_time,  f1_rdf,  acc_rdf]\n",
    "\n",
    "pipe_5(data)\n",
    "metrics_data"
   ],
   "metadata": {
    "collapsed": false,
    "ExecuteTime": {
     "end_time": "2023-11-15T22:14:14.804046397Z",
     "start_time": "2023-11-15T22:11:45.915748143Z"
    }
   }
  },
  {
   "cell_type": "code",
   "execution_count": 20,
   "outputs": [
    {
     "name": "stderr",
     "output_type": "stream",
     "text": [
      "/home/daniel/anaconda3/envs/cv/lib/python3.11/site-packages/sklearn/utils/validation.py:605: FutureWarning: is_sparse is deprecated and will be removed in a future version. Check `isinstance(dtype, pd.SparseDtype)` instead.\n",
      "  if is_sparse(pd_dtype):\n",
      "/home/daniel/anaconda3/envs/cv/lib/python3.11/site-packages/sklearn/utils/validation.py:614: FutureWarning: is_sparse is deprecated and will be removed in a future version. Check `isinstance(dtype, pd.SparseDtype)` instead.\n",
      "  if is_sparse(pd_dtype) or not is_extension_array_dtype(pd_dtype):\n",
      "/home/daniel/anaconda3/envs/cv/lib/python3.11/site-packages/sklearn/utils/validation.py:605: FutureWarning: is_sparse is deprecated and will be removed in a future version. Check `isinstance(dtype, pd.SparseDtype)` instead.\n",
      "  if is_sparse(pd_dtype):\n",
      "/home/daniel/anaconda3/envs/cv/lib/python3.11/site-packages/sklearn/utils/validation.py:614: FutureWarning: is_sparse is deprecated and will be removed in a future version. Check `isinstance(dtype, pd.SparseDtype)` instead.\n",
      "  if is_sparse(pd_dtype) or not is_extension_array_dtype(pd_dtype):\n",
      "/home/daniel/anaconda3/envs/cv/lib/python3.11/site-packages/sklearn/utils/validation.py:605: FutureWarning: is_sparse is deprecated and will be removed in a future version. Check `isinstance(dtype, pd.SparseDtype)` instead.\n",
      "  if is_sparse(pd_dtype):\n",
      "/home/daniel/anaconda3/envs/cv/lib/python3.11/site-packages/sklearn/utils/validation.py:614: FutureWarning: is_sparse is deprecated and will be removed in a future version. Check `isinstance(dtype, pd.SparseDtype)` instead.\n",
      "  if is_sparse(pd_dtype) or not is_extension_array_dtype(pd_dtype):\n",
      "/home/daniel/anaconda3/envs/cv/lib/python3.11/site-packages/sklearn/utils/validation.py:605: FutureWarning: is_sparse is deprecated and will be removed in a future version. Check `isinstance(dtype, pd.SparseDtype)` instead.\n",
      "  if is_sparse(pd_dtype):\n",
      "/home/daniel/anaconda3/envs/cv/lib/python3.11/site-packages/sklearn/utils/validation.py:614: FutureWarning: is_sparse is deprecated and will be removed in a future version. Check `isinstance(dtype, pd.SparseDtype)` instead.\n",
      "  if is_sparse(pd_dtype) or not is_extension_array_dtype(pd_dtype):\n",
      "/home/daniel/anaconda3/envs/cv/lib/python3.11/site-packages/sklearn/utils/validation.py:605: FutureWarning: is_sparse is deprecated and will be removed in a future version. Check `isinstance(dtype, pd.SparseDtype)` instead.\n",
      "  if is_sparse(pd_dtype):\n",
      "/home/daniel/anaconda3/envs/cv/lib/python3.11/site-packages/sklearn/utils/validation.py:614: FutureWarning: is_sparse is deprecated and will be removed in a future version. Check `isinstance(dtype, pd.SparseDtype)` instead.\n",
      "  if is_sparse(pd_dtype) or not is_extension_array_dtype(pd_dtype):\n",
      "/home/daniel/anaconda3/envs/cv/lib/python3.11/site-packages/sklearn/utils/validation.py:605: FutureWarning: is_sparse is deprecated and will be removed in a future version. Check `isinstance(dtype, pd.SparseDtype)` instead.\n",
      "  if is_sparse(pd_dtype):\n",
      "/home/daniel/anaconda3/envs/cv/lib/python3.11/site-packages/sklearn/utils/validation.py:614: FutureWarning: is_sparse is deprecated and will be removed in a future version. Check `isinstance(dtype, pd.SparseDtype)` instead.\n",
      "  if is_sparse(pd_dtype) or not is_extension_array_dtype(pd_dtype):\n",
      "/home/daniel/anaconda3/envs/cv/lib/python3.11/site-packages/sklearn/utils/validation.py:605: FutureWarning: is_sparse is deprecated and will be removed in a future version. Check `isinstance(dtype, pd.SparseDtype)` instead.\n",
      "  if is_sparse(pd_dtype):\n",
      "/home/daniel/anaconda3/envs/cv/lib/python3.11/site-packages/sklearn/utils/validation.py:614: FutureWarning: is_sparse is deprecated and will be removed in a future version. Check `isinstance(dtype, pd.SparseDtype)` instead.\n",
      "  if is_sparse(pd_dtype) or not is_extension_array_dtype(pd_dtype):\n",
      "/home/daniel/anaconda3/envs/cv/lib/python3.11/site-packages/sklearn/utils/validation.py:605: FutureWarning: is_sparse is deprecated and will be removed in a future version. Check `isinstance(dtype, pd.SparseDtype)` instead.\n",
      "  if is_sparse(pd_dtype):\n",
      "/home/daniel/anaconda3/envs/cv/lib/python3.11/site-packages/sklearn/utils/validation.py:614: FutureWarning: is_sparse is deprecated and will be removed in a future version. Check `isinstance(dtype, pd.SparseDtype)` instead.\n",
      "  if is_sparse(pd_dtype) or not is_extension_array_dtype(pd_dtype):\n",
      "/home/daniel/anaconda3/envs/cv/lib/python3.11/site-packages/sklearn/utils/validation.py:605: FutureWarning: is_sparse is deprecated and will be removed in a future version. Check `isinstance(dtype, pd.SparseDtype)` instead.\n",
      "  if is_sparse(pd_dtype):\n",
      "/home/daniel/anaconda3/envs/cv/lib/python3.11/site-packages/sklearn/utils/validation.py:614: FutureWarning: is_sparse is deprecated and will be removed in a future version. Check `isinstance(dtype, pd.SparseDtype)` instead.\n",
      "  if is_sparse(pd_dtype) or not is_extension_array_dtype(pd_dtype):\n",
      "/home/daniel/anaconda3/envs/cv/lib/python3.11/site-packages/sklearn/utils/validation.py:605: FutureWarning: is_sparse is deprecated and will be removed in a future version. Check `isinstance(dtype, pd.SparseDtype)` instead.\n",
      "  if is_sparse(pd_dtype):\n",
      "/home/daniel/anaconda3/envs/cv/lib/python3.11/site-packages/sklearn/utils/validation.py:614: FutureWarning: is_sparse is deprecated and will be removed in a future version. Check `isinstance(dtype, pd.SparseDtype)` instead.\n",
      "  if is_sparse(pd_dtype) or not is_extension_array_dtype(pd_dtype):\n"
     ]
    },
    {
     "data": {
      "text/plain": "                     Description  num_features pipe_time    f1_rdf   acc_rdf\n0                          tfidf          8598    11.629  0.686943  0.706339\n1                    lower-tfidf          6225    11.076  0.685206  0.705403\n2              lower-ponct-tfidf          6193     8.697  0.686105  0.705536\n3        lower-ponct-stopw-tfidf          6142    11.360  0.695123  0.712490\n4  lower-ponct-stopw-lemma-tfidf          4946   148.964  0.703538  0.720647\n5  lower-ponct-stopw-stemm-tfidf          3592    19.444  0.720057  0.736026",
      "text/html": "<div>\n<style scoped>\n    .dataframe tbody tr th:only-of-type {\n        vertical-align: middle;\n    }\n\n    .dataframe tbody tr th {\n        vertical-align: top;\n    }\n\n    .dataframe thead th {\n        text-align: right;\n    }\n</style>\n<table border=\"1\" class=\"dataframe\">\n  <thead>\n    <tr style=\"text-align: right;\">\n      <th></th>\n      <th>Description</th>\n      <th>num_features</th>\n      <th>pipe_time</th>\n      <th>f1_rdf</th>\n      <th>acc_rdf</th>\n    </tr>\n  </thead>\n  <tbody>\n    <tr>\n      <th>0</th>\n      <td>tfidf</td>\n      <td>8598</td>\n      <td>11.629</td>\n      <td>0.686943</td>\n      <td>0.706339</td>\n    </tr>\n    <tr>\n      <th>1</th>\n      <td>lower-tfidf</td>\n      <td>6225</td>\n      <td>11.076</td>\n      <td>0.685206</td>\n      <td>0.705403</td>\n    </tr>\n    <tr>\n      <th>2</th>\n      <td>lower-ponct-tfidf</td>\n      <td>6193</td>\n      <td>8.697</td>\n      <td>0.686105</td>\n      <td>0.705536</td>\n    </tr>\n    <tr>\n      <th>3</th>\n      <td>lower-ponct-stopw-tfidf</td>\n      <td>6142</td>\n      <td>11.360</td>\n      <td>0.695123</td>\n      <td>0.712490</td>\n    </tr>\n    <tr>\n      <th>4</th>\n      <td>lower-ponct-stopw-lemma-tfidf</td>\n      <td>4946</td>\n      <td>148.964</td>\n      <td>0.703538</td>\n      <td>0.720647</td>\n    </tr>\n    <tr>\n      <th>5</th>\n      <td>lower-ponct-stopw-stemm-tfidf</td>\n      <td>3592</td>\n      <td>19.444</td>\n      <td>0.720057</td>\n      <td>0.736026</td>\n    </tr>\n  </tbody>\n</table>\n</div>"
     },
     "execution_count": 20,
     "metadata": {},
     "output_type": "execute_result"
    }
   ],
   "source": [
    "def pipe_6(data):\n",
    "    start_time = time.time()\n",
    "    \n",
    "    #preprocesing\n",
    "    df = data.copy()\n",
    "    df = lowercase_func(df)\n",
    "    df = ponctuation_remov_func(df)\n",
    "    df = remove_stop_words(df)\n",
    "    df = stemming_func(df)\n",
    "    X, _ = TF_IDF_func(df, 1)\n",
    "    y = df['label']\n",
    "    description = 'lower-ponct-stopw-stemm-tfidf'\n",
    "    \n",
    "    # call the model\n",
    "    acc_rdf, f1_rdf = model(X, y)\n",
    "    \n",
    "    end_time = time.time()\n",
    "\n",
    "    num_features = X.shape[1]\n",
    "    pipe_time = end_time - start_time\n",
    "    pipe_time = format(pipe_time, '.3f')\n",
    "    \n",
    "\n",
    "    metrics_data.loc[len(metrics_data.index)] = [description, num_features,  pipe_time,  f1_rdf,  acc_rdf]\n",
    "\n",
    "pipe_6(data)\n",
    "metrics_data"
   ],
   "metadata": {
    "collapsed": false,
    "ExecuteTime": {
     "end_time": "2023-11-15T22:14:34.258963620Z",
     "start_time": "2023-11-15T22:14:14.837282231Z"
    }
   }
  },
  {
   "cell_type": "code",
   "execution_count": 21,
   "outputs": [
    {
     "name": "stderr",
     "output_type": "stream",
     "text": [
      "/home/daniel/anaconda3/envs/cv/lib/python3.11/site-packages/sklearn/utils/validation.py:605: FutureWarning: is_sparse is deprecated and will be removed in a future version. Check `isinstance(dtype, pd.SparseDtype)` instead.\n",
      "  if is_sparse(pd_dtype):\n",
      "/home/daniel/anaconda3/envs/cv/lib/python3.11/site-packages/sklearn/utils/validation.py:614: FutureWarning: is_sparse is deprecated and will be removed in a future version. Check `isinstance(dtype, pd.SparseDtype)` instead.\n",
      "  if is_sparse(pd_dtype) or not is_extension_array_dtype(pd_dtype):\n",
      "/home/daniel/anaconda3/envs/cv/lib/python3.11/site-packages/sklearn/utils/validation.py:605: FutureWarning: is_sparse is deprecated and will be removed in a future version. Check `isinstance(dtype, pd.SparseDtype)` instead.\n",
      "  if is_sparse(pd_dtype):\n",
      "/home/daniel/anaconda3/envs/cv/lib/python3.11/site-packages/sklearn/utils/validation.py:614: FutureWarning: is_sparse is deprecated and will be removed in a future version. Check `isinstance(dtype, pd.SparseDtype)` instead.\n",
      "  if is_sparse(pd_dtype) or not is_extension_array_dtype(pd_dtype):\n",
      "/home/daniel/anaconda3/envs/cv/lib/python3.11/site-packages/sklearn/utils/validation.py:605: FutureWarning: is_sparse is deprecated and will be removed in a future version. Check `isinstance(dtype, pd.SparseDtype)` instead.\n",
      "  if is_sparse(pd_dtype):\n",
      "/home/daniel/anaconda3/envs/cv/lib/python3.11/site-packages/sklearn/utils/validation.py:614: FutureWarning: is_sparse is deprecated and will be removed in a future version. Check `isinstance(dtype, pd.SparseDtype)` instead.\n",
      "  if is_sparse(pd_dtype) or not is_extension_array_dtype(pd_dtype):\n",
      "/home/daniel/anaconda3/envs/cv/lib/python3.11/site-packages/sklearn/utils/validation.py:605: FutureWarning: is_sparse is deprecated and will be removed in a future version. Check `isinstance(dtype, pd.SparseDtype)` instead.\n",
      "  if is_sparse(pd_dtype):\n",
      "/home/daniel/anaconda3/envs/cv/lib/python3.11/site-packages/sklearn/utils/validation.py:614: FutureWarning: is_sparse is deprecated and will be removed in a future version. Check `isinstance(dtype, pd.SparseDtype)` instead.\n",
      "  if is_sparse(pd_dtype) or not is_extension_array_dtype(pd_dtype):\n",
      "/home/daniel/anaconda3/envs/cv/lib/python3.11/site-packages/sklearn/utils/validation.py:605: FutureWarning: is_sparse is deprecated and will be removed in a future version. Check `isinstance(dtype, pd.SparseDtype)` instead.\n",
      "  if is_sparse(pd_dtype):\n",
      "/home/daniel/anaconda3/envs/cv/lib/python3.11/site-packages/sklearn/utils/validation.py:614: FutureWarning: is_sparse is deprecated and will be removed in a future version. Check `isinstance(dtype, pd.SparseDtype)` instead.\n",
      "  if is_sparse(pd_dtype) or not is_extension_array_dtype(pd_dtype):\n",
      "/home/daniel/anaconda3/envs/cv/lib/python3.11/site-packages/sklearn/utils/validation.py:605: FutureWarning: is_sparse is deprecated and will be removed in a future version. Check `isinstance(dtype, pd.SparseDtype)` instead.\n",
      "  if is_sparse(pd_dtype):\n",
      "/home/daniel/anaconda3/envs/cv/lib/python3.11/site-packages/sklearn/utils/validation.py:614: FutureWarning: is_sparse is deprecated and will be removed in a future version. Check `isinstance(dtype, pd.SparseDtype)` instead.\n",
      "  if is_sparse(pd_dtype) or not is_extension_array_dtype(pd_dtype):\n",
      "/home/daniel/anaconda3/envs/cv/lib/python3.11/site-packages/sklearn/utils/validation.py:605: FutureWarning: is_sparse is deprecated and will be removed in a future version. Check `isinstance(dtype, pd.SparseDtype)` instead.\n",
      "  if is_sparse(pd_dtype):\n",
      "/home/daniel/anaconda3/envs/cv/lib/python3.11/site-packages/sklearn/utils/validation.py:614: FutureWarning: is_sparse is deprecated and will be removed in a future version. Check `isinstance(dtype, pd.SparseDtype)` instead.\n",
      "  if is_sparse(pd_dtype) or not is_extension_array_dtype(pd_dtype):\n",
      "/home/daniel/anaconda3/envs/cv/lib/python3.11/site-packages/sklearn/utils/validation.py:605: FutureWarning: is_sparse is deprecated and will be removed in a future version. Check `isinstance(dtype, pd.SparseDtype)` instead.\n",
      "  if is_sparse(pd_dtype):\n",
      "/home/daniel/anaconda3/envs/cv/lib/python3.11/site-packages/sklearn/utils/validation.py:614: FutureWarning: is_sparse is deprecated and will be removed in a future version. Check `isinstance(dtype, pd.SparseDtype)` instead.\n",
      "  if is_sparse(pd_dtype) or not is_extension_array_dtype(pd_dtype):\n",
      "/home/daniel/anaconda3/envs/cv/lib/python3.11/site-packages/sklearn/utils/validation.py:605: FutureWarning: is_sparse is deprecated and will be removed in a future version. Check `isinstance(dtype, pd.SparseDtype)` instead.\n",
      "  if is_sparse(pd_dtype):\n",
      "/home/daniel/anaconda3/envs/cv/lib/python3.11/site-packages/sklearn/utils/validation.py:614: FutureWarning: is_sparse is deprecated and will be removed in a future version. Check `isinstance(dtype, pd.SparseDtype)` instead.\n",
      "  if is_sparse(pd_dtype) or not is_extension_array_dtype(pd_dtype):\n",
      "/home/daniel/anaconda3/envs/cv/lib/python3.11/site-packages/sklearn/utils/validation.py:605: FutureWarning: is_sparse is deprecated and will be removed in a future version. Check `isinstance(dtype, pd.SparseDtype)` instead.\n",
      "  if is_sparse(pd_dtype):\n",
      "/home/daniel/anaconda3/envs/cv/lib/python3.11/site-packages/sklearn/utils/validation.py:614: FutureWarning: is_sparse is deprecated and will be removed in a future version. Check `isinstance(dtype, pd.SparseDtype)` instead.\n",
      "  if is_sparse(pd_dtype) or not is_extension_array_dtype(pd_dtype):\n"
     ]
    },
    {
     "data": {
      "text/plain": "                           Description  num_features pipe_time    f1_rdf  \\\n0                                tfidf          8598    11.629  0.686943   \n1                          lower-tfidf          6225    11.076  0.685206   \n2                    lower-ponct-tfidf          6193     8.697  0.686105   \n3              lower-ponct-stopw-tfidf          6142    11.360  0.695123   \n4        lower-ponct-stopw-lemma-tfidf          4946   148.964  0.703538   \n5        lower-ponct-stopw-stemm-tfidf          3592    19.444  0.720057   \n6  lower-ponct-stopw-lemma-stemm-tfidf          3535   153.683  0.720829   \n\n    acc_rdf  \n0  0.706339  \n1  0.705403  \n2  0.705536  \n3  0.712490  \n4  0.720647  \n5  0.736026  \n6  0.737363  ",
      "text/html": "<div>\n<style scoped>\n    .dataframe tbody tr th:only-of-type {\n        vertical-align: middle;\n    }\n\n    .dataframe tbody tr th {\n        vertical-align: top;\n    }\n\n    .dataframe thead th {\n        text-align: right;\n    }\n</style>\n<table border=\"1\" class=\"dataframe\">\n  <thead>\n    <tr style=\"text-align: right;\">\n      <th></th>\n      <th>Description</th>\n      <th>num_features</th>\n      <th>pipe_time</th>\n      <th>f1_rdf</th>\n      <th>acc_rdf</th>\n    </tr>\n  </thead>\n  <tbody>\n    <tr>\n      <th>0</th>\n      <td>tfidf</td>\n      <td>8598</td>\n      <td>11.629</td>\n      <td>0.686943</td>\n      <td>0.706339</td>\n    </tr>\n    <tr>\n      <th>1</th>\n      <td>lower-tfidf</td>\n      <td>6225</td>\n      <td>11.076</td>\n      <td>0.685206</td>\n      <td>0.705403</td>\n    </tr>\n    <tr>\n      <th>2</th>\n      <td>lower-ponct-tfidf</td>\n      <td>6193</td>\n      <td>8.697</td>\n      <td>0.686105</td>\n      <td>0.705536</td>\n    </tr>\n    <tr>\n      <th>3</th>\n      <td>lower-ponct-stopw-tfidf</td>\n      <td>6142</td>\n      <td>11.360</td>\n      <td>0.695123</td>\n      <td>0.712490</td>\n    </tr>\n    <tr>\n      <th>4</th>\n      <td>lower-ponct-stopw-lemma-tfidf</td>\n      <td>4946</td>\n      <td>148.964</td>\n      <td>0.703538</td>\n      <td>0.720647</td>\n    </tr>\n    <tr>\n      <th>5</th>\n      <td>lower-ponct-stopw-stemm-tfidf</td>\n      <td>3592</td>\n      <td>19.444</td>\n      <td>0.720057</td>\n      <td>0.736026</td>\n    </tr>\n    <tr>\n      <th>6</th>\n      <td>lower-ponct-stopw-lemma-stemm-tfidf</td>\n      <td>3535</td>\n      <td>153.683</td>\n      <td>0.720829</td>\n      <td>0.737363</td>\n    </tr>\n  </tbody>\n</table>\n</div>"
     },
     "execution_count": 21,
     "metadata": {},
     "output_type": "execute_result"
    }
   ],
   "source": [
    "def pipe_7(data):\n",
    "    start_time = time.time()\n",
    "    \n",
    "    #preprocesing\n",
    "    df = data.copy()\n",
    "    df = lowercase_func(df)\n",
    "    df = ponctuation_remov_func(df)\n",
    "    df = remove_stop_words(df)\n",
    "    df = lemmatization_func(df)\n",
    "    df = stemming_func(df)\n",
    "    X, _ = TF_IDF_func(df, 1)\n",
    "    y = df['label']\n",
    "    description = 'lower-ponct-stopw-lemma-stemm-tfidf'\n",
    "    \n",
    "    # call the model\n",
    "    acc_rdf, f1_rdf = model(X, y)\n",
    "    \n",
    "    end_time = time.time()\n",
    "\n",
    "    num_features = X.shape[1]\n",
    "    pipe_time = end_time - start_time\n",
    "    pipe_time = format(pipe_time, '.3f')\n",
    "    \n",
    "    metrics_data.loc[len(metrics_data.index)] = [description, num_features,  pipe_time,  f1_rdf,  acc_rdf]\n",
    "\n",
    "pipe_7(data)\n",
    "metrics_data"
   ],
   "metadata": {
    "collapsed": false,
    "ExecuteTime": {
     "end_time": "2023-11-15T22:17:07.951374135Z",
     "start_time": "2023-11-15T22:14:34.313684197Z"
    }
   }
  },
  {
   "cell_type": "code",
   "execution_count": 22,
   "outputs": [
    {
     "name": "stderr",
     "output_type": "stream",
     "text": [
      "/home/daniel/anaconda3/envs/cv/lib/python3.11/site-packages/sklearn/utils/validation.py:605: FutureWarning: is_sparse is deprecated and will be removed in a future version. Check `isinstance(dtype, pd.SparseDtype)` instead.\n",
      "  if is_sparse(pd_dtype):\n",
      "/home/daniel/anaconda3/envs/cv/lib/python3.11/site-packages/sklearn/utils/validation.py:614: FutureWarning: is_sparse is deprecated and will be removed in a future version. Check `isinstance(dtype, pd.SparseDtype)` instead.\n",
      "  if is_sparse(pd_dtype) or not is_extension_array_dtype(pd_dtype):\n",
      "/home/daniel/anaconda3/envs/cv/lib/python3.11/site-packages/sklearn/utils/validation.py:605: FutureWarning: is_sparse is deprecated and will be removed in a future version. Check `isinstance(dtype, pd.SparseDtype)` instead.\n",
      "  if is_sparse(pd_dtype):\n",
      "/home/daniel/anaconda3/envs/cv/lib/python3.11/site-packages/sklearn/utils/validation.py:614: FutureWarning: is_sparse is deprecated and will be removed in a future version. Check `isinstance(dtype, pd.SparseDtype)` instead.\n",
      "  if is_sparse(pd_dtype) or not is_extension_array_dtype(pd_dtype):\n",
      "/home/daniel/anaconda3/envs/cv/lib/python3.11/site-packages/sklearn/utils/validation.py:605: FutureWarning: is_sparse is deprecated and will be removed in a future version. Check `isinstance(dtype, pd.SparseDtype)` instead.\n",
      "  if is_sparse(pd_dtype):\n",
      "/home/daniel/anaconda3/envs/cv/lib/python3.11/site-packages/sklearn/utils/validation.py:614: FutureWarning: is_sparse is deprecated and will be removed in a future version. Check `isinstance(dtype, pd.SparseDtype)` instead.\n",
      "  if is_sparse(pd_dtype) or not is_extension_array_dtype(pd_dtype):\n",
      "/home/daniel/anaconda3/envs/cv/lib/python3.11/site-packages/sklearn/utils/validation.py:605: FutureWarning: is_sparse is deprecated and will be removed in a future version. Check `isinstance(dtype, pd.SparseDtype)` instead.\n",
      "  if is_sparse(pd_dtype):\n",
      "/home/daniel/anaconda3/envs/cv/lib/python3.11/site-packages/sklearn/utils/validation.py:614: FutureWarning: is_sparse is deprecated and will be removed in a future version. Check `isinstance(dtype, pd.SparseDtype)` instead.\n",
      "  if is_sparse(pd_dtype) or not is_extension_array_dtype(pd_dtype):\n",
      "/home/daniel/anaconda3/envs/cv/lib/python3.11/site-packages/sklearn/utils/validation.py:605: FutureWarning: is_sparse is deprecated and will be removed in a future version. Check `isinstance(dtype, pd.SparseDtype)` instead.\n",
      "  if is_sparse(pd_dtype):\n",
      "/home/daniel/anaconda3/envs/cv/lib/python3.11/site-packages/sklearn/utils/validation.py:614: FutureWarning: is_sparse is deprecated and will be removed in a future version. Check `isinstance(dtype, pd.SparseDtype)` instead.\n",
      "  if is_sparse(pd_dtype) or not is_extension_array_dtype(pd_dtype):\n",
      "/home/daniel/anaconda3/envs/cv/lib/python3.11/site-packages/sklearn/utils/validation.py:605: FutureWarning: is_sparse is deprecated and will be removed in a future version. Check `isinstance(dtype, pd.SparseDtype)` instead.\n",
      "  if is_sparse(pd_dtype):\n",
      "/home/daniel/anaconda3/envs/cv/lib/python3.11/site-packages/sklearn/utils/validation.py:614: FutureWarning: is_sparse is deprecated and will be removed in a future version. Check `isinstance(dtype, pd.SparseDtype)` instead.\n",
      "  if is_sparse(pd_dtype) or not is_extension_array_dtype(pd_dtype):\n",
      "/home/daniel/anaconda3/envs/cv/lib/python3.11/site-packages/sklearn/utils/validation.py:605: FutureWarning: is_sparse is deprecated and will be removed in a future version. Check `isinstance(dtype, pd.SparseDtype)` instead.\n",
      "  if is_sparse(pd_dtype):\n",
      "/home/daniel/anaconda3/envs/cv/lib/python3.11/site-packages/sklearn/utils/validation.py:614: FutureWarning: is_sparse is deprecated and will be removed in a future version. Check `isinstance(dtype, pd.SparseDtype)` instead.\n",
      "  if is_sparse(pd_dtype) or not is_extension_array_dtype(pd_dtype):\n",
      "/home/daniel/anaconda3/envs/cv/lib/python3.11/site-packages/sklearn/utils/validation.py:605: FutureWarning: is_sparse is deprecated and will be removed in a future version. Check `isinstance(dtype, pd.SparseDtype)` instead.\n",
      "  if is_sparse(pd_dtype):\n",
      "/home/daniel/anaconda3/envs/cv/lib/python3.11/site-packages/sklearn/utils/validation.py:614: FutureWarning: is_sparse is deprecated and will be removed in a future version. Check `isinstance(dtype, pd.SparseDtype)` instead.\n",
      "  if is_sparse(pd_dtype) or not is_extension_array_dtype(pd_dtype):\n",
      "/home/daniel/anaconda3/envs/cv/lib/python3.11/site-packages/sklearn/utils/validation.py:605: FutureWarning: is_sparse is deprecated and will be removed in a future version. Check `isinstance(dtype, pd.SparseDtype)` instead.\n",
      "  if is_sparse(pd_dtype):\n",
      "/home/daniel/anaconda3/envs/cv/lib/python3.11/site-packages/sklearn/utils/validation.py:614: FutureWarning: is_sparse is deprecated and will be removed in a future version. Check `isinstance(dtype, pd.SparseDtype)` instead.\n",
      "  if is_sparse(pd_dtype) or not is_extension_array_dtype(pd_dtype):\n",
      "/home/daniel/anaconda3/envs/cv/lib/python3.11/site-packages/sklearn/utils/validation.py:605: FutureWarning: is_sparse is deprecated and will be removed in a future version. Check `isinstance(dtype, pd.SparseDtype)` instead.\n",
      "  if is_sparse(pd_dtype):\n",
      "/home/daniel/anaconda3/envs/cv/lib/python3.11/site-packages/sklearn/utils/validation.py:614: FutureWarning: is_sparse is deprecated and will be removed in a future version. Check `isinstance(dtype, pd.SparseDtype)` instead.\n",
      "  if is_sparse(pd_dtype) or not is_extension_array_dtype(pd_dtype):\n"
     ]
    },
    {
     "data": {
      "text/plain": "                           Description  num_features pipe_time    f1_rdf  \\\n0                                tfidf          8598    11.629  0.686943   \n1                          lower-tfidf          6225    11.076  0.685206   \n2                    lower-ponct-tfidf          6193     8.697  0.686105   \n3              lower-ponct-stopw-tfidf          6142    11.360  0.695123   \n4        lower-ponct-stopw-lemma-tfidf          4946   148.964  0.703538   \n5        lower-ponct-stopw-stemm-tfidf          3592    19.444  0.720057   \n6  lower-ponct-stopw-lemma-stemm-tfidf          3535   153.683  0.720829   \n7              lower-ponct-tfidf-lsi70            70     7.656  0.611407   \n\n    acc_rdf  \n0  0.706339  \n1  0.705403  \n2  0.705536  \n3  0.712490  \n4  0.720647  \n5  0.736026  \n6  0.737363  \n7  0.630516  ",
      "text/html": "<div>\n<style scoped>\n    .dataframe tbody tr th:only-of-type {\n        vertical-align: middle;\n    }\n\n    .dataframe tbody tr th {\n        vertical-align: top;\n    }\n\n    .dataframe thead th {\n        text-align: right;\n    }\n</style>\n<table border=\"1\" class=\"dataframe\">\n  <thead>\n    <tr style=\"text-align: right;\">\n      <th></th>\n      <th>Description</th>\n      <th>num_features</th>\n      <th>pipe_time</th>\n      <th>f1_rdf</th>\n      <th>acc_rdf</th>\n    </tr>\n  </thead>\n  <tbody>\n    <tr>\n      <th>0</th>\n      <td>tfidf</td>\n      <td>8598</td>\n      <td>11.629</td>\n      <td>0.686943</td>\n      <td>0.706339</td>\n    </tr>\n    <tr>\n      <th>1</th>\n      <td>lower-tfidf</td>\n      <td>6225</td>\n      <td>11.076</td>\n      <td>0.685206</td>\n      <td>0.705403</td>\n    </tr>\n    <tr>\n      <th>2</th>\n      <td>lower-ponct-tfidf</td>\n      <td>6193</td>\n      <td>8.697</td>\n      <td>0.686105</td>\n      <td>0.705536</td>\n    </tr>\n    <tr>\n      <th>3</th>\n      <td>lower-ponct-stopw-tfidf</td>\n      <td>6142</td>\n      <td>11.360</td>\n      <td>0.695123</td>\n      <td>0.712490</td>\n    </tr>\n    <tr>\n      <th>4</th>\n      <td>lower-ponct-stopw-lemma-tfidf</td>\n      <td>4946</td>\n      <td>148.964</td>\n      <td>0.703538</td>\n      <td>0.720647</td>\n    </tr>\n    <tr>\n      <th>5</th>\n      <td>lower-ponct-stopw-stemm-tfidf</td>\n      <td>3592</td>\n      <td>19.444</td>\n      <td>0.720057</td>\n      <td>0.736026</td>\n    </tr>\n    <tr>\n      <th>6</th>\n      <td>lower-ponct-stopw-lemma-stemm-tfidf</td>\n      <td>3535</td>\n      <td>153.683</td>\n      <td>0.720829</td>\n      <td>0.737363</td>\n    </tr>\n    <tr>\n      <th>7</th>\n      <td>lower-ponct-tfidf-lsi70</td>\n      <td>70</td>\n      <td>7.656</td>\n      <td>0.611407</td>\n      <td>0.630516</td>\n    </tr>\n  </tbody>\n</table>\n</div>"
     },
     "execution_count": 22,
     "metadata": {},
     "output_type": "execute_result"
    }
   ],
   "source": [
    "def pipe_8(data):\n",
    "    start_time = time.time()\n",
    "    \n",
    "    #preprocesing\n",
    "    df = data.copy()\n",
    "    df = lowercase_func(df)\n",
    "    df = ponctuation_remov_func(df)\n",
    "    X, nan1, nan2 = LSI_func(df, 70)\n",
    "    #X, _ = TF_IDF_func(df, 1)\n",
    "    y = df['label']\n",
    "    description = 'lower-ponct-tfidf-lsi70'\n",
    "    \n",
    "    # call the model\n",
    "    acc_rdf, f1_rdf = model(X, y)\n",
    "    \n",
    "    end_time = time.time()\n",
    "\n",
    "    num_features = X.shape[1]\n",
    "    pipe_time = end_time - start_time\n",
    "    pipe_time = format(pipe_time, '.3f')\n",
    "    \n",
    "    metrics_data.loc[len(metrics_data.index)] = [description, num_features,  pipe_time,  f1_rdf,  acc_rdf]\n",
    "\n",
    "pipe_8(data)\n",
    "metrics_data"
   ],
   "metadata": {
    "collapsed": false,
    "ExecuteTime": {
     "end_time": "2023-11-15T22:17:15.616480739Z",
     "start_time": "2023-11-15T22:17:07.980055349Z"
    }
   }
  },
  {
   "cell_type": "code",
   "execution_count": 23,
   "outputs": [
    {
     "name": "stderr",
     "output_type": "stream",
     "text": [
      "/home/daniel/anaconda3/envs/cv/lib/python3.11/site-packages/sklearn/utils/validation.py:605: FutureWarning: is_sparse is deprecated and will be removed in a future version. Check `isinstance(dtype, pd.SparseDtype)` instead.\n",
      "  if is_sparse(pd_dtype):\n",
      "/home/daniel/anaconda3/envs/cv/lib/python3.11/site-packages/sklearn/utils/validation.py:614: FutureWarning: is_sparse is deprecated and will be removed in a future version. Check `isinstance(dtype, pd.SparseDtype)` instead.\n",
      "  if is_sparse(pd_dtype) or not is_extension_array_dtype(pd_dtype):\n",
      "/home/daniel/anaconda3/envs/cv/lib/python3.11/site-packages/sklearn/utils/validation.py:605: FutureWarning: is_sparse is deprecated and will be removed in a future version. Check `isinstance(dtype, pd.SparseDtype)` instead.\n",
      "  if is_sparse(pd_dtype):\n",
      "/home/daniel/anaconda3/envs/cv/lib/python3.11/site-packages/sklearn/utils/validation.py:614: FutureWarning: is_sparse is deprecated and will be removed in a future version. Check `isinstance(dtype, pd.SparseDtype)` instead.\n",
      "  if is_sparse(pd_dtype) or not is_extension_array_dtype(pd_dtype):\n",
      "/home/daniel/anaconda3/envs/cv/lib/python3.11/site-packages/sklearn/utils/validation.py:605: FutureWarning: is_sparse is deprecated and will be removed in a future version. Check `isinstance(dtype, pd.SparseDtype)` instead.\n",
      "  if is_sparse(pd_dtype):\n",
      "/home/daniel/anaconda3/envs/cv/lib/python3.11/site-packages/sklearn/utils/validation.py:614: FutureWarning: is_sparse is deprecated and will be removed in a future version. Check `isinstance(dtype, pd.SparseDtype)` instead.\n",
      "  if is_sparse(pd_dtype) or not is_extension_array_dtype(pd_dtype):\n",
      "/home/daniel/anaconda3/envs/cv/lib/python3.11/site-packages/sklearn/utils/validation.py:605: FutureWarning: is_sparse is deprecated and will be removed in a future version. Check `isinstance(dtype, pd.SparseDtype)` instead.\n",
      "  if is_sparse(pd_dtype):\n",
      "/home/daniel/anaconda3/envs/cv/lib/python3.11/site-packages/sklearn/utils/validation.py:614: FutureWarning: is_sparse is deprecated and will be removed in a future version. Check `isinstance(dtype, pd.SparseDtype)` instead.\n",
      "  if is_sparse(pd_dtype) or not is_extension_array_dtype(pd_dtype):\n",
      "/home/daniel/anaconda3/envs/cv/lib/python3.11/site-packages/sklearn/utils/validation.py:605: FutureWarning: is_sparse is deprecated and will be removed in a future version. Check `isinstance(dtype, pd.SparseDtype)` instead.\n",
      "  if is_sparse(pd_dtype):\n",
      "/home/daniel/anaconda3/envs/cv/lib/python3.11/site-packages/sklearn/utils/validation.py:614: FutureWarning: is_sparse is deprecated and will be removed in a future version. Check `isinstance(dtype, pd.SparseDtype)` instead.\n",
      "  if is_sparse(pd_dtype) or not is_extension_array_dtype(pd_dtype):\n",
      "/home/daniel/anaconda3/envs/cv/lib/python3.11/site-packages/sklearn/utils/validation.py:605: FutureWarning: is_sparse is deprecated and will be removed in a future version. Check `isinstance(dtype, pd.SparseDtype)` instead.\n",
      "  if is_sparse(pd_dtype):\n",
      "/home/daniel/anaconda3/envs/cv/lib/python3.11/site-packages/sklearn/utils/validation.py:614: FutureWarning: is_sparse is deprecated and will be removed in a future version. Check `isinstance(dtype, pd.SparseDtype)` instead.\n",
      "  if is_sparse(pd_dtype) or not is_extension_array_dtype(pd_dtype):\n",
      "/home/daniel/anaconda3/envs/cv/lib/python3.11/site-packages/sklearn/utils/validation.py:605: FutureWarning: is_sparse is deprecated and will be removed in a future version. Check `isinstance(dtype, pd.SparseDtype)` instead.\n",
      "  if is_sparse(pd_dtype):\n",
      "/home/daniel/anaconda3/envs/cv/lib/python3.11/site-packages/sklearn/utils/validation.py:614: FutureWarning: is_sparse is deprecated and will be removed in a future version. Check `isinstance(dtype, pd.SparseDtype)` instead.\n",
      "  if is_sparse(pd_dtype) or not is_extension_array_dtype(pd_dtype):\n",
      "/home/daniel/anaconda3/envs/cv/lib/python3.11/site-packages/sklearn/utils/validation.py:605: FutureWarning: is_sparse is deprecated and will be removed in a future version. Check `isinstance(dtype, pd.SparseDtype)` instead.\n",
      "  if is_sparse(pd_dtype):\n",
      "/home/daniel/anaconda3/envs/cv/lib/python3.11/site-packages/sklearn/utils/validation.py:614: FutureWarning: is_sparse is deprecated and will be removed in a future version. Check `isinstance(dtype, pd.SparseDtype)` instead.\n",
      "  if is_sparse(pd_dtype) or not is_extension_array_dtype(pd_dtype):\n",
      "/home/daniel/anaconda3/envs/cv/lib/python3.11/site-packages/sklearn/utils/validation.py:605: FutureWarning: is_sparse is deprecated and will be removed in a future version. Check `isinstance(dtype, pd.SparseDtype)` instead.\n",
      "  if is_sparse(pd_dtype):\n",
      "/home/daniel/anaconda3/envs/cv/lib/python3.11/site-packages/sklearn/utils/validation.py:614: FutureWarning: is_sparse is deprecated and will be removed in a future version. Check `isinstance(dtype, pd.SparseDtype)` instead.\n",
      "  if is_sparse(pd_dtype) or not is_extension_array_dtype(pd_dtype):\n",
      "/home/daniel/anaconda3/envs/cv/lib/python3.11/site-packages/sklearn/utils/validation.py:605: FutureWarning: is_sparse is deprecated and will be removed in a future version. Check `isinstance(dtype, pd.SparseDtype)` instead.\n",
      "  if is_sparse(pd_dtype):\n",
      "/home/daniel/anaconda3/envs/cv/lib/python3.11/site-packages/sklearn/utils/validation.py:614: FutureWarning: is_sparse is deprecated and will be removed in a future version. Check `isinstance(dtype, pd.SparseDtype)` instead.\n",
      "  if is_sparse(pd_dtype) or not is_extension_array_dtype(pd_dtype):\n"
     ]
    },
    {
     "data": {
      "text/plain": "                           Description  num_features pipe_time    f1_rdf  \\\n0                                tfidf          8598    11.629  0.686943   \n1                          lower-tfidf          6225    11.076  0.685206   \n2                    lower-ponct-tfidf          6193     8.697  0.686105   \n3              lower-ponct-stopw-tfidf          6142    11.360  0.695123   \n4        lower-ponct-stopw-lemma-tfidf          4946   148.964  0.703538   \n5        lower-ponct-stopw-stemm-tfidf          3592    19.444  0.720057   \n6  lower-ponct-stopw-lemma-stemm-tfidf          3535   153.683  0.720829   \n7              lower-ponct-tfidf-lsi70            70     7.656  0.611407   \n8         lower-ponct-stop-tfidf-lsi70            70     9.508  0.629616   \n\n    acc_rdf  \n0  0.706339  \n1  0.705403  \n2  0.705536  \n3  0.712490  \n4  0.720647  \n5  0.736026  \n6  0.737363  \n7  0.630516  \n8  0.647499  ",
      "text/html": "<div>\n<style scoped>\n    .dataframe tbody tr th:only-of-type {\n        vertical-align: middle;\n    }\n\n    .dataframe tbody tr th {\n        vertical-align: top;\n    }\n\n    .dataframe thead th {\n        text-align: right;\n    }\n</style>\n<table border=\"1\" class=\"dataframe\">\n  <thead>\n    <tr style=\"text-align: right;\">\n      <th></th>\n      <th>Description</th>\n      <th>num_features</th>\n      <th>pipe_time</th>\n      <th>f1_rdf</th>\n      <th>acc_rdf</th>\n    </tr>\n  </thead>\n  <tbody>\n    <tr>\n      <th>0</th>\n      <td>tfidf</td>\n      <td>8598</td>\n      <td>11.629</td>\n      <td>0.686943</td>\n      <td>0.706339</td>\n    </tr>\n    <tr>\n      <th>1</th>\n      <td>lower-tfidf</td>\n      <td>6225</td>\n      <td>11.076</td>\n      <td>0.685206</td>\n      <td>0.705403</td>\n    </tr>\n    <tr>\n      <th>2</th>\n      <td>lower-ponct-tfidf</td>\n      <td>6193</td>\n      <td>8.697</td>\n      <td>0.686105</td>\n      <td>0.705536</td>\n    </tr>\n    <tr>\n      <th>3</th>\n      <td>lower-ponct-stopw-tfidf</td>\n      <td>6142</td>\n      <td>11.360</td>\n      <td>0.695123</td>\n      <td>0.712490</td>\n    </tr>\n    <tr>\n      <th>4</th>\n      <td>lower-ponct-stopw-lemma-tfidf</td>\n      <td>4946</td>\n      <td>148.964</td>\n      <td>0.703538</td>\n      <td>0.720647</td>\n    </tr>\n    <tr>\n      <th>5</th>\n      <td>lower-ponct-stopw-stemm-tfidf</td>\n      <td>3592</td>\n      <td>19.444</td>\n      <td>0.720057</td>\n      <td>0.736026</td>\n    </tr>\n    <tr>\n      <th>6</th>\n      <td>lower-ponct-stopw-lemma-stemm-tfidf</td>\n      <td>3535</td>\n      <td>153.683</td>\n      <td>0.720829</td>\n      <td>0.737363</td>\n    </tr>\n    <tr>\n      <th>7</th>\n      <td>lower-ponct-tfidf-lsi70</td>\n      <td>70</td>\n      <td>7.656</td>\n      <td>0.611407</td>\n      <td>0.630516</td>\n    </tr>\n    <tr>\n      <th>8</th>\n      <td>lower-ponct-stop-tfidf-lsi70</td>\n      <td>70</td>\n      <td>9.508</td>\n      <td>0.629616</td>\n      <td>0.647499</td>\n    </tr>\n  </tbody>\n</table>\n</div>"
     },
     "execution_count": 23,
     "metadata": {},
     "output_type": "execute_result"
    }
   ],
   "source": [
    "def pipe_9(data):\n",
    "    start_time = time.time()\n",
    "    \n",
    "    #preprocesing\n",
    "    df = data.copy()\n",
    "    df = lowercase_func(df)\n",
    "    df = ponctuation_remov_func(df)\n",
    "    df = remove_stop_words(df)\n",
    "    X, nan1, nan2 = LSI_func(df, 70)\n",
    "    #X, _ = TF_IDF_func(df, 1)\n",
    "    y = df['label']\n",
    "    description = 'lower-ponct-stop-tfidf-lsi70'\n",
    "    \n",
    "    # call the model\n",
    "    acc_rdf, f1_rdf = model(X, y)\n",
    "    \n",
    "    end_time = time.time()\n",
    "\n",
    "    num_features = X.shape[1]\n",
    "    pipe_time = end_time - start_time\n",
    "    pipe_time = format(pipe_time, '.3f')\n",
    "    \n",
    "    metrics_data.loc[len(metrics_data.index)] = [description, num_features,  pipe_time,  f1_rdf,  acc_rdf]\n",
    "\n",
    "pipe_9(data)\n",
    "metrics_data"
   ],
   "metadata": {
    "collapsed": false,
    "ExecuteTime": {
     "end_time": "2023-11-15T22:17:25.136516688Z",
     "start_time": "2023-11-15T22:17:15.673561975Z"
    }
   }
  },
  {
   "cell_type": "code",
   "execution_count": 24,
   "outputs": [
    {
     "name": "stderr",
     "output_type": "stream",
     "text": [
      "/home/daniel/anaconda3/envs/cv/lib/python3.11/site-packages/sklearn/utils/validation.py:605: FutureWarning: is_sparse is deprecated and will be removed in a future version. Check `isinstance(dtype, pd.SparseDtype)` instead.\n",
      "  if is_sparse(pd_dtype):\n",
      "/home/daniel/anaconda3/envs/cv/lib/python3.11/site-packages/sklearn/utils/validation.py:614: FutureWarning: is_sparse is deprecated and will be removed in a future version. Check `isinstance(dtype, pd.SparseDtype)` instead.\n",
      "  if is_sparse(pd_dtype) or not is_extension_array_dtype(pd_dtype):\n",
      "/home/daniel/anaconda3/envs/cv/lib/python3.11/site-packages/sklearn/utils/validation.py:605: FutureWarning: is_sparse is deprecated and will be removed in a future version. Check `isinstance(dtype, pd.SparseDtype)` instead.\n",
      "  if is_sparse(pd_dtype):\n",
      "/home/daniel/anaconda3/envs/cv/lib/python3.11/site-packages/sklearn/utils/validation.py:614: FutureWarning: is_sparse is deprecated and will be removed in a future version. Check `isinstance(dtype, pd.SparseDtype)` instead.\n",
      "  if is_sparse(pd_dtype) or not is_extension_array_dtype(pd_dtype):\n",
      "/home/daniel/anaconda3/envs/cv/lib/python3.11/site-packages/sklearn/utils/validation.py:605: FutureWarning: is_sparse is deprecated and will be removed in a future version. Check `isinstance(dtype, pd.SparseDtype)` instead.\n",
      "  if is_sparse(pd_dtype):\n",
      "/home/daniel/anaconda3/envs/cv/lib/python3.11/site-packages/sklearn/utils/validation.py:614: FutureWarning: is_sparse is deprecated and will be removed in a future version. Check `isinstance(dtype, pd.SparseDtype)` instead.\n",
      "  if is_sparse(pd_dtype) or not is_extension_array_dtype(pd_dtype):\n",
      "/home/daniel/anaconda3/envs/cv/lib/python3.11/site-packages/sklearn/utils/validation.py:605: FutureWarning: is_sparse is deprecated and will be removed in a future version. Check `isinstance(dtype, pd.SparseDtype)` instead.\n",
      "  if is_sparse(pd_dtype):\n",
      "/home/daniel/anaconda3/envs/cv/lib/python3.11/site-packages/sklearn/utils/validation.py:614: FutureWarning: is_sparse is deprecated and will be removed in a future version. Check `isinstance(dtype, pd.SparseDtype)` instead.\n",
      "  if is_sparse(pd_dtype) or not is_extension_array_dtype(pd_dtype):\n",
      "/home/daniel/anaconda3/envs/cv/lib/python3.11/site-packages/sklearn/utils/validation.py:605: FutureWarning: is_sparse is deprecated and will be removed in a future version. Check `isinstance(dtype, pd.SparseDtype)` instead.\n",
      "  if is_sparse(pd_dtype):\n",
      "/home/daniel/anaconda3/envs/cv/lib/python3.11/site-packages/sklearn/utils/validation.py:614: FutureWarning: is_sparse is deprecated and will be removed in a future version. Check `isinstance(dtype, pd.SparseDtype)` instead.\n",
      "  if is_sparse(pd_dtype) or not is_extension_array_dtype(pd_dtype):\n",
      "/home/daniel/anaconda3/envs/cv/lib/python3.11/site-packages/sklearn/utils/validation.py:605: FutureWarning: is_sparse is deprecated and will be removed in a future version. Check `isinstance(dtype, pd.SparseDtype)` instead.\n",
      "  if is_sparse(pd_dtype):\n",
      "/home/daniel/anaconda3/envs/cv/lib/python3.11/site-packages/sklearn/utils/validation.py:614: FutureWarning: is_sparse is deprecated and will be removed in a future version. Check `isinstance(dtype, pd.SparseDtype)` instead.\n",
      "  if is_sparse(pd_dtype) or not is_extension_array_dtype(pd_dtype):\n",
      "/home/daniel/anaconda3/envs/cv/lib/python3.11/site-packages/sklearn/utils/validation.py:605: FutureWarning: is_sparse is deprecated and will be removed in a future version. Check `isinstance(dtype, pd.SparseDtype)` instead.\n",
      "  if is_sparse(pd_dtype):\n",
      "/home/daniel/anaconda3/envs/cv/lib/python3.11/site-packages/sklearn/utils/validation.py:614: FutureWarning: is_sparse is deprecated and will be removed in a future version. Check `isinstance(dtype, pd.SparseDtype)` instead.\n",
      "  if is_sparse(pd_dtype) or not is_extension_array_dtype(pd_dtype):\n",
      "/home/daniel/anaconda3/envs/cv/lib/python3.11/site-packages/sklearn/utils/validation.py:605: FutureWarning: is_sparse is deprecated and will be removed in a future version. Check `isinstance(dtype, pd.SparseDtype)` instead.\n",
      "  if is_sparse(pd_dtype):\n",
      "/home/daniel/anaconda3/envs/cv/lib/python3.11/site-packages/sklearn/utils/validation.py:614: FutureWarning: is_sparse is deprecated and will be removed in a future version. Check `isinstance(dtype, pd.SparseDtype)` instead.\n",
      "  if is_sparse(pd_dtype) or not is_extension_array_dtype(pd_dtype):\n",
      "/home/daniel/anaconda3/envs/cv/lib/python3.11/site-packages/sklearn/utils/validation.py:605: FutureWarning: is_sparse is deprecated and will be removed in a future version. Check `isinstance(dtype, pd.SparseDtype)` instead.\n",
      "  if is_sparse(pd_dtype):\n",
      "/home/daniel/anaconda3/envs/cv/lib/python3.11/site-packages/sklearn/utils/validation.py:614: FutureWarning: is_sparse is deprecated and will be removed in a future version. Check `isinstance(dtype, pd.SparseDtype)` instead.\n",
      "  if is_sparse(pd_dtype) or not is_extension_array_dtype(pd_dtype):\n",
      "/home/daniel/anaconda3/envs/cv/lib/python3.11/site-packages/sklearn/utils/validation.py:605: FutureWarning: is_sparse is deprecated and will be removed in a future version. Check `isinstance(dtype, pd.SparseDtype)` instead.\n",
      "  if is_sparse(pd_dtype):\n",
      "/home/daniel/anaconda3/envs/cv/lib/python3.11/site-packages/sklearn/utils/validation.py:614: FutureWarning: is_sparse is deprecated and will be removed in a future version. Check `isinstance(dtype, pd.SparseDtype)` instead.\n",
      "  if is_sparse(pd_dtype) or not is_extension_array_dtype(pd_dtype):\n"
     ]
    },
    {
     "data": {
      "text/plain": "                           Description  num_features pipe_time    f1_rdf  \\\n0                                tfidf          8598    11.629  0.686943   \n1                          lower-tfidf          6225    11.076  0.685206   \n2                    lower-ponct-tfidf          6193     8.697  0.686105   \n3              lower-ponct-stopw-tfidf          6142    11.360  0.695123   \n4        lower-ponct-stopw-lemma-tfidf          4946   148.964  0.703538   \n5        lower-ponct-stopw-stemm-tfidf          3592    19.444  0.720057   \n6  lower-ponct-stopw-lemma-stemm-tfidf          3535   153.683  0.720829   \n7              lower-ponct-tfidf-lsi70            70     7.656  0.611407   \n8         lower-ponct-stop-tfidf-lsi70            70     9.508  0.629616   \n9   lower-ponct-stop-stemm-tfidf-lsi70            70    18.218  0.660078   \n\n    acc_rdf  \n0  0.706339  \n1  0.705403  \n2  0.705536  \n3  0.712490  \n4  0.720647  \n5  0.736026  \n6  0.737363  \n7  0.630516  \n8  0.647499  \n9  0.676919  ",
      "text/html": "<div>\n<style scoped>\n    .dataframe tbody tr th:only-of-type {\n        vertical-align: middle;\n    }\n\n    .dataframe tbody tr th {\n        vertical-align: top;\n    }\n\n    .dataframe thead th {\n        text-align: right;\n    }\n</style>\n<table border=\"1\" class=\"dataframe\">\n  <thead>\n    <tr style=\"text-align: right;\">\n      <th></th>\n      <th>Description</th>\n      <th>num_features</th>\n      <th>pipe_time</th>\n      <th>f1_rdf</th>\n      <th>acc_rdf</th>\n    </tr>\n  </thead>\n  <tbody>\n    <tr>\n      <th>0</th>\n      <td>tfidf</td>\n      <td>8598</td>\n      <td>11.629</td>\n      <td>0.686943</td>\n      <td>0.706339</td>\n    </tr>\n    <tr>\n      <th>1</th>\n      <td>lower-tfidf</td>\n      <td>6225</td>\n      <td>11.076</td>\n      <td>0.685206</td>\n      <td>0.705403</td>\n    </tr>\n    <tr>\n      <th>2</th>\n      <td>lower-ponct-tfidf</td>\n      <td>6193</td>\n      <td>8.697</td>\n      <td>0.686105</td>\n      <td>0.705536</td>\n    </tr>\n    <tr>\n      <th>3</th>\n      <td>lower-ponct-stopw-tfidf</td>\n      <td>6142</td>\n      <td>11.360</td>\n      <td>0.695123</td>\n      <td>0.712490</td>\n    </tr>\n    <tr>\n      <th>4</th>\n      <td>lower-ponct-stopw-lemma-tfidf</td>\n      <td>4946</td>\n      <td>148.964</td>\n      <td>0.703538</td>\n      <td>0.720647</td>\n    </tr>\n    <tr>\n      <th>5</th>\n      <td>lower-ponct-stopw-stemm-tfidf</td>\n      <td>3592</td>\n      <td>19.444</td>\n      <td>0.720057</td>\n      <td>0.736026</td>\n    </tr>\n    <tr>\n      <th>6</th>\n      <td>lower-ponct-stopw-lemma-stemm-tfidf</td>\n      <td>3535</td>\n      <td>153.683</td>\n      <td>0.720829</td>\n      <td>0.737363</td>\n    </tr>\n    <tr>\n      <th>7</th>\n      <td>lower-ponct-tfidf-lsi70</td>\n      <td>70</td>\n      <td>7.656</td>\n      <td>0.611407</td>\n      <td>0.630516</td>\n    </tr>\n    <tr>\n      <th>8</th>\n      <td>lower-ponct-stop-tfidf-lsi70</td>\n      <td>70</td>\n      <td>9.508</td>\n      <td>0.629616</td>\n      <td>0.647499</td>\n    </tr>\n    <tr>\n      <th>9</th>\n      <td>lower-ponct-stop-stemm-tfidf-lsi70</td>\n      <td>70</td>\n      <td>18.218</td>\n      <td>0.660078</td>\n      <td>0.676919</td>\n    </tr>\n  </tbody>\n</table>\n</div>"
     },
     "execution_count": 24,
     "metadata": {},
     "output_type": "execute_result"
    }
   ],
   "source": [
    "def pipe_10(data):\n",
    "    start_time = time.time()\n",
    "    \n",
    "    #preprocesing\n",
    "    df = data.copy()\n",
    "    df = lowercase_func(df)\n",
    "    df = ponctuation_remov_func(df)\n",
    "    df = remove_stop_words(df)\n",
    "    \n",
    "    df = stemming_func(df)\n",
    "\n",
    "    X, nan1, nan2 = LSI_func(df, 70)\n",
    "    #X, _ = TF_IDF_func(df, 1)\n",
    "    y = df['label']\n",
    "    description = 'lower-ponct-stop-stemm-tfidf-lsi70'\n",
    "    \n",
    "    # call the model\n",
    "    acc_rdf, f1_rdf = model(X, y)\n",
    "    \n",
    "    end_time = time.time()\n",
    "\n",
    "    num_features = X.shape[1]\n",
    "    pipe_time = end_time - start_time\n",
    "    pipe_time = format(pipe_time, '.3f')\n",
    "    \n",
    "    metrics_data.loc[len(metrics_data.index)] = [description, num_features,  pipe_time,  f1_rdf,  acc_rdf]\n",
    "\n",
    "pipe_10(data)\n",
    "metrics_data"
   ],
   "metadata": {
    "collapsed": false,
    "ExecuteTime": {
     "end_time": "2023-11-15T22:17:43.365258727Z",
     "start_time": "2023-11-15T22:17:25.134444148Z"
    }
   }
  },
  {
   "cell_type": "code",
   "execution_count": 25,
   "outputs": [
    {
     "name": "stderr",
     "output_type": "stream",
     "text": [
      "/home/daniel/anaconda3/envs/cv/lib/python3.11/site-packages/sklearn/utils/validation.py:605: FutureWarning: is_sparse is deprecated and will be removed in a future version. Check `isinstance(dtype, pd.SparseDtype)` instead.\n",
      "  if is_sparse(pd_dtype):\n",
      "/home/daniel/anaconda3/envs/cv/lib/python3.11/site-packages/sklearn/utils/validation.py:614: FutureWarning: is_sparse is deprecated and will be removed in a future version. Check `isinstance(dtype, pd.SparseDtype)` instead.\n",
      "  if is_sparse(pd_dtype) or not is_extension_array_dtype(pd_dtype):\n",
      "/home/daniel/anaconda3/envs/cv/lib/python3.11/site-packages/sklearn/utils/validation.py:605: FutureWarning: is_sparse is deprecated and will be removed in a future version. Check `isinstance(dtype, pd.SparseDtype)` instead.\n",
      "  if is_sparse(pd_dtype):\n",
      "/home/daniel/anaconda3/envs/cv/lib/python3.11/site-packages/sklearn/utils/validation.py:614: FutureWarning: is_sparse is deprecated and will be removed in a future version. Check `isinstance(dtype, pd.SparseDtype)` instead.\n",
      "  if is_sparse(pd_dtype) or not is_extension_array_dtype(pd_dtype):\n",
      "/home/daniel/anaconda3/envs/cv/lib/python3.11/site-packages/sklearn/utils/validation.py:605: FutureWarning: is_sparse is deprecated and will be removed in a future version. Check `isinstance(dtype, pd.SparseDtype)` instead.\n",
      "  if is_sparse(pd_dtype):\n",
      "/home/daniel/anaconda3/envs/cv/lib/python3.11/site-packages/sklearn/utils/validation.py:614: FutureWarning: is_sparse is deprecated and will be removed in a future version. Check `isinstance(dtype, pd.SparseDtype)` instead.\n",
      "  if is_sparse(pd_dtype) or not is_extension_array_dtype(pd_dtype):\n",
      "/home/daniel/anaconda3/envs/cv/lib/python3.11/site-packages/sklearn/utils/validation.py:605: FutureWarning: is_sparse is deprecated and will be removed in a future version. Check `isinstance(dtype, pd.SparseDtype)` instead.\n",
      "  if is_sparse(pd_dtype):\n",
      "/home/daniel/anaconda3/envs/cv/lib/python3.11/site-packages/sklearn/utils/validation.py:614: FutureWarning: is_sparse is deprecated and will be removed in a future version. Check `isinstance(dtype, pd.SparseDtype)` instead.\n",
      "  if is_sparse(pd_dtype) or not is_extension_array_dtype(pd_dtype):\n",
      "/home/daniel/anaconda3/envs/cv/lib/python3.11/site-packages/sklearn/utils/validation.py:605: FutureWarning: is_sparse is deprecated and will be removed in a future version. Check `isinstance(dtype, pd.SparseDtype)` instead.\n",
      "  if is_sparse(pd_dtype):\n",
      "/home/daniel/anaconda3/envs/cv/lib/python3.11/site-packages/sklearn/utils/validation.py:614: FutureWarning: is_sparse is deprecated and will be removed in a future version. Check `isinstance(dtype, pd.SparseDtype)` instead.\n",
      "  if is_sparse(pd_dtype) or not is_extension_array_dtype(pd_dtype):\n",
      "/home/daniel/anaconda3/envs/cv/lib/python3.11/site-packages/sklearn/utils/validation.py:605: FutureWarning: is_sparse is deprecated and will be removed in a future version. Check `isinstance(dtype, pd.SparseDtype)` instead.\n",
      "  if is_sparse(pd_dtype):\n",
      "/home/daniel/anaconda3/envs/cv/lib/python3.11/site-packages/sklearn/utils/validation.py:614: FutureWarning: is_sparse is deprecated and will be removed in a future version. Check `isinstance(dtype, pd.SparseDtype)` instead.\n",
      "  if is_sparse(pd_dtype) or not is_extension_array_dtype(pd_dtype):\n",
      "/home/daniel/anaconda3/envs/cv/lib/python3.11/site-packages/sklearn/utils/validation.py:605: FutureWarning: is_sparse is deprecated and will be removed in a future version. Check `isinstance(dtype, pd.SparseDtype)` instead.\n",
      "  if is_sparse(pd_dtype):\n",
      "/home/daniel/anaconda3/envs/cv/lib/python3.11/site-packages/sklearn/utils/validation.py:614: FutureWarning: is_sparse is deprecated and will be removed in a future version. Check `isinstance(dtype, pd.SparseDtype)` instead.\n",
      "  if is_sparse(pd_dtype) or not is_extension_array_dtype(pd_dtype):\n",
      "/home/daniel/anaconda3/envs/cv/lib/python3.11/site-packages/sklearn/utils/validation.py:605: FutureWarning: is_sparse is deprecated and will be removed in a future version. Check `isinstance(dtype, pd.SparseDtype)` instead.\n",
      "  if is_sparse(pd_dtype):\n",
      "/home/daniel/anaconda3/envs/cv/lib/python3.11/site-packages/sklearn/utils/validation.py:614: FutureWarning: is_sparse is deprecated and will be removed in a future version. Check `isinstance(dtype, pd.SparseDtype)` instead.\n",
      "  if is_sparse(pd_dtype) or not is_extension_array_dtype(pd_dtype):\n",
      "/home/daniel/anaconda3/envs/cv/lib/python3.11/site-packages/sklearn/utils/validation.py:605: FutureWarning: is_sparse is deprecated and will be removed in a future version. Check `isinstance(dtype, pd.SparseDtype)` instead.\n",
      "  if is_sparse(pd_dtype):\n",
      "/home/daniel/anaconda3/envs/cv/lib/python3.11/site-packages/sklearn/utils/validation.py:614: FutureWarning: is_sparse is deprecated and will be removed in a future version. Check `isinstance(dtype, pd.SparseDtype)` instead.\n",
      "  if is_sparse(pd_dtype) or not is_extension_array_dtype(pd_dtype):\n",
      "/home/daniel/anaconda3/envs/cv/lib/python3.11/site-packages/sklearn/utils/validation.py:605: FutureWarning: is_sparse is deprecated and will be removed in a future version. Check `isinstance(dtype, pd.SparseDtype)` instead.\n",
      "  if is_sparse(pd_dtype):\n",
      "/home/daniel/anaconda3/envs/cv/lib/python3.11/site-packages/sklearn/utils/validation.py:614: FutureWarning: is_sparse is deprecated and will be removed in a future version. Check `isinstance(dtype, pd.SparseDtype)` instead.\n",
      "  if is_sparse(pd_dtype) or not is_extension_array_dtype(pd_dtype):\n"
     ]
    },
    {
     "data": {
      "text/plain": "                                 Description  num_features pipe_time  \\\n0                                      tfidf          8598    11.629   \n1                                lower-tfidf          6225    11.076   \n2                          lower-ponct-tfidf          6193     8.697   \n3                    lower-ponct-stopw-tfidf          6142    11.360   \n4              lower-ponct-stopw-lemma-tfidf          4946   148.964   \n5              lower-ponct-stopw-stemm-tfidf          3592    19.444   \n6        lower-ponct-stopw-lemma-stemm-tfidf          3535   153.683   \n7                    lower-ponct-tfidf-lsi70            70     7.656   \n8               lower-ponct-stop-tfidf-lsi70            70     9.508   \n9         lower-ponct-stop-stemm-tfidf-lsi70            70    18.218   \n10  lower-ponct-stop-lemma-stemm-tfidf-lsi70            70   169.712   \n\n      f1_rdf   acc_rdf  \n0   0.686943  0.706339  \n1   0.685206  0.705403  \n2   0.686105  0.705536  \n3   0.695123  0.712490  \n4   0.703538  0.720647  \n5   0.720057  0.736026  \n6   0.720829  0.737363  \n7   0.611407  0.630516  \n8   0.629616  0.647499  \n9   0.660078  0.676919  \n10  0.665170  0.680931  ",
      "text/html": "<div>\n<style scoped>\n    .dataframe tbody tr th:only-of-type {\n        vertical-align: middle;\n    }\n\n    .dataframe tbody tr th {\n        vertical-align: top;\n    }\n\n    .dataframe thead th {\n        text-align: right;\n    }\n</style>\n<table border=\"1\" class=\"dataframe\">\n  <thead>\n    <tr style=\"text-align: right;\">\n      <th></th>\n      <th>Description</th>\n      <th>num_features</th>\n      <th>pipe_time</th>\n      <th>f1_rdf</th>\n      <th>acc_rdf</th>\n    </tr>\n  </thead>\n  <tbody>\n    <tr>\n      <th>0</th>\n      <td>tfidf</td>\n      <td>8598</td>\n      <td>11.629</td>\n      <td>0.686943</td>\n      <td>0.706339</td>\n    </tr>\n    <tr>\n      <th>1</th>\n      <td>lower-tfidf</td>\n      <td>6225</td>\n      <td>11.076</td>\n      <td>0.685206</td>\n      <td>0.705403</td>\n    </tr>\n    <tr>\n      <th>2</th>\n      <td>lower-ponct-tfidf</td>\n      <td>6193</td>\n      <td>8.697</td>\n      <td>0.686105</td>\n      <td>0.705536</td>\n    </tr>\n    <tr>\n      <th>3</th>\n      <td>lower-ponct-stopw-tfidf</td>\n      <td>6142</td>\n      <td>11.360</td>\n      <td>0.695123</td>\n      <td>0.712490</td>\n    </tr>\n    <tr>\n      <th>4</th>\n      <td>lower-ponct-stopw-lemma-tfidf</td>\n      <td>4946</td>\n      <td>148.964</td>\n      <td>0.703538</td>\n      <td>0.720647</td>\n    </tr>\n    <tr>\n      <th>5</th>\n      <td>lower-ponct-stopw-stemm-tfidf</td>\n      <td>3592</td>\n      <td>19.444</td>\n      <td>0.720057</td>\n      <td>0.736026</td>\n    </tr>\n    <tr>\n      <th>6</th>\n      <td>lower-ponct-stopw-lemma-stemm-tfidf</td>\n      <td>3535</td>\n      <td>153.683</td>\n      <td>0.720829</td>\n      <td>0.737363</td>\n    </tr>\n    <tr>\n      <th>7</th>\n      <td>lower-ponct-tfidf-lsi70</td>\n      <td>70</td>\n      <td>7.656</td>\n      <td>0.611407</td>\n      <td>0.630516</td>\n    </tr>\n    <tr>\n      <th>8</th>\n      <td>lower-ponct-stop-tfidf-lsi70</td>\n      <td>70</td>\n      <td>9.508</td>\n      <td>0.629616</td>\n      <td>0.647499</td>\n    </tr>\n    <tr>\n      <th>9</th>\n      <td>lower-ponct-stop-stemm-tfidf-lsi70</td>\n      <td>70</td>\n      <td>18.218</td>\n      <td>0.660078</td>\n      <td>0.676919</td>\n    </tr>\n    <tr>\n      <th>10</th>\n      <td>lower-ponct-stop-lemma-stemm-tfidf-lsi70</td>\n      <td>70</td>\n      <td>169.712</td>\n      <td>0.665170</td>\n      <td>0.680931</td>\n    </tr>\n  </tbody>\n</table>\n</div>"
     },
     "execution_count": 25,
     "metadata": {},
     "output_type": "execute_result"
    }
   ],
   "source": [
    "def pipe_11(data):\n",
    "    start_time = time.time()\n",
    "    \n",
    "    #preprocesing\n",
    "    df = data.copy()\n",
    "    df = lowercase_func(df)\n",
    "    df = ponctuation_remov_func(df)\n",
    "    df = remove_stop_words(df)\n",
    "    df = lemmatization_func(df)\n",
    "    df = stemming_func(df)\n",
    "\n",
    "    X, nan1, nan2 = LSI_func(df, 70)\n",
    "    #X, _ = TF_IDF_func(df, 1)\n",
    "    y = df['label']\n",
    "    description = 'lower-ponct-stop-lemma-stemm-tfidf-lsi70'\n",
    "    \n",
    "    # call the model\n",
    "    acc_rdf, f1_rdf = model(X, y)\n",
    "    \n",
    "    end_time = time.time()\n",
    "\n",
    "    num_features = X.shape[1]\n",
    "    pipe_time = end_time - start_time\n",
    "    pipe_time = format(pipe_time, '.3f')\n",
    "    \n",
    "    metrics_data.loc[len(metrics_data.index)] = [description, num_features,  pipe_time,  f1_rdf,  acc_rdf]\n",
    "\n",
    "pipe_11(data)\n",
    "metrics_data"
   ],
   "metadata": {
    "collapsed": false,
    "ExecuteTime": {
     "end_time": "2023-11-15T22:20:33.090257418Z",
     "start_time": "2023-11-15T22:17:43.365060635Z"
    }
   }
  },
  {
   "cell_type": "code",
   "execution_count": 27,
   "outputs": [],
   "source": [
    "metrics_data.to_csv('metric_data_sp_tfidf30.csv', index=False)"
   ],
   "metadata": {
    "collapsed": false,
    "ExecuteTime": {
     "end_time": "2023-11-15T22:21:29.645948617Z",
     "start_time": "2023-11-15T22:21:29.605527001Z"
    }
   }
  },
  {
   "cell_type": "code",
   "execution_count": 26,
   "outputs": [],
   "source": [],
   "metadata": {
    "collapsed": false,
    "ExecuteTime": {
     "end_time": "2023-11-15T22:20:33.138613357Z",
     "start_time": "2023-11-15T22:20:33.133639182Z"
    }
   }
  }
 ],
 "metadata": {
  "accelerator": "GPU",
  "colab": {
   "provenance": [],
   "collapsed_sections": [
    "yf0Vev_nyflN",
    "pgVWw8TeJe35",
    "9U3EG6MEsaxr",
    "BeupEvaPsid_",
    "S4QMx_P4tIW3"
   ]
  },
  "kernelspec": {
   "name": "python3",
   "language": "python",
   "display_name": "Python 3 (ipykernel)"
  },
  "language_info": {
   "name": "python"
  }
 },
 "nbformat": 4,
 "nbformat_minor": 0
}
