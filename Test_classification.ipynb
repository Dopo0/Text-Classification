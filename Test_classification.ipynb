{
 "cells": [
  {
   "cell_type": "code",
   "execution_count": 14,
   "metadata": {
    "executionInfo": {
     "elapsed": 3,
     "status": "ok",
     "timestamp": 1700074505489,
     "user": {
      "displayName": "Thiago Yoshimura",
      "userId": "04877688367996314129"
     },
     "user_tz": 300
    },
    "id": "weIhrUCcriZJ",
    "ExecuteTime": {
     "end_time": "2023-11-16T00:55:47.817730871Z",
     "start_time": "2023-11-16T00:55:47.737818512Z"
    }
   },
   "outputs": [],
   "source": [
    "import numpy as np\n",
    "import pandas as pd\n",
    "from sklearn.model_selection import train_test_split\n",
    "from sklearn.feature_extraction.text import TfidfVectorizer\n",
    "from sklearn.linear_model import LogisticRegression\n",
    "from sklearn.metrics import classification_report, accuracy_score, f1_score\n",
    "from sklearn.decomposition import TruncatedSVD\n",
    "\n",
    "import nltk\n",
    "from nltk.corpus import stopwords\n",
    "from nltk.tokenize import word_tokenize\n",
    "from nltk.stem import SnowballStemmer\n",
    "import string\n",
    "import spacy\n",
    "import time\n",
    "\n",
    "from sklearn.ensemble import RandomForestClassifier\n",
    "from sklearn.metrics import accuracy_score\n",
    "\n",
    "from pandarallel import pandarallel\n",
    "from tqdm.notebook import tqdm\n"
   ]
  },
  {
   "cell_type": "code",
   "execution_count": 15,
   "metadata": {
    "colab": {
     "base_uri": "https://localhost:8080/"
    },
    "executionInfo": {
     "elapsed": 733,
     "status": "ok",
     "timestamp": 1700071638447,
     "user": {
      "displayName": "Thiago Yoshimura",
      "userId": "04877688367996314129"
     },
     "user_tz": 300
    },
    "id": "76u-_AxK1PYn",
    "outputId": "5681243a-ee37-48af-b466-7a07d6cc3bb2",
    "ExecuteTime": {
     "end_time": "2023-11-16T00:55:47.827433581Z",
     "start_time": "2023-11-16T00:55:47.744217970Z"
    }
   },
   "outputs": [
    {
     "name": "stdout",
     "output_type": "stream",
     "text": [
      "INFO: Pandarallel will run on 14 workers.\n",
      "INFO: Pandarallel will use Memory file system to transfer data between the main process and workers.\n"
     ]
    },
    {
     "name": "stderr",
     "output_type": "stream",
     "text": [
      "[nltk_data] Downloading package punkt to /home/daniel/nltk_data...\n",
      "[nltk_data]   Package punkt is already up-to-date!\n",
      "[nltk_data] Downloading package stopwords to /home/daniel/nltk_data...\n",
      "[nltk_data]   Package stopwords is already up-to-date!\n"
     ]
    }
   ],
   "source": [
    "nltk.download('punkt')\n",
    "nltk.download('stopwords')\n",
    "\n",
    "pandarallel.initialize(progress_bar=True)\n",
    "tqdm.pandas()"
   ]
  },
  {
   "cell_type": "markdown",
   "metadata": {
    "id": "yf0Vev_nyflN"
   },
   "source": [
    "# data"
   ]
  },
  {
   "cell_type": "raw",
   "source": [
    "from google.colab import drive\n",
    "drive.mount('/content/drive')"
   ],
   "metadata": {
    "collapsed": false
   }
  },
  {
   "cell_type": "code",
   "execution_count": 16,
   "outputs": [
    {
     "data": {
      "text/plain": "                    label                                               text\n0        Caída de objetos               Take out well keys. Key was removed.\n1           Mantenimiento  Cabin fan does not work. Cable was disconnecte...\n2      Suministro energía  The elevator started on the 23rd floor and sto...\n3       Golpe, Vandalismo  The elevator is blocked. They opened the hatch...\n4        Caída de objetos  Take out well keys. Key was removed. She had f...\n...                   ...                                                ...\n37385            Material  ELEVATOR OUT OF SERVICE. The equipment was fou...\n37386            Material  ELEVATOR OUT OF SERVICE. An intermittent failu...\n37387    Funcionando Bien  LOAD OUT OF SERVICE. Equipment was found worki...\n37388       Mantenimiento  ROSE IN CABIN. Equipment was found operating w...\n37389   Golpe, Vandalismo  ELEVATOR OUT OF SERVICE. Equipment was found b...\n\n[37390 rows x 2 columns]",
      "text/html": "<div>\n<style scoped>\n    .dataframe tbody tr th:only-of-type {\n        vertical-align: middle;\n    }\n\n    .dataframe tbody tr th {\n        vertical-align: top;\n    }\n\n    .dataframe thead th {\n        text-align: right;\n    }\n</style>\n<table border=\"1\" class=\"dataframe\">\n  <thead>\n    <tr style=\"text-align: right;\">\n      <th></th>\n      <th>label</th>\n      <th>text</th>\n    </tr>\n  </thead>\n  <tbody>\n    <tr>\n      <th>0</th>\n      <td>Caída de objetos</td>\n      <td>Take out well keys. Key was removed.</td>\n    </tr>\n    <tr>\n      <th>1</th>\n      <td>Mantenimiento</td>\n      <td>Cabin fan does not work. Cable was disconnecte...</td>\n    </tr>\n    <tr>\n      <th>2</th>\n      <td>Suministro energía</td>\n      <td>The elevator started on the 23rd floor and sto...</td>\n    </tr>\n    <tr>\n      <th>3</th>\n      <td>Golpe, Vandalismo</td>\n      <td>The elevator is blocked. They opened the hatch...</td>\n    </tr>\n    <tr>\n      <th>4</th>\n      <td>Caída de objetos</td>\n      <td>Take out well keys. Key was removed. She had f...</td>\n    </tr>\n    <tr>\n      <th>...</th>\n      <td>...</td>\n      <td>...</td>\n    </tr>\n    <tr>\n      <th>37385</th>\n      <td>Material</td>\n      <td>ELEVATOR OUT OF SERVICE. The equipment was fou...</td>\n    </tr>\n    <tr>\n      <th>37386</th>\n      <td>Material</td>\n      <td>ELEVATOR OUT OF SERVICE. An intermittent failu...</td>\n    </tr>\n    <tr>\n      <th>37387</th>\n      <td>Funcionando Bien</td>\n      <td>LOAD OUT OF SERVICE. Equipment was found worki...</td>\n    </tr>\n    <tr>\n      <th>37388</th>\n      <td>Mantenimiento</td>\n      <td>ROSE IN CABIN. Equipment was found operating w...</td>\n    </tr>\n    <tr>\n      <th>37389</th>\n      <td>Golpe, Vandalismo</td>\n      <td>ELEVATOR OUT OF SERVICE. Equipment was found b...</td>\n    </tr>\n  </tbody>\n</table>\n<p>37390 rows × 2 columns</p>\n</div>"
     },
     "execution_count": 16,
     "metadata": {},
     "output_type": "execute_result"
    }
   ],
   "source": [
    "data = pd.read_csv('data/en_data.csv')\n",
    "data.drop('text', axis=1, inplace=True)\n",
    "data.rename(columns={'value_en':'text'},inplace=True)\n",
    "data"
   ],
   "metadata": {
    "collapsed": false,
    "ExecuteTime": {
     "end_time": "2023-11-16T00:55:48.031575076Z",
     "start_time": "2023-11-16T00:55:47.750449326Z"
    }
   }
  },
  {
   "cell_type": "markdown",
   "metadata": {
    "id": "BJ9A2ApssJ6e"
   },
   "source": [
    "# Tokenization"
   ]
  },
  {
   "cell_type": "code",
   "execution_count": 17,
   "metadata": {
    "executionInfo": {
     "elapsed": 7,
     "status": "ok",
     "timestamp": 1700071660619,
     "user": {
      "displayName": "Thiago Yoshimura",
      "userId": "04877688367996314129"
     },
     "user_tz": 300
    },
    "id": "Inij8ssasRQn",
    "ExecuteTime": {
     "end_time": "2023-11-16T00:55:48.031852629Z",
     "start_time": "2023-11-16T00:55:47.923052172Z"
    }
   },
   "outputs": [],
   "source": [
    "def token_func(data):\n",
    "    return nltk.word_tokenize(data)"
   ]
  },
  {
   "cell_type": "markdown",
   "metadata": {
    "id": "pspdYZ0psFs8"
   },
   "source": [
    "# Stopwords"
   ]
  },
  {
   "cell_type": "code",
   "execution_count": 18,
   "metadata": {
    "executionInfo": {
     "elapsed": 197,
     "status": "ok",
     "timestamp": 1700071660809,
     "user": {
      "displayName": "Thiago Yoshimura",
      "userId": "04877688367996314129"
     },
     "user_tz": 300
    },
    "id": "EWqKVRyjsE-O",
    "ExecuteTime": {
     "end_time": "2023-11-16T00:55:48.031969916Z",
     "start_time": "2023-11-16T00:55:47.923198396Z"
    }
   },
   "outputs": [],
   "source": [
    "stop_words = set(stopwords.words('english'))\n",
    "\n",
    "def pre_remove_stop_words(data):\n",
    "    word_tokens = token_func(data)\n",
    "    data = [word for word in word_tokens if word.lower() not in stop_words]\n",
    "    return ' '.join(data)\n",
    "\n",
    "def remove_stop_words(data):\n",
    "  data['text'] = data['text'].parallel_apply(pre_remove_stop_words)\n",
    "  return data\n"
   ]
  },
  {
   "cell_type": "markdown",
   "metadata": {
    "id": "pgVWw8TeJe35"
   },
   "source": [
    "# Remove Ponctuation"
   ]
  },
  {
   "cell_type": "code",
   "execution_count": 19,
   "metadata": {
    "executionInfo": {
     "elapsed": 11,
     "status": "ok",
     "timestamp": 1700071660810,
     "user": {
      "displayName": "Thiago Yoshimura",
      "userId": "04877688367996314129"
     },
     "user_tz": 300
    },
    "id": "TtrmPr0VJiVm",
    "ExecuteTime": {
     "end_time": "2023-11-16T00:55:48.032057810Z",
     "start_time": "2023-11-16T00:55:47.923261140Z"
    }
   },
   "outputs": [],
   "source": [
    "def ponct_func(data):\n",
    "  data = data.translate(str.maketrans('', '', string.punctuation))\n",
    "  return data\n",
    "\n",
    "def ponctuation_remov_func(data):\n",
    "  data['text'] = data['text'].parallel_apply(ponct_func)\n",
    "  return data"
   ]
  },
  {
   "cell_type": "markdown",
   "metadata": {
    "id": "9U3EG6MEsaxr"
   },
   "source": [
    "# Lowercase convertion"
   ]
  },
  {
   "cell_type": "code",
   "execution_count": 20,
   "metadata": {
    "executionInfo": {
     "elapsed": 8,
     "status": "ok",
     "timestamp": 1700071660810,
     "user": {
      "displayName": "Thiago Yoshimura",
      "userId": "04877688367996314129"
     },
     "user_tz": 300
    },
    "id": "kQcAvkKGr0M2",
    "ExecuteTime": {
     "end_time": "2023-11-16T00:55:48.032140416Z",
     "start_time": "2023-11-16T00:55:47.923305231Z"
    }
   },
   "outputs": [],
   "source": [
    "def lowercase_func(data):\n",
    "    data['text'] = data['text'].str.lower()\n",
    "    return data"
   ]
  },
  {
   "cell_type": "markdown",
   "metadata": {
    "id": "BeupEvaPsid_"
   },
   "source": [
    "# Stemming"
   ]
  },
  {
   "cell_type": "code",
   "execution_count": 21,
   "metadata": {
    "executionInfo": {
     "elapsed": 7,
     "status": "ok",
     "timestamp": 1700071660810,
     "user": {
      "displayName": "Thiago Yoshimura",
      "userId": "04877688367996314129"
     },
     "user_tz": 300
    },
    "id": "4vH8VmkOsgyM",
    "ExecuteTime": {
     "end_time": "2023-11-16T00:55:48.032248489Z",
     "start_time": "2023-11-16T00:55:47.923348443Z"
    }
   },
   "outputs": [],
   "source": [
    "stemmer = SnowballStemmer('english')\n",
    "\n",
    "def preprocess_text(text):\n",
    "    word_tokens = word_tokenize(text)\n",
    "    filtered_text = [stemmer.stem(word) for word in word_tokens]\n",
    "    return ' '.join(filtered_text)\n",
    "\n",
    "def stemming_func(data):\n",
    "    data['text'] = data['text'].parallel_apply(preprocess_text)\n",
    "    return data"
   ]
  },
  {
   "cell_type": "markdown",
   "metadata": {
    "id": "Z2QL-ocdsoy_"
   },
   "source": [
    "# Lemmatization"
   ]
  },
  {
   "cell_type": "raw",
   "source": [
    "!python -m spacy download en_core_web_md"
   ],
   "metadata": {
    "collapsed": false
   }
  },
  {
   "cell_type": "code",
   "execution_count": 22,
   "metadata": {
    "executionInfo": {
     "elapsed": 1520,
     "status": "ok",
     "timestamp": 1700071678693,
     "user": {
      "displayName": "Thiago Yoshimura",
      "userId": "04877688367996314129"
     },
     "user_tz": 300
    },
    "id": "F0WNVwlRsn-v",
    "ExecuteTime": {
     "end_time": "2023-11-16T00:55:48.731881927Z",
     "start_time": "2023-11-16T00:55:47.923390232Z"
    }
   },
   "outputs": [],
   "source": [
    "nlp = spacy.load('en_core_web_md')\n",
    "\n",
    "# Function to preprocess and lemmatize text\n",
    "def preprocess_and_lemmatize(text):\n",
    "    # Process the text with spaCy\n",
    "    doc = nlp(text)\n",
    "\n",
    "    # Extract lemmatized tokens and join them back into a string\n",
    "    lemmatized_text = ' '.join([token.lemma_ for token in doc])\n",
    "\n",
    "    return lemmatized_text\n",
    "\n",
    "# Example function to apply preprocessing and lemmatization to a dataset column\n",
    "def lemmatization_func(data):\n",
    "    data['text'] = data['text'].parallel_apply(preprocess_and_lemmatize)\n",
    "    return data"
   ]
  },
  {
   "cell_type": "markdown",
   "metadata": {
    "id": "zCWvc9tjsyrE"
   },
   "source": [
    "# Feature extraction TF_IDF"
   ]
  },
  {
   "cell_type": "markdown",
   "metadata": {
    "id": "dsTky0u82t01"
   },
   "source": [
    "##### Total number of unique words in all the dataset, this number is 1,513,787 and 20,751 with lowercase\n",
    "X_lower = lowercase_func(data)\n",
    "X_lowe = X_lower['text']\n",
    "token_data = X_lowe.apply(token_func)\n",
    "flat_list = [token for sublist in token_data for token in sublist]\n",
    "flat_list\n",
    "print(len(flat_list))\n",
    "unique_words = set(flat_list)\n",
    "print(len(unique_words))"
   ]
  },
  {
   "cell_type": "code",
   "execution_count": 23,
   "metadata": {
    "executionInfo": {
     "elapsed": 207,
     "status": "ok",
     "timestamp": 1700075743230,
     "user": {
      "displayName": "Thiago Yoshimura",
      "userId": "04877688367996314129"
     },
     "user_tz": 300
    },
    "id": "-uBiXh1ysuZW",
    "ExecuteTime": {
     "end_time": "2023-11-16T00:55:48.734626035Z",
     "start_time": "2023-11-16T00:55:48.733395496Z"
    }
   },
   "outputs": [],
   "source": [
    "def TF_IDF_func(data, words_rate=0.1):\n",
    "  token_data = data['text'].apply(token_func)\n",
    "  flat_list = [token for sublist in token_data for token in sublist]\n",
    "  unique_words = len(set(flat_list))\n",
    "  tfidf_vectorizer = TfidfVectorizer(max_features= int(unique_words * words_rate))\n",
    "\n",
    "  data_tfidf = tfidf_vectorizer.fit_transform(data['text'])\n",
    "  return data_tfidf, tfidf_vectorizer"
   ]
  },
  {
   "cell_type": "markdown",
   "metadata": {
    "id": "S4QMx_P4tIW3"
   },
   "source": [
    "# Feature selection LSI"
   ]
  },
  {
   "cell_type": "code",
   "execution_count": 24,
   "metadata": {
    "executionInfo": {
     "elapsed": 5,
     "status": "ok",
     "timestamp": 1700071678694,
     "user": {
      "displayName": "Thiago Yoshimura",
      "userId": "04877688367996314129"
     },
     "user_tz": 300
    },
    "id": "v7CkqFSMtH0o",
    "ExecuteTime": {
     "end_time": "2023-11-16T00:55:48.744767446Z",
     "start_time": "2023-11-16T00:55:48.735492199Z"
    }
   },
   "outputs": [],
   "source": [
    "def LSI_func(data,  num_topics = 30):\n",
    "  tfidf_matrix, tfidf_vectorizer = TF_IDF_func(data)\n",
    "  lsa = TruncatedSVD(n_components=num_topics)\n",
    "  data_lsa = lsa.fit_transform(tfidf_matrix)\n",
    "  return data_lsa, lsa, tfidf_vectorizer"
   ]
  },
  {
   "cell_type": "raw",
   "source": [
    "lsa_data, lsa, tfidf_vectorizer = LSI_func(data)\n",
    "lsa_data"
   ],
   "metadata": {
    "collapsed": false
   }
  },
  {
   "cell_type": "raw",
   "source": [
    "terms = tfidf_vectorizer.get_feature_names_out()\n",
    "for i, topic in enumerate(lsa.components_):\n",
    "    top_words_idx = topic.argsort()[-10:][::-1]\n",
    "    top_words = [terms[idx] for idx in top_words_idx]\n",
    "    print(f\"Topic {i+1}: {', '.join(top_words)}\")\n"
   ],
   "metadata": {
    "collapsed": false
   }
  },
  {
   "cell_type": "markdown",
   "metadata": {
    "id": "6INZysTL3A27"
   },
   "source": [
    "# Models"
   ]
  },
  {
   "cell_type": "code",
   "execution_count": 25,
   "metadata": {
    "id": "NfxJR2K82-SN",
    "executionInfo": {
     "status": "ok",
     "timestamp": 1700076594843,
     "user_tz": 300,
     "elapsed": 148,
     "user": {
      "displayName": "Thiago Yoshimura",
      "userId": "04877688367996314129"
     }
    },
    "ExecuteTime": {
     "end_time": "2023-11-16T00:55:48.747426954Z",
     "start_time": "2023-11-16T00:55:48.742811447Z"
    }
   },
   "outputs": [],
   "source": [
    "def model(X, y):\n",
    "    X_train, X_test, y_train, y_test = train_test_split(X, y, test_size=0.2, random_state=42)\n",
    "    clf = RandomForestClassifier(n_jobs=-1)\n",
    "    clf.fit(X_train, y_train)\n",
    "    predictions = clf.predict(X_test)\n",
    "    rdf_accuracy = accuracy_score(y_test, predictions)\n",
    "    rdf_f1 = f1_score(y_test, predictions, average='weighted')\n",
    "    return rdf_accuracy, rdf_f1\n"
   ]
  },
  {
   "cell_type": "raw",
   "source": [
    "%%time\n",
    "df = lowercase_func(data)\n",
    "df = lemmatization_func(df)\n",
    "X_tfidf,_ = TF_IDF_func(data,1)\n",
    "acc, f1 = model(X_tfidf, data['label'] )\n",
    "print(acc)\n",
    "print(f1)"
   ],
   "metadata": {
    "collapsed": false
   }
  },
  {
   "cell_type": "markdown",
   "source": [
    "# Code"
   ],
   "metadata": {
    "id": "fcWN-N6CLOSf"
   }
  },
  {
   "cell_type": "raw",
   "source": [
    "# remove_stop_words, ponct_func, lowercase_func, steamming_func, TF_IDF_func\n",
    "%%time\n",
    "df = lowercase_func(data)\n",
    "df = puntuation_remov_func(df)\n",
    "df = remove_stop_words(df)\n",
    "df = lemmatization_func(df)\n",
    "X_tfidf, _ = TF_IDF_func(df)\n"
   ],
   "metadata": {
    "collapsed": false
   }
  },
  {
   "cell_type": "code",
   "source": [
    "metrics_data = pd.DataFrame({})\n",
    "metrics_data[['Description','num_features', 'pipe_time', 'f1_rdf', 'acc_rdf']]=\"\"\n",
    "metrics_data\n"
   ],
   "metadata": {
    "colab": {
     "base_uri": "https://localhost:8080/",
     "height": 53
    },
    "id": "asOj0AN-U5hV",
    "executionInfo": {
     "status": "ok",
     "timestamp": 1700076322464,
     "user_tz": 300,
     "elapsed": 12,
     "user": {
      "displayName": "Thiago Yoshimura",
      "userId": "04877688367996314129"
     }
    },
    "outputId": "cfd7aaee-35df-489b-ddd7-971488806cb1",
    "ExecuteTime": {
     "end_time": "2023-11-16T00:55:48.787566487Z",
     "start_time": "2023-11-16T00:55:48.746580058Z"
    }
   },
   "execution_count": 26,
   "outputs": [
    {
     "data": {
      "text/plain": "Empty DataFrame\nColumns: [Description, num_features, pipe_time, f1_rdf, acc_rdf]\nIndex: []",
      "text/html": "<div>\n<style scoped>\n    .dataframe tbody tr th:only-of-type {\n        vertical-align: middle;\n    }\n\n    .dataframe tbody tr th {\n        vertical-align: top;\n    }\n\n    .dataframe thead th {\n        text-align: right;\n    }\n</style>\n<table border=\"1\" class=\"dataframe\">\n  <thead>\n    <tr style=\"text-align: right;\">\n      <th></th>\n      <th>Description</th>\n      <th>num_features</th>\n      <th>pipe_time</th>\n      <th>f1_rdf</th>\n      <th>acc_rdf</th>\n    </tr>\n  </thead>\n  <tbody>\n  </tbody>\n</table>\n</div>"
     },
     "execution_count": 26,
     "metadata": {},
     "output_type": "execute_result"
    }
   ]
  },
  {
   "cell_type": "code",
   "execution_count": 27,
   "outputs": [
    {
     "data": {
      "text/plain": "(37390, 2)"
     },
     "execution_count": 27,
     "metadata": {},
     "output_type": "execute_result"
    }
   ],
   "source": [
    "data.shape"
   ],
   "metadata": {
    "collapsed": false,
    "ExecuteTime": {
     "end_time": "2023-11-16T00:55:48.787875911Z",
     "start_time": "2023-11-16T00:55:48.786989006Z"
    }
   }
  },
  {
   "cell_type": "code",
   "source": [
    "def pipe_1(data):\n",
    "    start_time = time.time()\n",
    "    \n",
    "    #preprocesing\n",
    "    X, _ = TF_IDF_func(data, 1)\n",
    "    y = data['label']\n",
    "    description = 'tfidf'\n",
    "    \n",
    "    # call the model\n",
    "    acc_rdf, f1_rdf = model(X, y)\n",
    "    \n",
    "    end_time = time.time()\n",
    "\n",
    "    num_features = X.shape[1]\n",
    "    pipe_time = end_time - start_time\n",
    "    pipe_time = format(pipe_time, '.3f')\n",
    "    \n",
    "\n",
    "    metrics_data.loc[len(metrics_data.index)] = [description, num_features,  pipe_time,  f1_rdf,  acc_rdf]\n",
    "\n",
    "pipe_1(data)\n",
    "metrics_data"
   ],
   "metadata": {
    "id": "ORePDvV7U7qZ",
    "ExecuteTime": {
     "end_time": "2023-11-16T00:56:00.313882996Z",
     "start_time": "2023-11-16T00:55:48.787131990Z"
    }
   },
   "execution_count": 28,
   "outputs": [
    {
     "name": "stderr",
     "output_type": "stream",
     "text": [
      "/home/daniel/anaconda3/envs/cv/lib/python3.11/site-packages/sklearn/utils/validation.py:605: FutureWarning: is_sparse is deprecated and will be removed in a future version. Check `isinstance(dtype, pd.SparseDtype)` instead.\n",
      "  if is_sparse(pd_dtype):\n",
      "/home/daniel/anaconda3/envs/cv/lib/python3.11/site-packages/sklearn/utils/validation.py:614: FutureWarning: is_sparse is deprecated and will be removed in a future version. Check `isinstance(dtype, pd.SparseDtype)` instead.\n",
      "  if is_sparse(pd_dtype) or not is_extension_array_dtype(pd_dtype):\n",
      "/home/daniel/anaconda3/envs/cv/lib/python3.11/site-packages/sklearn/utils/validation.py:605: FutureWarning: is_sparse is deprecated and will be removed in a future version. Check `isinstance(dtype, pd.SparseDtype)` instead.\n",
      "  if is_sparse(pd_dtype):\n",
      "/home/daniel/anaconda3/envs/cv/lib/python3.11/site-packages/sklearn/utils/validation.py:614: FutureWarning: is_sparse is deprecated and will be removed in a future version. Check `isinstance(dtype, pd.SparseDtype)` instead.\n",
      "  if is_sparse(pd_dtype) or not is_extension_array_dtype(pd_dtype):\n",
      "/home/daniel/anaconda3/envs/cv/lib/python3.11/site-packages/sklearn/utils/validation.py:605: FutureWarning: is_sparse is deprecated and will be removed in a future version. Check `isinstance(dtype, pd.SparseDtype)` instead.\n",
      "  if is_sparse(pd_dtype):\n",
      "/home/daniel/anaconda3/envs/cv/lib/python3.11/site-packages/sklearn/utils/validation.py:614: FutureWarning: is_sparse is deprecated and will be removed in a future version. Check `isinstance(dtype, pd.SparseDtype)` instead.\n",
      "  if is_sparse(pd_dtype) or not is_extension_array_dtype(pd_dtype):\n",
      "/home/daniel/anaconda3/envs/cv/lib/python3.11/site-packages/sklearn/utils/validation.py:605: FutureWarning: is_sparse is deprecated and will be removed in a future version. Check `isinstance(dtype, pd.SparseDtype)` instead.\n",
      "  if is_sparse(pd_dtype):\n",
      "/home/daniel/anaconda3/envs/cv/lib/python3.11/site-packages/sklearn/utils/validation.py:614: FutureWarning: is_sparse is deprecated and will be removed in a future version. Check `isinstance(dtype, pd.SparseDtype)` instead.\n",
      "  if is_sparse(pd_dtype) or not is_extension_array_dtype(pd_dtype):\n",
      "/home/daniel/anaconda3/envs/cv/lib/python3.11/site-packages/sklearn/utils/validation.py:605: FutureWarning: is_sparse is deprecated and will be removed in a future version. Check `isinstance(dtype, pd.SparseDtype)` instead.\n",
      "  if is_sparse(pd_dtype):\n",
      "/home/daniel/anaconda3/envs/cv/lib/python3.11/site-packages/sklearn/utils/validation.py:614: FutureWarning: is_sparse is deprecated and will be removed in a future version. Check `isinstance(dtype, pd.SparseDtype)` instead.\n",
      "  if is_sparse(pd_dtype) or not is_extension_array_dtype(pd_dtype):\n",
      "/home/daniel/anaconda3/envs/cv/lib/python3.11/site-packages/sklearn/utils/validation.py:605: FutureWarning: is_sparse is deprecated and will be removed in a future version. Check `isinstance(dtype, pd.SparseDtype)` instead.\n",
      "  if is_sparse(pd_dtype):\n",
      "/home/daniel/anaconda3/envs/cv/lib/python3.11/site-packages/sklearn/utils/validation.py:614: FutureWarning: is_sparse is deprecated and will be removed in a future version. Check `isinstance(dtype, pd.SparseDtype)` instead.\n",
      "  if is_sparse(pd_dtype) or not is_extension_array_dtype(pd_dtype):\n",
      "/home/daniel/anaconda3/envs/cv/lib/python3.11/site-packages/sklearn/utils/validation.py:605: FutureWarning: is_sparse is deprecated and will be removed in a future version. Check `isinstance(dtype, pd.SparseDtype)` instead.\n",
      "  if is_sparse(pd_dtype):\n",
      "/home/daniel/anaconda3/envs/cv/lib/python3.11/site-packages/sklearn/utils/validation.py:614: FutureWarning: is_sparse is deprecated and will be removed in a future version. Check `isinstance(dtype, pd.SparseDtype)` instead.\n",
      "  if is_sparse(pd_dtype) or not is_extension_array_dtype(pd_dtype):\n",
      "/home/daniel/anaconda3/envs/cv/lib/python3.11/site-packages/sklearn/utils/validation.py:605: FutureWarning: is_sparse is deprecated and will be removed in a future version. Check `isinstance(dtype, pd.SparseDtype)` instead.\n",
      "  if is_sparse(pd_dtype):\n",
      "/home/daniel/anaconda3/envs/cv/lib/python3.11/site-packages/sklearn/utils/validation.py:614: FutureWarning: is_sparse is deprecated and will be removed in a future version. Check `isinstance(dtype, pd.SparseDtype)` instead.\n",
      "  if is_sparse(pd_dtype) or not is_extension_array_dtype(pd_dtype):\n",
      "/home/daniel/anaconda3/envs/cv/lib/python3.11/site-packages/sklearn/utils/validation.py:605: FutureWarning: is_sparse is deprecated and will be removed in a future version. Check `isinstance(dtype, pd.SparseDtype)` instead.\n",
      "  if is_sparse(pd_dtype):\n",
      "/home/daniel/anaconda3/envs/cv/lib/python3.11/site-packages/sklearn/utils/validation.py:614: FutureWarning: is_sparse is deprecated and will be removed in a future version. Check `isinstance(dtype, pd.SparseDtype)` instead.\n",
      "  if is_sparse(pd_dtype) or not is_extension_array_dtype(pd_dtype):\n",
      "/home/daniel/anaconda3/envs/cv/lib/python3.11/site-packages/sklearn/utils/validation.py:605: FutureWarning: is_sparse is deprecated and will be removed in a future version. Check `isinstance(dtype, pd.SparseDtype)` instead.\n",
      "  if is_sparse(pd_dtype):\n",
      "/home/daniel/anaconda3/envs/cv/lib/python3.11/site-packages/sklearn/utils/validation.py:614: FutureWarning: is_sparse is deprecated and will be removed in a future version. Check `isinstance(dtype, pd.SparseDtype)` instead.\n",
      "  if is_sparse(pd_dtype) or not is_extension_array_dtype(pd_dtype):\n"
     ]
    },
    {
     "data": {
      "text/plain": "  Description  num_features pipe_time    f1_rdf   acc_rdf\n0       tfidf         10550    11.541  0.693313  0.712891",
      "text/html": "<div>\n<style scoped>\n    .dataframe tbody tr th:only-of-type {\n        vertical-align: middle;\n    }\n\n    .dataframe tbody tr th {\n        vertical-align: top;\n    }\n\n    .dataframe thead th {\n        text-align: right;\n    }\n</style>\n<table border=\"1\" class=\"dataframe\">\n  <thead>\n    <tr style=\"text-align: right;\">\n      <th></th>\n      <th>Description</th>\n      <th>num_features</th>\n      <th>pipe_time</th>\n      <th>f1_rdf</th>\n      <th>acc_rdf</th>\n    </tr>\n  </thead>\n  <tbody>\n    <tr>\n      <th>0</th>\n      <td>tfidf</td>\n      <td>10550</td>\n      <td>11.541</td>\n      <td>0.693313</td>\n      <td>0.712891</td>\n    </tr>\n  </tbody>\n</table>\n</div>"
     },
     "execution_count": 28,
     "metadata": {},
     "output_type": "execute_result"
    }
   ]
  },
  {
   "cell_type": "code",
   "execution_count": 29,
   "outputs": [
    {
     "name": "stderr",
     "output_type": "stream",
     "text": [
      "/home/daniel/anaconda3/envs/cv/lib/python3.11/site-packages/sklearn/utils/validation.py:605: FutureWarning: is_sparse is deprecated and will be removed in a future version. Check `isinstance(dtype, pd.SparseDtype)` instead.\n",
      "  if is_sparse(pd_dtype):\n",
      "/home/daniel/anaconda3/envs/cv/lib/python3.11/site-packages/sklearn/utils/validation.py:614: FutureWarning: is_sparse is deprecated and will be removed in a future version. Check `isinstance(dtype, pd.SparseDtype)` instead.\n",
      "  if is_sparse(pd_dtype) or not is_extension_array_dtype(pd_dtype):\n",
      "/home/daniel/anaconda3/envs/cv/lib/python3.11/site-packages/sklearn/utils/validation.py:605: FutureWarning: is_sparse is deprecated and will be removed in a future version. Check `isinstance(dtype, pd.SparseDtype)` instead.\n",
      "  if is_sparse(pd_dtype):\n",
      "/home/daniel/anaconda3/envs/cv/lib/python3.11/site-packages/sklearn/utils/validation.py:614: FutureWarning: is_sparse is deprecated and will be removed in a future version. Check `isinstance(dtype, pd.SparseDtype)` instead.\n",
      "  if is_sparse(pd_dtype) or not is_extension_array_dtype(pd_dtype):\n",
      "/home/daniel/anaconda3/envs/cv/lib/python3.11/site-packages/sklearn/utils/validation.py:605: FutureWarning: is_sparse is deprecated and will be removed in a future version. Check `isinstance(dtype, pd.SparseDtype)` instead.\n",
      "  if is_sparse(pd_dtype):\n",
      "/home/daniel/anaconda3/envs/cv/lib/python3.11/site-packages/sklearn/utils/validation.py:614: FutureWarning: is_sparse is deprecated and will be removed in a future version. Check `isinstance(dtype, pd.SparseDtype)` instead.\n",
      "  if is_sparse(pd_dtype) or not is_extension_array_dtype(pd_dtype):\n",
      "/home/daniel/anaconda3/envs/cv/lib/python3.11/site-packages/sklearn/utils/validation.py:605: FutureWarning: is_sparse is deprecated and will be removed in a future version. Check `isinstance(dtype, pd.SparseDtype)` instead.\n",
      "  if is_sparse(pd_dtype):\n",
      "/home/daniel/anaconda3/envs/cv/lib/python3.11/site-packages/sklearn/utils/validation.py:614: FutureWarning: is_sparse is deprecated and will be removed in a future version. Check `isinstance(dtype, pd.SparseDtype)` instead.\n",
      "  if is_sparse(pd_dtype) or not is_extension_array_dtype(pd_dtype):\n",
      "/home/daniel/anaconda3/envs/cv/lib/python3.11/site-packages/sklearn/utils/validation.py:605: FutureWarning: is_sparse is deprecated and will be removed in a future version. Check `isinstance(dtype, pd.SparseDtype)` instead.\n",
      "  if is_sparse(pd_dtype):\n",
      "/home/daniel/anaconda3/envs/cv/lib/python3.11/site-packages/sklearn/utils/validation.py:614: FutureWarning: is_sparse is deprecated and will be removed in a future version. Check `isinstance(dtype, pd.SparseDtype)` instead.\n",
      "  if is_sparse(pd_dtype) or not is_extension_array_dtype(pd_dtype):\n",
      "/home/daniel/anaconda3/envs/cv/lib/python3.11/site-packages/sklearn/utils/validation.py:605: FutureWarning: is_sparse is deprecated and will be removed in a future version. Check `isinstance(dtype, pd.SparseDtype)` instead.\n",
      "  if is_sparse(pd_dtype):\n",
      "/home/daniel/anaconda3/envs/cv/lib/python3.11/site-packages/sklearn/utils/validation.py:614: FutureWarning: is_sparse is deprecated and will be removed in a future version. Check `isinstance(dtype, pd.SparseDtype)` instead.\n",
      "  if is_sparse(pd_dtype) or not is_extension_array_dtype(pd_dtype):\n",
      "/home/daniel/anaconda3/envs/cv/lib/python3.11/site-packages/sklearn/utils/validation.py:605: FutureWarning: is_sparse is deprecated and will be removed in a future version. Check `isinstance(dtype, pd.SparseDtype)` instead.\n",
      "  if is_sparse(pd_dtype):\n",
      "/home/daniel/anaconda3/envs/cv/lib/python3.11/site-packages/sklearn/utils/validation.py:614: FutureWarning: is_sparse is deprecated and will be removed in a future version. Check `isinstance(dtype, pd.SparseDtype)` instead.\n",
      "  if is_sparse(pd_dtype) or not is_extension_array_dtype(pd_dtype):\n",
      "/home/daniel/anaconda3/envs/cv/lib/python3.11/site-packages/sklearn/utils/validation.py:605: FutureWarning: is_sparse is deprecated and will be removed in a future version. Check `isinstance(dtype, pd.SparseDtype)` instead.\n",
      "  if is_sparse(pd_dtype):\n",
      "/home/daniel/anaconda3/envs/cv/lib/python3.11/site-packages/sklearn/utils/validation.py:614: FutureWarning: is_sparse is deprecated and will be removed in a future version. Check `isinstance(dtype, pd.SparseDtype)` instead.\n",
      "  if is_sparse(pd_dtype) or not is_extension_array_dtype(pd_dtype):\n",
      "/home/daniel/anaconda3/envs/cv/lib/python3.11/site-packages/sklearn/utils/validation.py:605: FutureWarning: is_sparse is deprecated and will be removed in a future version. Check `isinstance(dtype, pd.SparseDtype)` instead.\n",
      "  if is_sparse(pd_dtype):\n",
      "/home/daniel/anaconda3/envs/cv/lib/python3.11/site-packages/sklearn/utils/validation.py:614: FutureWarning: is_sparse is deprecated and will be removed in a future version. Check `isinstance(dtype, pd.SparseDtype)` instead.\n",
      "  if is_sparse(pd_dtype) or not is_extension_array_dtype(pd_dtype):\n",
      "/home/daniel/anaconda3/envs/cv/lib/python3.11/site-packages/sklearn/utils/validation.py:605: FutureWarning: is_sparse is deprecated and will be removed in a future version. Check `isinstance(dtype, pd.SparseDtype)` instead.\n",
      "  if is_sparse(pd_dtype):\n",
      "/home/daniel/anaconda3/envs/cv/lib/python3.11/site-packages/sklearn/utils/validation.py:614: FutureWarning: is_sparse is deprecated and will be removed in a future version. Check `isinstance(dtype, pd.SparseDtype)` instead.\n",
      "  if is_sparse(pd_dtype) or not is_extension_array_dtype(pd_dtype):\n"
     ]
    },
    {
     "data": {
      "text/plain": "   Description  num_features pipe_time    f1_rdf   acc_rdf\n0        tfidf         10550    11.541  0.693313  0.712891\n1  lower-tfidf         10550    11.589  0.697086  0.716635",
      "text/html": "<div>\n<style scoped>\n    .dataframe tbody tr th:only-of-type {\n        vertical-align: middle;\n    }\n\n    .dataframe tbody tr th {\n        vertical-align: top;\n    }\n\n    .dataframe thead th {\n        text-align: right;\n    }\n</style>\n<table border=\"1\" class=\"dataframe\">\n  <thead>\n    <tr style=\"text-align: right;\">\n      <th></th>\n      <th>Description</th>\n      <th>num_features</th>\n      <th>pipe_time</th>\n      <th>f1_rdf</th>\n      <th>acc_rdf</th>\n    </tr>\n  </thead>\n  <tbody>\n    <tr>\n      <th>0</th>\n      <td>tfidf</td>\n      <td>10550</td>\n      <td>11.541</td>\n      <td>0.693313</td>\n      <td>0.712891</td>\n    </tr>\n    <tr>\n      <th>1</th>\n      <td>lower-tfidf</td>\n      <td>10550</td>\n      <td>11.589</td>\n      <td>0.697086</td>\n      <td>0.716635</td>\n    </tr>\n  </tbody>\n</table>\n</div>"
     },
     "execution_count": 29,
     "metadata": {},
     "output_type": "execute_result"
    }
   ],
   "source": [
    "def pipe_2(data):\n",
    "    start_time = time.time()\n",
    "    \n",
    "    #preprocesing\n",
    "    df = data.copy()\n",
    "    df = lowercase_func(df)\n",
    "    X, _ = TF_IDF_func(df, 1)\n",
    "    y = df['label']\n",
    "    description = 'lower-tfidf'\n",
    "    \n",
    "    # call the model\n",
    "    acc_rdf, f1_rdf = model(X, y)\n",
    "    \n",
    "    end_time = time.time()\n",
    "\n",
    "    num_features = X.shape[1]\n",
    "    pipe_time = end_time - start_time\n",
    "    pipe_time = format(pipe_time, '.3f')\n",
    "    \n",
    "\n",
    "    metrics_data.loc[len(metrics_data.index)] = [description, num_features,  pipe_time,  f1_rdf,  acc_rdf]\n",
    "\n",
    "pipe_2(data)\n",
    "metrics_data"
   ],
   "metadata": {
    "collapsed": false,
    "ExecuteTime": {
     "end_time": "2023-11-16T00:56:11.955938716Z",
     "start_time": "2023-11-16T00:56:00.323461797Z"
    }
   }
  },
  {
   "cell_type": "code",
   "execution_count": 30,
   "outputs": [
    {
     "data": {
      "text/plain": "VBox(children=(HBox(children=(IntProgress(value=0, description='0.00%', max=2671), Label(value='0 / 2671'))), …",
      "application/vnd.jupyter.widget-view+json": {
       "version_major": 2,
       "version_minor": 0,
       "model_id": "b3a5ad513a044b84b7a8085fc48ad1c0"
      }
     },
     "metadata": {},
     "output_type": "display_data"
    },
    {
     "name": "stderr",
     "output_type": "stream",
     "text": [
      "/home/daniel/anaconda3/envs/cv/lib/python3.11/site-packages/sklearn/utils/validation.py:605: FutureWarning: is_sparse is deprecated and will be removed in a future version. Check `isinstance(dtype, pd.SparseDtype)` instead.\n",
      "  if is_sparse(pd_dtype):\n",
      "/home/daniel/anaconda3/envs/cv/lib/python3.11/site-packages/sklearn/utils/validation.py:614: FutureWarning: is_sparse is deprecated and will be removed in a future version. Check `isinstance(dtype, pd.SparseDtype)` instead.\n",
      "  if is_sparse(pd_dtype) or not is_extension_array_dtype(pd_dtype):\n",
      "/home/daniel/anaconda3/envs/cv/lib/python3.11/site-packages/sklearn/utils/validation.py:605: FutureWarning: is_sparse is deprecated and will be removed in a future version. Check `isinstance(dtype, pd.SparseDtype)` instead.\n",
      "  if is_sparse(pd_dtype):\n",
      "/home/daniel/anaconda3/envs/cv/lib/python3.11/site-packages/sklearn/utils/validation.py:614: FutureWarning: is_sparse is deprecated and will be removed in a future version. Check `isinstance(dtype, pd.SparseDtype)` instead.\n",
      "  if is_sparse(pd_dtype) or not is_extension_array_dtype(pd_dtype):\n",
      "/home/daniel/anaconda3/envs/cv/lib/python3.11/site-packages/sklearn/utils/validation.py:605: FutureWarning: is_sparse is deprecated and will be removed in a future version. Check `isinstance(dtype, pd.SparseDtype)` instead.\n",
      "  if is_sparse(pd_dtype):\n",
      "/home/daniel/anaconda3/envs/cv/lib/python3.11/site-packages/sklearn/utils/validation.py:614: FutureWarning: is_sparse is deprecated and will be removed in a future version. Check `isinstance(dtype, pd.SparseDtype)` instead.\n",
      "  if is_sparse(pd_dtype) or not is_extension_array_dtype(pd_dtype):\n",
      "/home/daniel/anaconda3/envs/cv/lib/python3.11/site-packages/sklearn/utils/validation.py:605: FutureWarning: is_sparse is deprecated and will be removed in a future version. Check `isinstance(dtype, pd.SparseDtype)` instead.\n",
      "  if is_sparse(pd_dtype):\n",
      "/home/daniel/anaconda3/envs/cv/lib/python3.11/site-packages/sklearn/utils/validation.py:614: FutureWarning: is_sparse is deprecated and will be removed in a future version. Check `isinstance(dtype, pd.SparseDtype)` instead.\n",
      "  if is_sparse(pd_dtype) or not is_extension_array_dtype(pd_dtype):\n",
      "/home/daniel/anaconda3/envs/cv/lib/python3.11/site-packages/sklearn/utils/validation.py:605: FutureWarning: is_sparse is deprecated and will be removed in a future version. Check `isinstance(dtype, pd.SparseDtype)` instead.\n",
      "  if is_sparse(pd_dtype):\n",
      "/home/daniel/anaconda3/envs/cv/lib/python3.11/site-packages/sklearn/utils/validation.py:614: FutureWarning: is_sparse is deprecated and will be removed in a future version. Check `isinstance(dtype, pd.SparseDtype)` instead.\n",
      "  if is_sparse(pd_dtype) or not is_extension_array_dtype(pd_dtype):\n",
      "/home/daniel/anaconda3/envs/cv/lib/python3.11/site-packages/sklearn/utils/validation.py:605: FutureWarning: is_sparse is deprecated and will be removed in a future version. Check `isinstance(dtype, pd.SparseDtype)` instead.\n",
      "  if is_sparse(pd_dtype):\n",
      "/home/daniel/anaconda3/envs/cv/lib/python3.11/site-packages/sklearn/utils/validation.py:614: FutureWarning: is_sparse is deprecated and will be removed in a future version. Check `isinstance(dtype, pd.SparseDtype)` instead.\n",
      "  if is_sparse(pd_dtype) or not is_extension_array_dtype(pd_dtype):\n",
      "/home/daniel/anaconda3/envs/cv/lib/python3.11/site-packages/sklearn/utils/validation.py:605: FutureWarning: is_sparse is deprecated and will be removed in a future version. Check `isinstance(dtype, pd.SparseDtype)` instead.\n",
      "  if is_sparse(pd_dtype):\n",
      "/home/daniel/anaconda3/envs/cv/lib/python3.11/site-packages/sklearn/utils/validation.py:614: FutureWarning: is_sparse is deprecated and will be removed in a future version. Check `isinstance(dtype, pd.SparseDtype)` instead.\n",
      "  if is_sparse(pd_dtype) or not is_extension_array_dtype(pd_dtype):\n",
      "/home/daniel/anaconda3/envs/cv/lib/python3.11/site-packages/sklearn/utils/validation.py:605: FutureWarning: is_sparse is deprecated and will be removed in a future version. Check `isinstance(dtype, pd.SparseDtype)` instead.\n",
      "  if is_sparse(pd_dtype):\n",
      "/home/daniel/anaconda3/envs/cv/lib/python3.11/site-packages/sklearn/utils/validation.py:614: FutureWarning: is_sparse is deprecated and will be removed in a future version. Check `isinstance(dtype, pd.SparseDtype)` instead.\n",
      "  if is_sparse(pd_dtype) or not is_extension_array_dtype(pd_dtype):\n",
      "/home/daniel/anaconda3/envs/cv/lib/python3.11/site-packages/sklearn/utils/validation.py:605: FutureWarning: is_sparse is deprecated and will be removed in a future version. Check `isinstance(dtype, pd.SparseDtype)` instead.\n",
      "  if is_sparse(pd_dtype):\n",
      "/home/daniel/anaconda3/envs/cv/lib/python3.11/site-packages/sklearn/utils/validation.py:614: FutureWarning: is_sparse is deprecated and will be removed in a future version. Check `isinstance(dtype, pd.SparseDtype)` instead.\n",
      "  if is_sparse(pd_dtype) or not is_extension_array_dtype(pd_dtype):\n",
      "/home/daniel/anaconda3/envs/cv/lib/python3.11/site-packages/sklearn/utils/validation.py:605: FutureWarning: is_sparse is deprecated and will be removed in a future version. Check `isinstance(dtype, pd.SparseDtype)` instead.\n",
      "  if is_sparse(pd_dtype):\n",
      "/home/daniel/anaconda3/envs/cv/lib/python3.11/site-packages/sklearn/utils/validation.py:614: FutureWarning: is_sparse is deprecated and will be removed in a future version. Check `isinstance(dtype, pd.SparseDtype)` instead.\n",
      "  if is_sparse(pd_dtype) or not is_extension_array_dtype(pd_dtype):\n"
     ]
    },
    {
     "data": {
      "text/plain": "         Description  num_features pipe_time    f1_rdf   acc_rdf\n0              tfidf         10550    11.541  0.693313  0.712891\n1        lower-tfidf         10550    11.589  0.697086  0.716635\n2  lower-ponct-tfidf         11241    10.198  0.693648  0.713426",
      "text/html": "<div>\n<style scoped>\n    .dataframe tbody tr th:only-of-type {\n        vertical-align: middle;\n    }\n\n    .dataframe tbody tr th {\n        vertical-align: top;\n    }\n\n    .dataframe thead th {\n        text-align: right;\n    }\n</style>\n<table border=\"1\" class=\"dataframe\">\n  <thead>\n    <tr style=\"text-align: right;\">\n      <th></th>\n      <th>Description</th>\n      <th>num_features</th>\n      <th>pipe_time</th>\n      <th>f1_rdf</th>\n      <th>acc_rdf</th>\n    </tr>\n  </thead>\n  <tbody>\n    <tr>\n      <th>0</th>\n      <td>tfidf</td>\n      <td>10550</td>\n      <td>11.541</td>\n      <td>0.693313</td>\n      <td>0.712891</td>\n    </tr>\n    <tr>\n      <th>1</th>\n      <td>lower-tfidf</td>\n      <td>10550</td>\n      <td>11.589</td>\n      <td>0.697086</td>\n      <td>0.716635</td>\n    </tr>\n    <tr>\n      <th>2</th>\n      <td>lower-ponct-tfidf</td>\n      <td>11241</td>\n      <td>10.198</td>\n      <td>0.693648</td>\n      <td>0.713426</td>\n    </tr>\n  </tbody>\n</table>\n</div>"
     },
     "execution_count": 30,
     "metadata": {},
     "output_type": "execute_result"
    }
   ],
   "source": [
    "def pipe_3(data):\n",
    "    start_time = time.time()\n",
    "    \n",
    "    #preprocesing\n",
    "    df = data.copy()\n",
    "    df = lowercase_func(df)\n",
    "    df = ponctuation_remov_func(df)\n",
    "    X, _ = TF_IDF_func(df, 1)\n",
    "    y = df['label']\n",
    "    description = 'lower-ponct-tfidf'\n",
    "    \n",
    "    # call the model\n",
    "    acc_rdf, f1_rdf = model(X, y)\n",
    "    \n",
    "    end_time = time.time()\n",
    "\n",
    "    num_features = X.shape[1]\n",
    "    pipe_time = end_time - start_time\n",
    "    pipe_time = format(pipe_time, '.3f')\n",
    "    \n",
    "\n",
    "    metrics_data.loc[len(metrics_data.index)] = [description, num_features,  pipe_time,  f1_rdf,  acc_rdf]\n",
    "\n",
    "pipe_3(data)\n",
    "metrics_data"
   ],
   "metadata": {
    "collapsed": false,
    "ExecuteTime": {
     "end_time": "2023-11-16T00:56:22.133221150Z",
     "start_time": "2023-11-16T00:56:11.955266155Z"
    }
   }
  },
  {
   "cell_type": "code",
   "execution_count": 31,
   "outputs": [
    {
     "data": {
      "text/plain": "VBox(children=(HBox(children=(IntProgress(value=0, description='0.00%', max=2671), Label(value='0 / 2671'))), …",
      "application/vnd.jupyter.widget-view+json": {
       "version_major": 2,
       "version_minor": 0,
       "model_id": "00862d23304f4a46800c24ca98ac3eab"
      }
     },
     "metadata": {},
     "output_type": "display_data"
    },
    {
     "data": {
      "text/plain": "VBox(children=(HBox(children=(IntProgress(value=0, description='0.00%', max=2671), Label(value='0 / 2671'))), …",
      "application/vnd.jupyter.widget-view+json": {
       "version_major": 2,
       "version_minor": 0,
       "model_id": "773af93ca750450ba19e91bad1f60238"
      }
     },
     "metadata": {},
     "output_type": "display_data"
    },
    {
     "name": "stderr",
     "output_type": "stream",
     "text": [
      "/home/daniel/anaconda3/envs/cv/lib/python3.11/site-packages/sklearn/utils/validation.py:605: FutureWarning: is_sparse is deprecated and will be removed in a future version. Check `isinstance(dtype, pd.SparseDtype)` instead.\n",
      "  if is_sparse(pd_dtype):\n",
      "/home/daniel/anaconda3/envs/cv/lib/python3.11/site-packages/sklearn/utils/validation.py:614: FutureWarning: is_sparse is deprecated and will be removed in a future version. Check `isinstance(dtype, pd.SparseDtype)` instead.\n",
      "  if is_sparse(pd_dtype) or not is_extension_array_dtype(pd_dtype):\n",
      "/home/daniel/anaconda3/envs/cv/lib/python3.11/site-packages/sklearn/utils/validation.py:605: FutureWarning: is_sparse is deprecated and will be removed in a future version. Check `isinstance(dtype, pd.SparseDtype)` instead.\n",
      "  if is_sparse(pd_dtype):\n",
      "/home/daniel/anaconda3/envs/cv/lib/python3.11/site-packages/sklearn/utils/validation.py:614: FutureWarning: is_sparse is deprecated and will be removed in a future version. Check `isinstance(dtype, pd.SparseDtype)` instead.\n",
      "  if is_sparse(pd_dtype) or not is_extension_array_dtype(pd_dtype):\n",
      "/home/daniel/anaconda3/envs/cv/lib/python3.11/site-packages/sklearn/utils/validation.py:605: FutureWarning: is_sparse is deprecated and will be removed in a future version. Check `isinstance(dtype, pd.SparseDtype)` instead.\n",
      "  if is_sparse(pd_dtype):\n",
      "/home/daniel/anaconda3/envs/cv/lib/python3.11/site-packages/sklearn/utils/validation.py:614: FutureWarning: is_sparse is deprecated and will be removed in a future version. Check `isinstance(dtype, pd.SparseDtype)` instead.\n",
      "  if is_sparse(pd_dtype) or not is_extension_array_dtype(pd_dtype):\n",
      "/home/daniel/anaconda3/envs/cv/lib/python3.11/site-packages/sklearn/utils/validation.py:605: FutureWarning: is_sparse is deprecated and will be removed in a future version. Check `isinstance(dtype, pd.SparseDtype)` instead.\n",
      "  if is_sparse(pd_dtype):\n",
      "/home/daniel/anaconda3/envs/cv/lib/python3.11/site-packages/sklearn/utils/validation.py:614: FutureWarning: is_sparse is deprecated and will be removed in a future version. Check `isinstance(dtype, pd.SparseDtype)` instead.\n",
      "  if is_sparse(pd_dtype) or not is_extension_array_dtype(pd_dtype):\n",
      "/home/daniel/anaconda3/envs/cv/lib/python3.11/site-packages/sklearn/utils/validation.py:605: FutureWarning: is_sparse is deprecated and will be removed in a future version. Check `isinstance(dtype, pd.SparseDtype)` instead.\n",
      "  if is_sparse(pd_dtype):\n",
      "/home/daniel/anaconda3/envs/cv/lib/python3.11/site-packages/sklearn/utils/validation.py:614: FutureWarning: is_sparse is deprecated and will be removed in a future version. Check `isinstance(dtype, pd.SparseDtype)` instead.\n",
      "  if is_sparse(pd_dtype) or not is_extension_array_dtype(pd_dtype):\n",
      "/home/daniel/anaconda3/envs/cv/lib/python3.11/site-packages/sklearn/utils/validation.py:605: FutureWarning: is_sparse is deprecated and will be removed in a future version. Check `isinstance(dtype, pd.SparseDtype)` instead.\n",
      "  if is_sparse(pd_dtype):\n",
      "/home/daniel/anaconda3/envs/cv/lib/python3.11/site-packages/sklearn/utils/validation.py:614: FutureWarning: is_sparse is deprecated and will be removed in a future version. Check `isinstance(dtype, pd.SparseDtype)` instead.\n",
      "  if is_sparse(pd_dtype) or not is_extension_array_dtype(pd_dtype):\n",
      "/home/daniel/anaconda3/envs/cv/lib/python3.11/site-packages/sklearn/utils/validation.py:605: FutureWarning: is_sparse is deprecated and will be removed in a future version. Check `isinstance(dtype, pd.SparseDtype)` instead.\n",
      "  if is_sparse(pd_dtype):\n",
      "/home/daniel/anaconda3/envs/cv/lib/python3.11/site-packages/sklearn/utils/validation.py:614: FutureWarning: is_sparse is deprecated and will be removed in a future version. Check `isinstance(dtype, pd.SparseDtype)` instead.\n",
      "  if is_sparse(pd_dtype) or not is_extension_array_dtype(pd_dtype):\n",
      "/home/daniel/anaconda3/envs/cv/lib/python3.11/site-packages/sklearn/utils/validation.py:605: FutureWarning: is_sparse is deprecated and will be removed in a future version. Check `isinstance(dtype, pd.SparseDtype)` instead.\n",
      "  if is_sparse(pd_dtype):\n",
      "/home/daniel/anaconda3/envs/cv/lib/python3.11/site-packages/sklearn/utils/validation.py:614: FutureWarning: is_sparse is deprecated and will be removed in a future version. Check `isinstance(dtype, pd.SparseDtype)` instead.\n",
      "  if is_sparse(pd_dtype) or not is_extension_array_dtype(pd_dtype):\n",
      "/home/daniel/anaconda3/envs/cv/lib/python3.11/site-packages/sklearn/utils/validation.py:605: FutureWarning: is_sparse is deprecated and will be removed in a future version. Check `isinstance(dtype, pd.SparseDtype)` instead.\n",
      "  if is_sparse(pd_dtype):\n",
      "/home/daniel/anaconda3/envs/cv/lib/python3.11/site-packages/sklearn/utils/validation.py:614: FutureWarning: is_sparse is deprecated and will be removed in a future version. Check `isinstance(dtype, pd.SparseDtype)` instead.\n",
      "  if is_sparse(pd_dtype) or not is_extension_array_dtype(pd_dtype):\n",
      "/home/daniel/anaconda3/envs/cv/lib/python3.11/site-packages/sklearn/utils/validation.py:605: FutureWarning: is_sparse is deprecated and will be removed in a future version. Check `isinstance(dtype, pd.SparseDtype)` instead.\n",
      "  if is_sparse(pd_dtype):\n",
      "/home/daniel/anaconda3/envs/cv/lib/python3.11/site-packages/sklearn/utils/validation.py:614: FutureWarning: is_sparse is deprecated and will be removed in a future version. Check `isinstance(dtype, pd.SparseDtype)` instead.\n",
      "  if is_sparse(pd_dtype) or not is_extension_array_dtype(pd_dtype):\n"
     ]
    },
    {
     "data": {
      "text/plain": "               Description  num_features pipe_time    f1_rdf   acc_rdf\n0                    tfidf         10550    11.541  0.693313  0.712891\n1              lower-tfidf         10550    11.589  0.697086  0.716635\n2        lower-ponct-tfidf         11241    10.198  0.693648  0.713426\n3  lower-ponct-stopw-tfidf         11143    12.109  0.705459  0.722386",
      "text/html": "<div>\n<style scoped>\n    .dataframe tbody tr th:only-of-type {\n        vertical-align: middle;\n    }\n\n    .dataframe tbody tr th {\n        vertical-align: top;\n    }\n\n    .dataframe thead th {\n        text-align: right;\n    }\n</style>\n<table border=\"1\" class=\"dataframe\">\n  <thead>\n    <tr style=\"text-align: right;\">\n      <th></th>\n      <th>Description</th>\n      <th>num_features</th>\n      <th>pipe_time</th>\n      <th>f1_rdf</th>\n      <th>acc_rdf</th>\n    </tr>\n  </thead>\n  <tbody>\n    <tr>\n      <th>0</th>\n      <td>tfidf</td>\n      <td>10550</td>\n      <td>11.541</td>\n      <td>0.693313</td>\n      <td>0.712891</td>\n    </tr>\n    <tr>\n      <th>1</th>\n      <td>lower-tfidf</td>\n      <td>10550</td>\n      <td>11.589</td>\n      <td>0.697086</td>\n      <td>0.716635</td>\n    </tr>\n    <tr>\n      <th>2</th>\n      <td>lower-ponct-tfidf</td>\n      <td>11241</td>\n      <td>10.198</td>\n      <td>0.693648</td>\n      <td>0.713426</td>\n    </tr>\n    <tr>\n      <th>3</th>\n      <td>lower-ponct-stopw-tfidf</td>\n      <td>11143</td>\n      <td>12.109</td>\n      <td>0.705459</td>\n      <td>0.722386</td>\n    </tr>\n  </tbody>\n</table>\n</div>"
     },
     "execution_count": 31,
     "metadata": {},
     "output_type": "execute_result"
    }
   ],
   "source": [
    "def pipe_4(data):\n",
    "    start_time = time.time()\n",
    "    \n",
    "    #preprocesing\n",
    "    df = data.copy()\n",
    "    df = lowercase_func(df)\n",
    "    df = ponctuation_remov_func(df)\n",
    "    df = remove_stop_words(df)\n",
    "    X, _ = TF_IDF_func(df, 1)\n",
    "    y = df['label']\n",
    "    description = 'lower-ponct-stopw-tfidf'\n",
    "    \n",
    "    # call the model\n",
    "    acc_rdf, f1_rdf = model(X, y)\n",
    "    \n",
    "    end_time = time.time()\n",
    "\n",
    "    num_features = X.shape[1]\n",
    "    pipe_time = end_time - start_time\n",
    "    pipe_time = format(pipe_time, '.3f')\n",
    "    \n",
    "\n",
    "    metrics_data.loc[len(metrics_data.index)] = [description, num_features,  pipe_time,  f1_rdf,  acc_rdf]\n",
    "\n",
    "pipe_4(data)\n",
    "metrics_data"
   ],
   "metadata": {
    "collapsed": false,
    "ExecuteTime": {
     "end_time": "2023-11-16T00:56:34.249080803Z",
     "start_time": "2023-11-16T00:56:22.179899078Z"
    }
   }
  },
  {
   "cell_type": "code",
   "execution_count": 32,
   "outputs": [
    {
     "data": {
      "text/plain": "VBox(children=(HBox(children=(IntProgress(value=0, description='0.00%', max=2671), Label(value='0 / 2671'))), …",
      "application/vnd.jupyter.widget-view+json": {
       "version_major": 2,
       "version_minor": 0,
       "model_id": "780094829a814ff5b255f5cb306acd1c"
      }
     },
     "metadata": {},
     "output_type": "display_data"
    },
    {
     "data": {
      "text/plain": "VBox(children=(HBox(children=(IntProgress(value=0, description='0.00%', max=2671), Label(value='0 / 2671'))), …",
      "application/vnd.jupyter.widget-view+json": {
       "version_major": 2,
       "version_minor": 0,
       "model_id": "37c1ee1166f341c7bef26a6035cb0fd4"
      }
     },
     "metadata": {},
     "output_type": "display_data"
    },
    {
     "data": {
      "text/plain": "VBox(children=(HBox(children=(IntProgress(value=0, description='0.00%', max=2671), Label(value='0 / 2671'))), …",
      "application/vnd.jupyter.widget-view+json": {
       "version_major": 2,
       "version_minor": 0,
       "model_id": "16caf463ec0d4ed6a98370cdf88f0318"
      }
     },
     "metadata": {},
     "output_type": "display_data"
    },
    {
     "name": "stderr",
     "output_type": "stream",
     "text": [
      "/home/daniel/anaconda3/envs/cv/lib/python3.11/site-packages/sklearn/utils/validation.py:605: FutureWarning: is_sparse is deprecated and will be removed in a future version. Check `isinstance(dtype, pd.SparseDtype)` instead.\n",
      "  if is_sparse(pd_dtype):\n",
      "/home/daniel/anaconda3/envs/cv/lib/python3.11/site-packages/sklearn/utils/validation.py:614: FutureWarning: is_sparse is deprecated and will be removed in a future version. Check `isinstance(dtype, pd.SparseDtype)` instead.\n",
      "  if is_sparse(pd_dtype) or not is_extension_array_dtype(pd_dtype):\n",
      "/home/daniel/anaconda3/envs/cv/lib/python3.11/site-packages/sklearn/utils/validation.py:605: FutureWarning: is_sparse is deprecated and will be removed in a future version. Check `isinstance(dtype, pd.SparseDtype)` instead.\n",
      "  if is_sparse(pd_dtype):\n",
      "/home/daniel/anaconda3/envs/cv/lib/python3.11/site-packages/sklearn/utils/validation.py:614: FutureWarning: is_sparse is deprecated and will be removed in a future version. Check `isinstance(dtype, pd.SparseDtype)` instead.\n",
      "  if is_sparse(pd_dtype) or not is_extension_array_dtype(pd_dtype):\n",
      "/home/daniel/anaconda3/envs/cv/lib/python3.11/site-packages/sklearn/utils/validation.py:605: FutureWarning: is_sparse is deprecated and will be removed in a future version. Check `isinstance(dtype, pd.SparseDtype)` instead.\n",
      "  if is_sparse(pd_dtype):\n",
      "/home/daniel/anaconda3/envs/cv/lib/python3.11/site-packages/sklearn/utils/validation.py:614: FutureWarning: is_sparse is deprecated and will be removed in a future version. Check `isinstance(dtype, pd.SparseDtype)` instead.\n",
      "  if is_sparse(pd_dtype) or not is_extension_array_dtype(pd_dtype):\n",
      "/home/daniel/anaconda3/envs/cv/lib/python3.11/site-packages/sklearn/utils/validation.py:605: FutureWarning: is_sparse is deprecated and will be removed in a future version. Check `isinstance(dtype, pd.SparseDtype)` instead.\n",
      "  if is_sparse(pd_dtype):\n",
      "/home/daniel/anaconda3/envs/cv/lib/python3.11/site-packages/sklearn/utils/validation.py:614: FutureWarning: is_sparse is deprecated and will be removed in a future version. Check `isinstance(dtype, pd.SparseDtype)` instead.\n",
      "  if is_sparse(pd_dtype) or not is_extension_array_dtype(pd_dtype):\n",
      "/home/daniel/anaconda3/envs/cv/lib/python3.11/site-packages/sklearn/utils/validation.py:605: FutureWarning: is_sparse is deprecated and will be removed in a future version. Check `isinstance(dtype, pd.SparseDtype)` instead.\n",
      "  if is_sparse(pd_dtype):\n",
      "/home/daniel/anaconda3/envs/cv/lib/python3.11/site-packages/sklearn/utils/validation.py:614: FutureWarning: is_sparse is deprecated and will be removed in a future version. Check `isinstance(dtype, pd.SparseDtype)` instead.\n",
      "  if is_sparse(pd_dtype) or not is_extension_array_dtype(pd_dtype):\n",
      "/home/daniel/anaconda3/envs/cv/lib/python3.11/site-packages/sklearn/utils/validation.py:605: FutureWarning: is_sparse is deprecated and will be removed in a future version. Check `isinstance(dtype, pd.SparseDtype)` instead.\n",
      "  if is_sparse(pd_dtype):\n",
      "/home/daniel/anaconda3/envs/cv/lib/python3.11/site-packages/sklearn/utils/validation.py:614: FutureWarning: is_sparse is deprecated and will be removed in a future version. Check `isinstance(dtype, pd.SparseDtype)` instead.\n",
      "  if is_sparse(pd_dtype) or not is_extension_array_dtype(pd_dtype):\n",
      "/home/daniel/anaconda3/envs/cv/lib/python3.11/site-packages/sklearn/utils/validation.py:605: FutureWarning: is_sparse is deprecated and will be removed in a future version. Check `isinstance(dtype, pd.SparseDtype)` instead.\n",
      "  if is_sparse(pd_dtype):\n",
      "/home/daniel/anaconda3/envs/cv/lib/python3.11/site-packages/sklearn/utils/validation.py:614: FutureWarning: is_sparse is deprecated and will be removed in a future version. Check `isinstance(dtype, pd.SparseDtype)` instead.\n",
      "  if is_sparse(pd_dtype) or not is_extension_array_dtype(pd_dtype):\n",
      "/home/daniel/anaconda3/envs/cv/lib/python3.11/site-packages/sklearn/utils/validation.py:605: FutureWarning: is_sparse is deprecated and will be removed in a future version. Check `isinstance(dtype, pd.SparseDtype)` instead.\n",
      "  if is_sparse(pd_dtype):\n",
      "/home/daniel/anaconda3/envs/cv/lib/python3.11/site-packages/sklearn/utils/validation.py:614: FutureWarning: is_sparse is deprecated and will be removed in a future version. Check `isinstance(dtype, pd.SparseDtype)` instead.\n",
      "  if is_sparse(pd_dtype) or not is_extension_array_dtype(pd_dtype):\n",
      "/home/daniel/anaconda3/envs/cv/lib/python3.11/site-packages/sklearn/utils/validation.py:605: FutureWarning: is_sparse is deprecated and will be removed in a future version. Check `isinstance(dtype, pd.SparseDtype)` instead.\n",
      "  if is_sparse(pd_dtype):\n",
      "/home/daniel/anaconda3/envs/cv/lib/python3.11/site-packages/sklearn/utils/validation.py:614: FutureWarning: is_sparse is deprecated and will be removed in a future version. Check `isinstance(dtype, pd.SparseDtype)` instead.\n",
      "  if is_sparse(pd_dtype) or not is_extension_array_dtype(pd_dtype):\n",
      "/home/daniel/anaconda3/envs/cv/lib/python3.11/site-packages/sklearn/utils/validation.py:605: FutureWarning: is_sparse is deprecated and will be removed in a future version. Check `isinstance(dtype, pd.SparseDtype)` instead.\n",
      "  if is_sparse(pd_dtype):\n",
      "/home/daniel/anaconda3/envs/cv/lib/python3.11/site-packages/sklearn/utils/validation.py:614: FutureWarning: is_sparse is deprecated and will be removed in a future version. Check `isinstance(dtype, pd.SparseDtype)` instead.\n",
      "  if is_sparse(pd_dtype) or not is_extension_array_dtype(pd_dtype):\n"
     ]
    },
    {
     "data": {
      "text/plain": "                     Description  num_features pipe_time    f1_rdf   acc_rdf\n0                          tfidf         10550    11.541  0.693313  0.712891\n1                    lower-tfidf         10550    11.589  0.697086  0.716635\n2              lower-ponct-tfidf         11241    10.198  0.693648  0.713426\n3        lower-ponct-stopw-tfidf         11143    12.109  0.705459  0.722386\n4  lower-ponct-stopw-lemma-tfidf          9368    48.515  0.712701  0.729607",
      "text/html": "<div>\n<style scoped>\n    .dataframe tbody tr th:only-of-type {\n        vertical-align: middle;\n    }\n\n    .dataframe tbody tr th {\n        vertical-align: top;\n    }\n\n    .dataframe thead th {\n        text-align: right;\n    }\n</style>\n<table border=\"1\" class=\"dataframe\">\n  <thead>\n    <tr style=\"text-align: right;\">\n      <th></th>\n      <th>Description</th>\n      <th>num_features</th>\n      <th>pipe_time</th>\n      <th>f1_rdf</th>\n      <th>acc_rdf</th>\n    </tr>\n  </thead>\n  <tbody>\n    <tr>\n      <th>0</th>\n      <td>tfidf</td>\n      <td>10550</td>\n      <td>11.541</td>\n      <td>0.693313</td>\n      <td>0.712891</td>\n    </tr>\n    <tr>\n      <th>1</th>\n      <td>lower-tfidf</td>\n      <td>10550</td>\n      <td>11.589</td>\n      <td>0.697086</td>\n      <td>0.716635</td>\n    </tr>\n    <tr>\n      <th>2</th>\n      <td>lower-ponct-tfidf</td>\n      <td>11241</td>\n      <td>10.198</td>\n      <td>0.693648</td>\n      <td>0.713426</td>\n    </tr>\n    <tr>\n      <th>3</th>\n      <td>lower-ponct-stopw-tfidf</td>\n      <td>11143</td>\n      <td>12.109</td>\n      <td>0.705459</td>\n      <td>0.722386</td>\n    </tr>\n    <tr>\n      <th>4</th>\n      <td>lower-ponct-stopw-lemma-tfidf</td>\n      <td>9368</td>\n      <td>48.515</td>\n      <td>0.712701</td>\n      <td>0.729607</td>\n    </tr>\n  </tbody>\n</table>\n</div>"
     },
     "execution_count": 32,
     "metadata": {},
     "output_type": "execute_result"
    }
   ],
   "source": [
    "def pipe_5(data):\n",
    "    start_time = time.time()\n",
    "    \n",
    "    #preprocesing\n",
    "    df = data.copy()\n",
    "    df = lowercase_func(df)\n",
    "    df = ponctuation_remov_func(df)\n",
    "    df = remove_stop_words(df)\n",
    "    df = lemmatization_func(df)\n",
    "    X, _ = TF_IDF_func(df, 1)\n",
    "    y = df['label']\n",
    "    description = 'lower-ponct-stopw-lemma-tfidf'\n",
    "    \n",
    "    # call the model\n",
    "    acc_rdf, f1_rdf = model(X, y)\n",
    "    \n",
    "    end_time = time.time()\n",
    "\n",
    "    num_features = X.shape[1]\n",
    "    pipe_time = end_time - start_time\n",
    "    pipe_time = format(pipe_time, '.3f')\n",
    "    \n",
    "\n",
    "    metrics_data.loc[len(metrics_data.index)] = [description, num_features,  pipe_time,  f1_rdf,  acc_rdf]\n",
    "\n",
    "pipe_5(data)\n",
    "metrics_data"
   ],
   "metadata": {
    "collapsed": false,
    "ExecuteTime": {
     "end_time": "2023-11-16T00:57:22.778110367Z",
     "start_time": "2023-11-16T00:56:34.248090898Z"
    }
   }
  },
  {
   "cell_type": "code",
   "execution_count": 33,
   "outputs": [
    {
     "data": {
      "text/plain": "VBox(children=(HBox(children=(IntProgress(value=0, description='0.00%', max=2671), Label(value='0 / 2671'))), …",
      "application/vnd.jupyter.widget-view+json": {
       "version_major": 2,
       "version_minor": 0,
       "model_id": "f4434d66deba4993b4c382b12bba3632"
      }
     },
     "metadata": {},
     "output_type": "display_data"
    },
    {
     "data": {
      "text/plain": "VBox(children=(HBox(children=(IntProgress(value=0, description='0.00%', max=2671), Label(value='0 / 2671'))), …",
      "application/vnd.jupyter.widget-view+json": {
       "version_major": 2,
       "version_minor": 0,
       "model_id": "b20f102c13dd49329424e2fb5ea44b51"
      }
     },
     "metadata": {},
     "output_type": "display_data"
    },
    {
     "data": {
      "text/plain": "VBox(children=(HBox(children=(IntProgress(value=0, description='0.00%', max=2671), Label(value='0 / 2671'))), …",
      "application/vnd.jupyter.widget-view+json": {
       "version_major": 2,
       "version_minor": 0,
       "model_id": "bee320074ff24d5db42c29727b2eadbf"
      }
     },
     "metadata": {},
     "output_type": "display_data"
    },
    {
     "name": "stderr",
     "output_type": "stream",
     "text": [
      "/home/daniel/anaconda3/envs/cv/lib/python3.11/site-packages/sklearn/utils/validation.py:605: FutureWarning: is_sparse is deprecated and will be removed in a future version. Check `isinstance(dtype, pd.SparseDtype)` instead.\n",
      "  if is_sparse(pd_dtype):\n",
      "/home/daniel/anaconda3/envs/cv/lib/python3.11/site-packages/sklearn/utils/validation.py:614: FutureWarning: is_sparse is deprecated and will be removed in a future version. Check `isinstance(dtype, pd.SparseDtype)` instead.\n",
      "  if is_sparse(pd_dtype) or not is_extension_array_dtype(pd_dtype):\n",
      "/home/daniel/anaconda3/envs/cv/lib/python3.11/site-packages/sklearn/utils/validation.py:605: FutureWarning: is_sparse is deprecated and will be removed in a future version. Check `isinstance(dtype, pd.SparseDtype)` instead.\n",
      "  if is_sparse(pd_dtype):\n",
      "/home/daniel/anaconda3/envs/cv/lib/python3.11/site-packages/sklearn/utils/validation.py:614: FutureWarning: is_sparse is deprecated and will be removed in a future version. Check `isinstance(dtype, pd.SparseDtype)` instead.\n",
      "  if is_sparse(pd_dtype) or not is_extension_array_dtype(pd_dtype):\n",
      "/home/daniel/anaconda3/envs/cv/lib/python3.11/site-packages/sklearn/utils/validation.py:605: FutureWarning: is_sparse is deprecated and will be removed in a future version. Check `isinstance(dtype, pd.SparseDtype)` instead.\n",
      "  if is_sparse(pd_dtype):\n",
      "/home/daniel/anaconda3/envs/cv/lib/python3.11/site-packages/sklearn/utils/validation.py:614: FutureWarning: is_sparse is deprecated and will be removed in a future version. Check `isinstance(dtype, pd.SparseDtype)` instead.\n",
      "  if is_sparse(pd_dtype) or not is_extension_array_dtype(pd_dtype):\n",
      "/home/daniel/anaconda3/envs/cv/lib/python3.11/site-packages/sklearn/utils/validation.py:605: FutureWarning: is_sparse is deprecated and will be removed in a future version. Check `isinstance(dtype, pd.SparseDtype)` instead.\n",
      "  if is_sparse(pd_dtype):\n",
      "/home/daniel/anaconda3/envs/cv/lib/python3.11/site-packages/sklearn/utils/validation.py:614: FutureWarning: is_sparse is deprecated and will be removed in a future version. Check `isinstance(dtype, pd.SparseDtype)` instead.\n",
      "  if is_sparse(pd_dtype) or not is_extension_array_dtype(pd_dtype):\n",
      "/home/daniel/anaconda3/envs/cv/lib/python3.11/site-packages/sklearn/utils/validation.py:605: FutureWarning: is_sparse is deprecated and will be removed in a future version. Check `isinstance(dtype, pd.SparseDtype)` instead.\n",
      "  if is_sparse(pd_dtype):\n",
      "/home/daniel/anaconda3/envs/cv/lib/python3.11/site-packages/sklearn/utils/validation.py:614: FutureWarning: is_sparse is deprecated and will be removed in a future version. Check `isinstance(dtype, pd.SparseDtype)` instead.\n",
      "  if is_sparse(pd_dtype) or not is_extension_array_dtype(pd_dtype):\n",
      "/home/daniel/anaconda3/envs/cv/lib/python3.11/site-packages/sklearn/utils/validation.py:605: FutureWarning: is_sparse is deprecated and will be removed in a future version. Check `isinstance(dtype, pd.SparseDtype)` instead.\n",
      "  if is_sparse(pd_dtype):\n",
      "/home/daniel/anaconda3/envs/cv/lib/python3.11/site-packages/sklearn/utils/validation.py:614: FutureWarning: is_sparse is deprecated and will be removed in a future version. Check `isinstance(dtype, pd.SparseDtype)` instead.\n",
      "  if is_sparse(pd_dtype) or not is_extension_array_dtype(pd_dtype):\n",
      "/home/daniel/anaconda3/envs/cv/lib/python3.11/site-packages/sklearn/utils/validation.py:605: FutureWarning: is_sparse is deprecated and will be removed in a future version. Check `isinstance(dtype, pd.SparseDtype)` instead.\n",
      "  if is_sparse(pd_dtype):\n",
      "/home/daniel/anaconda3/envs/cv/lib/python3.11/site-packages/sklearn/utils/validation.py:614: FutureWarning: is_sparse is deprecated and will be removed in a future version. Check `isinstance(dtype, pd.SparseDtype)` instead.\n",
      "  if is_sparse(pd_dtype) or not is_extension_array_dtype(pd_dtype):\n",
      "/home/daniel/anaconda3/envs/cv/lib/python3.11/site-packages/sklearn/utils/validation.py:605: FutureWarning: is_sparse is deprecated and will be removed in a future version. Check `isinstance(dtype, pd.SparseDtype)` instead.\n",
      "  if is_sparse(pd_dtype):\n",
      "/home/daniel/anaconda3/envs/cv/lib/python3.11/site-packages/sklearn/utils/validation.py:614: FutureWarning: is_sparse is deprecated and will be removed in a future version. Check `isinstance(dtype, pd.SparseDtype)` instead.\n",
      "  if is_sparse(pd_dtype) or not is_extension_array_dtype(pd_dtype):\n",
      "/home/daniel/anaconda3/envs/cv/lib/python3.11/site-packages/sklearn/utils/validation.py:605: FutureWarning: is_sparse is deprecated and will be removed in a future version. Check `isinstance(dtype, pd.SparseDtype)` instead.\n",
      "  if is_sparse(pd_dtype):\n",
      "/home/daniel/anaconda3/envs/cv/lib/python3.11/site-packages/sklearn/utils/validation.py:614: FutureWarning: is_sparse is deprecated and will be removed in a future version. Check `isinstance(dtype, pd.SparseDtype)` instead.\n",
      "  if is_sparse(pd_dtype) or not is_extension_array_dtype(pd_dtype):\n",
      "/home/daniel/anaconda3/envs/cv/lib/python3.11/site-packages/sklearn/utils/validation.py:605: FutureWarning: is_sparse is deprecated and will be removed in a future version. Check `isinstance(dtype, pd.SparseDtype)` instead.\n",
      "  if is_sparse(pd_dtype):\n",
      "/home/daniel/anaconda3/envs/cv/lib/python3.11/site-packages/sklearn/utils/validation.py:614: FutureWarning: is_sparse is deprecated and will be removed in a future version. Check `isinstance(dtype, pd.SparseDtype)` instead.\n",
      "  if is_sparse(pd_dtype) or not is_extension_array_dtype(pd_dtype):\n"
     ]
    },
    {
     "data": {
      "text/plain": "                     Description  num_features pipe_time    f1_rdf   acc_rdf\n0                          tfidf         10550    11.541  0.693313  0.712891\n1                    lower-tfidf         10550    11.589  0.697086  0.716635\n2              lower-ponct-tfidf         11241    10.198  0.693648  0.713426\n3        lower-ponct-stopw-tfidf         11143    12.109  0.705459  0.722386\n4  lower-ponct-stopw-lemma-tfidf          9368    48.515  0.712701  0.729607\n5  lower-ponct-stopw-stemm-tfidf          7978    12.423  0.717836  0.734154",
      "text/html": "<div>\n<style scoped>\n    .dataframe tbody tr th:only-of-type {\n        vertical-align: middle;\n    }\n\n    .dataframe tbody tr th {\n        vertical-align: top;\n    }\n\n    .dataframe thead th {\n        text-align: right;\n    }\n</style>\n<table border=\"1\" class=\"dataframe\">\n  <thead>\n    <tr style=\"text-align: right;\">\n      <th></th>\n      <th>Description</th>\n      <th>num_features</th>\n      <th>pipe_time</th>\n      <th>f1_rdf</th>\n      <th>acc_rdf</th>\n    </tr>\n  </thead>\n  <tbody>\n    <tr>\n      <th>0</th>\n      <td>tfidf</td>\n      <td>10550</td>\n      <td>11.541</td>\n      <td>0.693313</td>\n      <td>0.712891</td>\n    </tr>\n    <tr>\n      <th>1</th>\n      <td>lower-tfidf</td>\n      <td>10550</td>\n      <td>11.589</td>\n      <td>0.697086</td>\n      <td>0.716635</td>\n    </tr>\n    <tr>\n      <th>2</th>\n      <td>lower-ponct-tfidf</td>\n      <td>11241</td>\n      <td>10.198</td>\n      <td>0.693648</td>\n      <td>0.713426</td>\n    </tr>\n    <tr>\n      <th>3</th>\n      <td>lower-ponct-stopw-tfidf</td>\n      <td>11143</td>\n      <td>12.109</td>\n      <td>0.705459</td>\n      <td>0.722386</td>\n    </tr>\n    <tr>\n      <th>4</th>\n      <td>lower-ponct-stopw-lemma-tfidf</td>\n      <td>9368</td>\n      <td>48.515</td>\n      <td>0.712701</td>\n      <td>0.729607</td>\n    </tr>\n    <tr>\n      <th>5</th>\n      <td>lower-ponct-stopw-stemm-tfidf</td>\n      <td>7978</td>\n      <td>12.423</td>\n      <td>0.717836</td>\n      <td>0.734154</td>\n    </tr>\n  </tbody>\n</table>\n</div>"
     },
     "execution_count": 33,
     "metadata": {},
     "output_type": "execute_result"
    }
   ],
   "source": [
    "def pipe_6(data):\n",
    "    start_time = time.time()\n",
    "    \n",
    "    #preprocesing\n",
    "    df = data.copy()\n",
    "    df = lowercase_func(df)\n",
    "    df = ponctuation_remov_func(df)\n",
    "    df = remove_stop_words(df)\n",
    "    df = stemming_func(df)\n",
    "    X, _ = TF_IDF_func(df, 1)\n",
    "    y = df['label']\n",
    "    description = 'lower-ponct-stopw-stemm-tfidf'\n",
    "    \n",
    "    # call the model\n",
    "    acc_rdf, f1_rdf = model(X, y)\n",
    "    \n",
    "    end_time = time.time()\n",
    "\n",
    "    num_features = X.shape[1]\n",
    "    pipe_time = end_time - start_time\n",
    "    pipe_time = format(pipe_time, '.3f')\n",
    "    \n",
    "\n",
    "    metrics_data.loc[len(metrics_data.index)] = [description, num_features,  pipe_time,  f1_rdf,  acc_rdf]\n",
    "\n",
    "pipe_6(data)\n",
    "metrics_data"
   ],
   "metadata": {
    "collapsed": false,
    "ExecuteTime": {
     "end_time": "2023-11-16T00:57:35.211160883Z",
     "start_time": "2023-11-16T00:57:22.788611409Z"
    }
   }
  },
  {
   "cell_type": "code",
   "execution_count": 34,
   "outputs": [
    {
     "data": {
      "text/plain": "VBox(children=(HBox(children=(IntProgress(value=0, description='0.00%', max=2671), Label(value='0 / 2671'))), …",
      "application/vnd.jupyter.widget-view+json": {
       "version_major": 2,
       "version_minor": 0,
       "model_id": "bc477528c5ed4eb0b05bc78ba986439c"
      }
     },
     "metadata": {},
     "output_type": "display_data"
    },
    {
     "data": {
      "text/plain": "VBox(children=(HBox(children=(IntProgress(value=0, description='0.00%', max=2671), Label(value='0 / 2671'))), …",
      "application/vnd.jupyter.widget-view+json": {
       "version_major": 2,
       "version_minor": 0,
       "model_id": "b23893590a174e7280801fdc308c8268"
      }
     },
     "metadata": {},
     "output_type": "display_data"
    },
    {
     "data": {
      "text/plain": "VBox(children=(HBox(children=(IntProgress(value=0, description='0.00%', max=2671), Label(value='0 / 2671'))), …",
      "application/vnd.jupyter.widget-view+json": {
       "version_major": 2,
       "version_minor": 0,
       "model_id": "190589a72f25435ebff407786e90257b"
      }
     },
     "metadata": {},
     "output_type": "display_data"
    },
    {
     "data": {
      "text/plain": "VBox(children=(HBox(children=(IntProgress(value=0, description='0.00%', max=2671), Label(value='0 / 2671'))), …",
      "application/vnd.jupyter.widget-view+json": {
       "version_major": 2,
       "version_minor": 0,
       "model_id": "f6a620fe7a4d4a939cf4cf1dbdeff758"
      }
     },
     "metadata": {},
     "output_type": "display_data"
    },
    {
     "name": "stderr",
     "output_type": "stream",
     "text": [
      "/home/daniel/anaconda3/envs/cv/lib/python3.11/site-packages/sklearn/utils/validation.py:605: FutureWarning: is_sparse is deprecated and will be removed in a future version. Check `isinstance(dtype, pd.SparseDtype)` instead.\n",
      "  if is_sparse(pd_dtype):\n",
      "/home/daniel/anaconda3/envs/cv/lib/python3.11/site-packages/sklearn/utils/validation.py:614: FutureWarning: is_sparse is deprecated and will be removed in a future version. Check `isinstance(dtype, pd.SparseDtype)` instead.\n",
      "  if is_sparse(pd_dtype) or not is_extension_array_dtype(pd_dtype):\n",
      "/home/daniel/anaconda3/envs/cv/lib/python3.11/site-packages/sklearn/utils/validation.py:605: FutureWarning: is_sparse is deprecated and will be removed in a future version. Check `isinstance(dtype, pd.SparseDtype)` instead.\n",
      "  if is_sparse(pd_dtype):\n",
      "/home/daniel/anaconda3/envs/cv/lib/python3.11/site-packages/sklearn/utils/validation.py:614: FutureWarning: is_sparse is deprecated and will be removed in a future version. Check `isinstance(dtype, pd.SparseDtype)` instead.\n",
      "  if is_sparse(pd_dtype) or not is_extension_array_dtype(pd_dtype):\n",
      "/home/daniel/anaconda3/envs/cv/lib/python3.11/site-packages/sklearn/utils/validation.py:605: FutureWarning: is_sparse is deprecated and will be removed in a future version. Check `isinstance(dtype, pd.SparseDtype)` instead.\n",
      "  if is_sparse(pd_dtype):\n",
      "/home/daniel/anaconda3/envs/cv/lib/python3.11/site-packages/sklearn/utils/validation.py:614: FutureWarning: is_sparse is deprecated and will be removed in a future version. Check `isinstance(dtype, pd.SparseDtype)` instead.\n",
      "  if is_sparse(pd_dtype) or not is_extension_array_dtype(pd_dtype):\n",
      "/home/daniel/anaconda3/envs/cv/lib/python3.11/site-packages/sklearn/utils/validation.py:605: FutureWarning: is_sparse is deprecated and will be removed in a future version. Check `isinstance(dtype, pd.SparseDtype)` instead.\n",
      "  if is_sparse(pd_dtype):\n",
      "/home/daniel/anaconda3/envs/cv/lib/python3.11/site-packages/sklearn/utils/validation.py:614: FutureWarning: is_sparse is deprecated and will be removed in a future version. Check `isinstance(dtype, pd.SparseDtype)` instead.\n",
      "  if is_sparse(pd_dtype) or not is_extension_array_dtype(pd_dtype):\n",
      "/home/daniel/anaconda3/envs/cv/lib/python3.11/site-packages/sklearn/utils/validation.py:605: FutureWarning: is_sparse is deprecated and will be removed in a future version. Check `isinstance(dtype, pd.SparseDtype)` instead.\n",
      "  if is_sparse(pd_dtype):\n",
      "/home/daniel/anaconda3/envs/cv/lib/python3.11/site-packages/sklearn/utils/validation.py:614: FutureWarning: is_sparse is deprecated and will be removed in a future version. Check `isinstance(dtype, pd.SparseDtype)` instead.\n",
      "  if is_sparse(pd_dtype) or not is_extension_array_dtype(pd_dtype):\n",
      "/home/daniel/anaconda3/envs/cv/lib/python3.11/site-packages/sklearn/utils/validation.py:605: FutureWarning: is_sparse is deprecated and will be removed in a future version. Check `isinstance(dtype, pd.SparseDtype)` instead.\n",
      "  if is_sparse(pd_dtype):\n",
      "/home/daniel/anaconda3/envs/cv/lib/python3.11/site-packages/sklearn/utils/validation.py:614: FutureWarning: is_sparse is deprecated and will be removed in a future version. Check `isinstance(dtype, pd.SparseDtype)` instead.\n",
      "  if is_sparse(pd_dtype) or not is_extension_array_dtype(pd_dtype):\n",
      "/home/daniel/anaconda3/envs/cv/lib/python3.11/site-packages/sklearn/utils/validation.py:605: FutureWarning: is_sparse is deprecated and will be removed in a future version. Check `isinstance(dtype, pd.SparseDtype)` instead.\n",
      "  if is_sparse(pd_dtype):\n",
      "/home/daniel/anaconda3/envs/cv/lib/python3.11/site-packages/sklearn/utils/validation.py:614: FutureWarning: is_sparse is deprecated and will be removed in a future version. Check `isinstance(dtype, pd.SparseDtype)` instead.\n",
      "  if is_sparse(pd_dtype) or not is_extension_array_dtype(pd_dtype):\n",
      "/home/daniel/anaconda3/envs/cv/lib/python3.11/site-packages/sklearn/utils/validation.py:605: FutureWarning: is_sparse is deprecated and will be removed in a future version. Check `isinstance(dtype, pd.SparseDtype)` instead.\n",
      "  if is_sparse(pd_dtype):\n",
      "/home/daniel/anaconda3/envs/cv/lib/python3.11/site-packages/sklearn/utils/validation.py:614: FutureWarning: is_sparse is deprecated and will be removed in a future version. Check `isinstance(dtype, pd.SparseDtype)` instead.\n",
      "  if is_sparse(pd_dtype) or not is_extension_array_dtype(pd_dtype):\n",
      "/home/daniel/anaconda3/envs/cv/lib/python3.11/site-packages/sklearn/utils/validation.py:605: FutureWarning: is_sparse is deprecated and will be removed in a future version. Check `isinstance(dtype, pd.SparseDtype)` instead.\n",
      "  if is_sparse(pd_dtype):\n",
      "/home/daniel/anaconda3/envs/cv/lib/python3.11/site-packages/sklearn/utils/validation.py:614: FutureWarning: is_sparse is deprecated and will be removed in a future version. Check `isinstance(dtype, pd.SparseDtype)` instead.\n",
      "  if is_sparse(pd_dtype) or not is_extension_array_dtype(pd_dtype):\n",
      "/home/daniel/anaconda3/envs/cv/lib/python3.11/site-packages/sklearn/utils/validation.py:605: FutureWarning: is_sparse is deprecated and will be removed in a future version. Check `isinstance(dtype, pd.SparseDtype)` instead.\n",
      "  if is_sparse(pd_dtype):\n",
      "/home/daniel/anaconda3/envs/cv/lib/python3.11/site-packages/sklearn/utils/validation.py:614: FutureWarning: is_sparse is deprecated and will be removed in a future version. Check `isinstance(dtype, pd.SparseDtype)` instead.\n",
      "  if is_sparse(pd_dtype) or not is_extension_array_dtype(pd_dtype):\n"
     ]
    },
    {
     "data": {
      "text/plain": "                           Description  num_features pipe_time    f1_rdf  \\\n0                                tfidf         10550    11.541  0.693313   \n1                          lower-tfidf         10550    11.589  0.697086   \n2                    lower-ponct-tfidf         11241    10.198  0.693648   \n3              lower-ponct-stopw-tfidf         11143    12.109  0.705459   \n4        lower-ponct-stopw-lemma-tfidf          9368    48.515  0.712701   \n5        lower-ponct-stopw-stemm-tfidf          7978    12.423  0.717836   \n6  lower-ponct-stopw-lemma-stemm-tfidf          7864    49.424  0.715693   \n\n    acc_rdf  \n0  0.712891  \n1  0.716635  \n2  0.713426  \n3  0.722386  \n4  0.729607  \n5  0.734154  \n6  0.732415  ",
      "text/html": "<div>\n<style scoped>\n    .dataframe tbody tr th:only-of-type {\n        vertical-align: middle;\n    }\n\n    .dataframe tbody tr th {\n        vertical-align: top;\n    }\n\n    .dataframe thead th {\n        text-align: right;\n    }\n</style>\n<table border=\"1\" class=\"dataframe\">\n  <thead>\n    <tr style=\"text-align: right;\">\n      <th></th>\n      <th>Description</th>\n      <th>num_features</th>\n      <th>pipe_time</th>\n      <th>f1_rdf</th>\n      <th>acc_rdf</th>\n    </tr>\n  </thead>\n  <tbody>\n    <tr>\n      <th>0</th>\n      <td>tfidf</td>\n      <td>10550</td>\n      <td>11.541</td>\n      <td>0.693313</td>\n      <td>0.712891</td>\n    </tr>\n    <tr>\n      <th>1</th>\n      <td>lower-tfidf</td>\n      <td>10550</td>\n      <td>11.589</td>\n      <td>0.697086</td>\n      <td>0.716635</td>\n    </tr>\n    <tr>\n      <th>2</th>\n      <td>lower-ponct-tfidf</td>\n      <td>11241</td>\n      <td>10.198</td>\n      <td>0.693648</td>\n      <td>0.713426</td>\n    </tr>\n    <tr>\n      <th>3</th>\n      <td>lower-ponct-stopw-tfidf</td>\n      <td>11143</td>\n      <td>12.109</td>\n      <td>0.705459</td>\n      <td>0.722386</td>\n    </tr>\n    <tr>\n      <th>4</th>\n      <td>lower-ponct-stopw-lemma-tfidf</td>\n      <td>9368</td>\n      <td>48.515</td>\n      <td>0.712701</td>\n      <td>0.729607</td>\n    </tr>\n    <tr>\n      <th>5</th>\n      <td>lower-ponct-stopw-stemm-tfidf</td>\n      <td>7978</td>\n      <td>12.423</td>\n      <td>0.717836</td>\n      <td>0.734154</td>\n    </tr>\n    <tr>\n      <th>6</th>\n      <td>lower-ponct-stopw-lemma-stemm-tfidf</td>\n      <td>7864</td>\n      <td>49.424</td>\n      <td>0.715693</td>\n      <td>0.732415</td>\n    </tr>\n  </tbody>\n</table>\n</div>"
     },
     "execution_count": 34,
     "metadata": {},
     "output_type": "execute_result"
    }
   ],
   "source": [
    "def pipe_7(data):\n",
    "    start_time = time.time()\n",
    "    \n",
    "    #preprocesing\n",
    "    df = data.copy()\n",
    "    df = lowercase_func(df)\n",
    "    df = ponctuation_remov_func(df)\n",
    "    df = remove_stop_words(df)\n",
    "    df = lemmatization_func(df)\n",
    "    df = stemming_func(df)\n",
    "    X, _ = TF_IDF_func(df, 1)\n",
    "    y = df['label']\n",
    "    description = 'lower-ponct-stopw-lemma-stemm-tfidf'\n",
    "    \n",
    "    # call the model\n",
    "    acc_rdf, f1_rdf = model(X, y)\n",
    "    \n",
    "    end_time = time.time()\n",
    "\n",
    "    num_features = X.shape[1]\n",
    "    pipe_time = end_time - start_time\n",
    "    pipe_time = format(pipe_time, '.3f')\n",
    "    \n",
    "    metrics_data.loc[len(metrics_data.index)] = [description, num_features,  pipe_time,  f1_rdf,  acc_rdf]\n",
    "\n",
    "pipe_7(data)\n",
    "metrics_data"
   ],
   "metadata": {
    "collapsed": false,
    "ExecuteTime": {
     "end_time": "2023-11-16T00:58:24.649540036Z",
     "start_time": "2023-11-16T00:57:35.210788820Z"
    }
   }
  },
  {
   "cell_type": "code",
   "execution_count": 35,
   "outputs": [
    {
     "data": {
      "text/plain": "VBox(children=(HBox(children=(IntProgress(value=0, description='0.00%', max=2671), Label(value='0 / 2671'))), …",
      "application/vnd.jupyter.widget-view+json": {
       "version_major": 2,
       "version_minor": 0,
       "model_id": "22c6cbffcdf24008bcfaf258ea1a58c1"
      }
     },
     "metadata": {},
     "output_type": "display_data"
    },
    {
     "name": "stderr",
     "output_type": "stream",
     "text": [
      "/home/daniel/anaconda3/envs/cv/lib/python3.11/site-packages/sklearn/utils/validation.py:605: FutureWarning: is_sparse is deprecated and will be removed in a future version. Check `isinstance(dtype, pd.SparseDtype)` instead.\n",
      "  if is_sparse(pd_dtype):\n",
      "/home/daniel/anaconda3/envs/cv/lib/python3.11/site-packages/sklearn/utils/validation.py:614: FutureWarning: is_sparse is deprecated and will be removed in a future version. Check `isinstance(dtype, pd.SparseDtype)` instead.\n",
      "  if is_sparse(pd_dtype) or not is_extension_array_dtype(pd_dtype):\n",
      "/home/daniel/anaconda3/envs/cv/lib/python3.11/site-packages/sklearn/utils/validation.py:605: FutureWarning: is_sparse is deprecated and will be removed in a future version. Check `isinstance(dtype, pd.SparseDtype)` instead.\n",
      "  if is_sparse(pd_dtype):\n",
      "/home/daniel/anaconda3/envs/cv/lib/python3.11/site-packages/sklearn/utils/validation.py:614: FutureWarning: is_sparse is deprecated and will be removed in a future version. Check `isinstance(dtype, pd.SparseDtype)` instead.\n",
      "  if is_sparse(pd_dtype) or not is_extension_array_dtype(pd_dtype):\n",
      "/home/daniel/anaconda3/envs/cv/lib/python3.11/site-packages/sklearn/utils/validation.py:605: FutureWarning: is_sparse is deprecated and will be removed in a future version. Check `isinstance(dtype, pd.SparseDtype)` instead.\n",
      "  if is_sparse(pd_dtype):\n",
      "/home/daniel/anaconda3/envs/cv/lib/python3.11/site-packages/sklearn/utils/validation.py:614: FutureWarning: is_sparse is deprecated and will be removed in a future version. Check `isinstance(dtype, pd.SparseDtype)` instead.\n",
      "  if is_sparse(pd_dtype) or not is_extension_array_dtype(pd_dtype):\n",
      "/home/daniel/anaconda3/envs/cv/lib/python3.11/site-packages/sklearn/utils/validation.py:605: FutureWarning: is_sparse is deprecated and will be removed in a future version. Check `isinstance(dtype, pd.SparseDtype)` instead.\n",
      "  if is_sparse(pd_dtype):\n",
      "/home/daniel/anaconda3/envs/cv/lib/python3.11/site-packages/sklearn/utils/validation.py:614: FutureWarning: is_sparse is deprecated and will be removed in a future version. Check `isinstance(dtype, pd.SparseDtype)` instead.\n",
      "  if is_sparse(pd_dtype) or not is_extension_array_dtype(pd_dtype):\n",
      "/home/daniel/anaconda3/envs/cv/lib/python3.11/site-packages/sklearn/utils/validation.py:605: FutureWarning: is_sparse is deprecated and will be removed in a future version. Check `isinstance(dtype, pd.SparseDtype)` instead.\n",
      "  if is_sparse(pd_dtype):\n",
      "/home/daniel/anaconda3/envs/cv/lib/python3.11/site-packages/sklearn/utils/validation.py:614: FutureWarning: is_sparse is deprecated and will be removed in a future version. Check `isinstance(dtype, pd.SparseDtype)` instead.\n",
      "  if is_sparse(pd_dtype) or not is_extension_array_dtype(pd_dtype):\n",
      "/home/daniel/anaconda3/envs/cv/lib/python3.11/site-packages/sklearn/utils/validation.py:605: FutureWarning: is_sparse is deprecated and will be removed in a future version. Check `isinstance(dtype, pd.SparseDtype)` instead.\n",
      "  if is_sparse(pd_dtype):\n",
      "/home/daniel/anaconda3/envs/cv/lib/python3.11/site-packages/sklearn/utils/validation.py:614: FutureWarning: is_sparse is deprecated and will be removed in a future version. Check `isinstance(dtype, pd.SparseDtype)` instead.\n",
      "  if is_sparse(pd_dtype) or not is_extension_array_dtype(pd_dtype):\n",
      "/home/daniel/anaconda3/envs/cv/lib/python3.11/site-packages/sklearn/utils/validation.py:605: FutureWarning: is_sparse is deprecated and will be removed in a future version. Check `isinstance(dtype, pd.SparseDtype)` instead.\n",
      "  if is_sparse(pd_dtype):\n",
      "/home/daniel/anaconda3/envs/cv/lib/python3.11/site-packages/sklearn/utils/validation.py:614: FutureWarning: is_sparse is deprecated and will be removed in a future version. Check `isinstance(dtype, pd.SparseDtype)` instead.\n",
      "  if is_sparse(pd_dtype) or not is_extension_array_dtype(pd_dtype):\n",
      "/home/daniel/anaconda3/envs/cv/lib/python3.11/site-packages/sklearn/utils/validation.py:605: FutureWarning: is_sparse is deprecated and will be removed in a future version. Check `isinstance(dtype, pd.SparseDtype)` instead.\n",
      "  if is_sparse(pd_dtype):\n",
      "/home/daniel/anaconda3/envs/cv/lib/python3.11/site-packages/sklearn/utils/validation.py:614: FutureWarning: is_sparse is deprecated and will be removed in a future version. Check `isinstance(dtype, pd.SparseDtype)` instead.\n",
      "  if is_sparse(pd_dtype) or not is_extension_array_dtype(pd_dtype):\n",
      "/home/daniel/anaconda3/envs/cv/lib/python3.11/site-packages/sklearn/utils/validation.py:605: FutureWarning: is_sparse is deprecated and will be removed in a future version. Check `isinstance(dtype, pd.SparseDtype)` instead.\n",
      "  if is_sparse(pd_dtype):\n",
      "/home/daniel/anaconda3/envs/cv/lib/python3.11/site-packages/sklearn/utils/validation.py:614: FutureWarning: is_sparse is deprecated and will be removed in a future version. Check `isinstance(dtype, pd.SparseDtype)` instead.\n",
      "  if is_sparse(pd_dtype) or not is_extension_array_dtype(pd_dtype):\n",
      "/home/daniel/anaconda3/envs/cv/lib/python3.11/site-packages/sklearn/utils/validation.py:605: FutureWarning: is_sparse is deprecated and will be removed in a future version. Check `isinstance(dtype, pd.SparseDtype)` instead.\n",
      "  if is_sparse(pd_dtype):\n",
      "/home/daniel/anaconda3/envs/cv/lib/python3.11/site-packages/sklearn/utils/validation.py:614: FutureWarning: is_sparse is deprecated and will be removed in a future version. Check `isinstance(dtype, pd.SparseDtype)` instead.\n",
      "  if is_sparse(pd_dtype) or not is_extension_array_dtype(pd_dtype):\n"
     ]
    },
    {
     "data": {
      "text/plain": "                           Description  num_features pipe_time    f1_rdf  \\\n0                                tfidf         10550    11.541  0.693313   \n1                          lower-tfidf         10550    11.589  0.697086   \n2                    lower-ponct-tfidf         11241    10.198  0.693648   \n3              lower-ponct-stopw-tfidf         11143    12.109  0.705459   \n4        lower-ponct-stopw-lemma-tfidf          9368    48.515  0.712701   \n5        lower-ponct-stopw-stemm-tfidf          7978    12.423  0.717836   \n6  lower-ponct-stopw-lemma-stemm-tfidf          7864    49.424  0.715693   \n7              lower-ponct-tfidf-lsi70            70     8.427  0.613060   \n\n    acc_rdf  \n0  0.712891  \n1  0.716635  \n2  0.713426  \n3  0.722386  \n4  0.729607  \n5  0.734154  \n6  0.732415  \n7  0.634795  ",
      "text/html": "<div>\n<style scoped>\n    .dataframe tbody tr th:only-of-type {\n        vertical-align: middle;\n    }\n\n    .dataframe tbody tr th {\n        vertical-align: top;\n    }\n\n    .dataframe thead th {\n        text-align: right;\n    }\n</style>\n<table border=\"1\" class=\"dataframe\">\n  <thead>\n    <tr style=\"text-align: right;\">\n      <th></th>\n      <th>Description</th>\n      <th>num_features</th>\n      <th>pipe_time</th>\n      <th>f1_rdf</th>\n      <th>acc_rdf</th>\n    </tr>\n  </thead>\n  <tbody>\n    <tr>\n      <th>0</th>\n      <td>tfidf</td>\n      <td>10550</td>\n      <td>11.541</td>\n      <td>0.693313</td>\n      <td>0.712891</td>\n    </tr>\n    <tr>\n      <th>1</th>\n      <td>lower-tfidf</td>\n      <td>10550</td>\n      <td>11.589</td>\n      <td>0.697086</td>\n      <td>0.716635</td>\n    </tr>\n    <tr>\n      <th>2</th>\n      <td>lower-ponct-tfidf</td>\n      <td>11241</td>\n      <td>10.198</td>\n      <td>0.693648</td>\n      <td>0.713426</td>\n    </tr>\n    <tr>\n      <th>3</th>\n      <td>lower-ponct-stopw-tfidf</td>\n      <td>11143</td>\n      <td>12.109</td>\n      <td>0.705459</td>\n      <td>0.722386</td>\n    </tr>\n    <tr>\n      <th>4</th>\n      <td>lower-ponct-stopw-lemma-tfidf</td>\n      <td>9368</td>\n      <td>48.515</td>\n      <td>0.712701</td>\n      <td>0.729607</td>\n    </tr>\n    <tr>\n      <th>5</th>\n      <td>lower-ponct-stopw-stemm-tfidf</td>\n      <td>7978</td>\n      <td>12.423</td>\n      <td>0.717836</td>\n      <td>0.734154</td>\n    </tr>\n    <tr>\n      <th>6</th>\n      <td>lower-ponct-stopw-lemma-stemm-tfidf</td>\n      <td>7864</td>\n      <td>49.424</td>\n      <td>0.715693</td>\n      <td>0.732415</td>\n    </tr>\n    <tr>\n      <th>7</th>\n      <td>lower-ponct-tfidf-lsi70</td>\n      <td>70</td>\n      <td>8.427</td>\n      <td>0.613060</td>\n      <td>0.634795</td>\n    </tr>\n  </tbody>\n</table>\n</div>"
     },
     "execution_count": 35,
     "metadata": {},
     "output_type": "execute_result"
    }
   ],
   "source": [
    "def pipe_8(data):\n",
    "    start_time = time.time()\n",
    "    \n",
    "    #preprocesing\n",
    "    df = data.copy()\n",
    "    df = lowercase_func(df)\n",
    "    df = ponctuation_remov_func(df)\n",
    "    X, nan1, nan2 = LSI_func(df, 70)\n",
    "    #X, _ = TF_IDF_func(df, 1)\n",
    "    y = df['label']\n",
    "    description = 'lower-ponct-tfidf-lsi70'\n",
    "    \n",
    "    # call the model\n",
    "    acc_rdf, f1_rdf = model(X, y)\n",
    "    \n",
    "    end_time = time.time()\n",
    "\n",
    "    num_features = X.shape[1]\n",
    "    pipe_time = end_time - start_time\n",
    "    pipe_time = format(pipe_time, '.3f')\n",
    "    \n",
    "    metrics_data.loc[len(metrics_data.index)] = [description, num_features,  pipe_time,  f1_rdf,  acc_rdf]\n",
    "\n",
    "pipe_8(data)\n",
    "metrics_data"
   ],
   "metadata": {
    "collapsed": false,
    "ExecuteTime": {
     "end_time": "2023-11-16T00:58:33.091251403Z",
     "start_time": "2023-11-16T00:58:24.647336459Z"
    }
   }
  },
  {
   "cell_type": "code",
   "execution_count": 36,
   "outputs": [
    {
     "data": {
      "text/plain": "VBox(children=(HBox(children=(IntProgress(value=0, description='0.00%', max=2671), Label(value='0 / 2671'))), …",
      "application/vnd.jupyter.widget-view+json": {
       "version_major": 2,
       "version_minor": 0,
       "model_id": "6888ff370ead40df803a21d350c0e1c3"
      }
     },
     "metadata": {},
     "output_type": "display_data"
    },
    {
     "data": {
      "text/plain": "VBox(children=(HBox(children=(IntProgress(value=0, description='0.00%', max=2671), Label(value='0 / 2671'))), …",
      "application/vnd.jupyter.widget-view+json": {
       "version_major": 2,
       "version_minor": 0,
       "model_id": "6450c36816fb4b28b459f8a4b8b310e8"
      }
     },
     "metadata": {},
     "output_type": "display_data"
    },
    {
     "name": "stderr",
     "output_type": "stream",
     "text": [
      "/home/daniel/anaconda3/envs/cv/lib/python3.11/site-packages/sklearn/utils/validation.py:605: FutureWarning: is_sparse is deprecated and will be removed in a future version. Check `isinstance(dtype, pd.SparseDtype)` instead.\n",
      "  if is_sparse(pd_dtype):\n",
      "/home/daniel/anaconda3/envs/cv/lib/python3.11/site-packages/sklearn/utils/validation.py:614: FutureWarning: is_sparse is deprecated and will be removed in a future version. Check `isinstance(dtype, pd.SparseDtype)` instead.\n",
      "  if is_sparse(pd_dtype) or not is_extension_array_dtype(pd_dtype):\n",
      "/home/daniel/anaconda3/envs/cv/lib/python3.11/site-packages/sklearn/utils/validation.py:605: FutureWarning: is_sparse is deprecated and will be removed in a future version. Check `isinstance(dtype, pd.SparseDtype)` instead.\n",
      "  if is_sparse(pd_dtype):\n",
      "/home/daniel/anaconda3/envs/cv/lib/python3.11/site-packages/sklearn/utils/validation.py:614: FutureWarning: is_sparse is deprecated and will be removed in a future version. Check `isinstance(dtype, pd.SparseDtype)` instead.\n",
      "  if is_sparse(pd_dtype) or not is_extension_array_dtype(pd_dtype):\n",
      "/home/daniel/anaconda3/envs/cv/lib/python3.11/site-packages/sklearn/utils/validation.py:605: FutureWarning: is_sparse is deprecated and will be removed in a future version. Check `isinstance(dtype, pd.SparseDtype)` instead.\n",
      "  if is_sparse(pd_dtype):\n",
      "/home/daniel/anaconda3/envs/cv/lib/python3.11/site-packages/sklearn/utils/validation.py:614: FutureWarning: is_sparse is deprecated and will be removed in a future version. Check `isinstance(dtype, pd.SparseDtype)` instead.\n",
      "  if is_sparse(pd_dtype) or not is_extension_array_dtype(pd_dtype):\n",
      "/home/daniel/anaconda3/envs/cv/lib/python3.11/site-packages/sklearn/utils/validation.py:605: FutureWarning: is_sparse is deprecated and will be removed in a future version. Check `isinstance(dtype, pd.SparseDtype)` instead.\n",
      "  if is_sparse(pd_dtype):\n",
      "/home/daniel/anaconda3/envs/cv/lib/python3.11/site-packages/sklearn/utils/validation.py:614: FutureWarning: is_sparse is deprecated and will be removed in a future version. Check `isinstance(dtype, pd.SparseDtype)` instead.\n",
      "  if is_sparse(pd_dtype) or not is_extension_array_dtype(pd_dtype):\n",
      "/home/daniel/anaconda3/envs/cv/lib/python3.11/site-packages/sklearn/utils/validation.py:605: FutureWarning: is_sparse is deprecated and will be removed in a future version. Check `isinstance(dtype, pd.SparseDtype)` instead.\n",
      "  if is_sparse(pd_dtype):\n",
      "/home/daniel/anaconda3/envs/cv/lib/python3.11/site-packages/sklearn/utils/validation.py:614: FutureWarning: is_sparse is deprecated and will be removed in a future version. Check `isinstance(dtype, pd.SparseDtype)` instead.\n",
      "  if is_sparse(pd_dtype) or not is_extension_array_dtype(pd_dtype):\n",
      "/home/daniel/anaconda3/envs/cv/lib/python3.11/site-packages/sklearn/utils/validation.py:605: FutureWarning: is_sparse is deprecated and will be removed in a future version. Check `isinstance(dtype, pd.SparseDtype)` instead.\n",
      "  if is_sparse(pd_dtype):\n",
      "/home/daniel/anaconda3/envs/cv/lib/python3.11/site-packages/sklearn/utils/validation.py:614: FutureWarning: is_sparse is deprecated and will be removed in a future version. Check `isinstance(dtype, pd.SparseDtype)` instead.\n",
      "  if is_sparse(pd_dtype) or not is_extension_array_dtype(pd_dtype):\n",
      "/home/daniel/anaconda3/envs/cv/lib/python3.11/site-packages/sklearn/utils/validation.py:605: FutureWarning: is_sparse is deprecated and will be removed in a future version. Check `isinstance(dtype, pd.SparseDtype)` instead.\n",
      "  if is_sparse(pd_dtype):\n",
      "/home/daniel/anaconda3/envs/cv/lib/python3.11/site-packages/sklearn/utils/validation.py:614: FutureWarning: is_sparse is deprecated and will be removed in a future version. Check `isinstance(dtype, pd.SparseDtype)` instead.\n",
      "  if is_sparse(pd_dtype) or not is_extension_array_dtype(pd_dtype):\n",
      "/home/daniel/anaconda3/envs/cv/lib/python3.11/site-packages/sklearn/utils/validation.py:605: FutureWarning: is_sparse is deprecated and will be removed in a future version. Check `isinstance(dtype, pd.SparseDtype)` instead.\n",
      "  if is_sparse(pd_dtype):\n",
      "/home/daniel/anaconda3/envs/cv/lib/python3.11/site-packages/sklearn/utils/validation.py:614: FutureWarning: is_sparse is deprecated and will be removed in a future version. Check `isinstance(dtype, pd.SparseDtype)` instead.\n",
      "  if is_sparse(pd_dtype) or not is_extension_array_dtype(pd_dtype):\n",
      "/home/daniel/anaconda3/envs/cv/lib/python3.11/site-packages/sklearn/utils/validation.py:605: FutureWarning: is_sparse is deprecated and will be removed in a future version. Check `isinstance(dtype, pd.SparseDtype)` instead.\n",
      "  if is_sparse(pd_dtype):\n",
      "/home/daniel/anaconda3/envs/cv/lib/python3.11/site-packages/sklearn/utils/validation.py:614: FutureWarning: is_sparse is deprecated and will be removed in a future version. Check `isinstance(dtype, pd.SparseDtype)` instead.\n",
      "  if is_sparse(pd_dtype) or not is_extension_array_dtype(pd_dtype):\n",
      "/home/daniel/anaconda3/envs/cv/lib/python3.11/site-packages/sklearn/utils/validation.py:605: FutureWarning: is_sparse is deprecated and will be removed in a future version. Check `isinstance(dtype, pd.SparseDtype)` instead.\n",
      "  if is_sparse(pd_dtype):\n",
      "/home/daniel/anaconda3/envs/cv/lib/python3.11/site-packages/sklearn/utils/validation.py:614: FutureWarning: is_sparse is deprecated and will be removed in a future version. Check `isinstance(dtype, pd.SparseDtype)` instead.\n",
      "  if is_sparse(pd_dtype) or not is_extension_array_dtype(pd_dtype):\n"
     ]
    },
    {
     "data": {
      "text/plain": "                           Description  num_features pipe_time    f1_rdf  \\\n0                                tfidf         10550    11.541  0.693313   \n1                          lower-tfidf         10550    11.589  0.697086   \n2                    lower-ponct-tfidf         11241    10.198  0.693648   \n3              lower-ponct-stopw-tfidf         11143    12.109  0.705459   \n4        lower-ponct-stopw-lemma-tfidf          9368    48.515  0.712701   \n5        lower-ponct-stopw-stemm-tfidf          7978    12.423  0.717836   \n6  lower-ponct-stopw-lemma-stemm-tfidf          7864    49.424  0.715693   \n7              lower-ponct-tfidf-lsi70            70     8.427  0.613060   \n8         lower-ponct-stop-tfidf-lsi70            70     8.678  0.642178   \n\n    acc_rdf  \n0  0.712891  \n1  0.716635  \n2  0.713426  \n3  0.722386  \n4  0.729607  \n5  0.734154  \n6  0.732415  \n7  0.634795  \n8  0.660337  ",
      "text/html": "<div>\n<style scoped>\n    .dataframe tbody tr th:only-of-type {\n        vertical-align: middle;\n    }\n\n    .dataframe tbody tr th {\n        vertical-align: top;\n    }\n\n    .dataframe thead th {\n        text-align: right;\n    }\n</style>\n<table border=\"1\" class=\"dataframe\">\n  <thead>\n    <tr style=\"text-align: right;\">\n      <th></th>\n      <th>Description</th>\n      <th>num_features</th>\n      <th>pipe_time</th>\n      <th>f1_rdf</th>\n      <th>acc_rdf</th>\n    </tr>\n  </thead>\n  <tbody>\n    <tr>\n      <th>0</th>\n      <td>tfidf</td>\n      <td>10550</td>\n      <td>11.541</td>\n      <td>0.693313</td>\n      <td>0.712891</td>\n    </tr>\n    <tr>\n      <th>1</th>\n      <td>lower-tfidf</td>\n      <td>10550</td>\n      <td>11.589</td>\n      <td>0.697086</td>\n      <td>0.716635</td>\n    </tr>\n    <tr>\n      <th>2</th>\n      <td>lower-ponct-tfidf</td>\n      <td>11241</td>\n      <td>10.198</td>\n      <td>0.693648</td>\n      <td>0.713426</td>\n    </tr>\n    <tr>\n      <th>3</th>\n      <td>lower-ponct-stopw-tfidf</td>\n      <td>11143</td>\n      <td>12.109</td>\n      <td>0.705459</td>\n      <td>0.722386</td>\n    </tr>\n    <tr>\n      <th>4</th>\n      <td>lower-ponct-stopw-lemma-tfidf</td>\n      <td>9368</td>\n      <td>48.515</td>\n      <td>0.712701</td>\n      <td>0.729607</td>\n    </tr>\n    <tr>\n      <th>5</th>\n      <td>lower-ponct-stopw-stemm-tfidf</td>\n      <td>7978</td>\n      <td>12.423</td>\n      <td>0.717836</td>\n      <td>0.734154</td>\n    </tr>\n    <tr>\n      <th>6</th>\n      <td>lower-ponct-stopw-lemma-stemm-tfidf</td>\n      <td>7864</td>\n      <td>49.424</td>\n      <td>0.715693</td>\n      <td>0.732415</td>\n    </tr>\n    <tr>\n      <th>7</th>\n      <td>lower-ponct-tfidf-lsi70</td>\n      <td>70</td>\n      <td>8.427</td>\n      <td>0.613060</td>\n      <td>0.634795</td>\n    </tr>\n    <tr>\n      <th>8</th>\n      <td>lower-ponct-stop-tfidf-lsi70</td>\n      <td>70</td>\n      <td>8.678</td>\n      <td>0.642178</td>\n      <td>0.660337</td>\n    </tr>\n  </tbody>\n</table>\n</div>"
     },
     "execution_count": 36,
     "metadata": {},
     "output_type": "execute_result"
    }
   ],
   "source": [
    "def pipe_9(data):\n",
    "    start_time = time.time()\n",
    "    \n",
    "    #preprocesing\n",
    "    df = data.copy()\n",
    "    df = lowercase_func(df)\n",
    "    df = ponctuation_remov_func(df)\n",
    "    df = remove_stop_words(df)\n",
    "    X, nan1, nan2 = LSI_func(df, 70)\n",
    "    #X, _ = TF_IDF_func(df, 1)\n",
    "    y = df['label']\n",
    "    description = 'lower-ponct-stop-tfidf-lsi70'\n",
    "    \n",
    "    # call the model\n",
    "    acc_rdf, f1_rdf = model(X, y)\n",
    "    \n",
    "    end_time = time.time()\n",
    "\n",
    "    num_features = X.shape[1]\n",
    "    pipe_time = end_time - start_time\n",
    "    pipe_time = format(pipe_time, '.3f')\n",
    "    \n",
    "    metrics_data.loc[len(metrics_data.index)] = [description, num_features,  pipe_time,  f1_rdf,  acc_rdf]\n",
    "\n",
    "pipe_9(data)\n",
    "metrics_data"
   ],
   "metadata": {
    "collapsed": false,
    "ExecuteTime": {
     "end_time": "2023-11-16T00:58:41.831758353Z",
     "start_time": "2023-11-16T00:58:33.095228666Z"
    }
   }
  },
  {
   "cell_type": "code",
   "execution_count": 37,
   "outputs": [
    {
     "data": {
      "text/plain": "VBox(children=(HBox(children=(IntProgress(value=0, description='0.00%', max=2671), Label(value='0 / 2671'))), …",
      "application/vnd.jupyter.widget-view+json": {
       "version_major": 2,
       "version_minor": 0,
       "model_id": "b3147ba093d4413e8c469f368ca8dbf0"
      }
     },
     "metadata": {},
     "output_type": "display_data"
    },
    {
     "data": {
      "text/plain": "VBox(children=(HBox(children=(IntProgress(value=0, description='0.00%', max=2671), Label(value='0 / 2671'))), …",
      "application/vnd.jupyter.widget-view+json": {
       "version_major": 2,
       "version_minor": 0,
       "model_id": "7e7fe31d0d8546c290f5a02c71480503"
      }
     },
     "metadata": {},
     "output_type": "display_data"
    },
    {
     "data": {
      "text/plain": "VBox(children=(HBox(children=(IntProgress(value=0, description='0.00%', max=2671), Label(value='0 / 2671'))), …",
      "application/vnd.jupyter.widget-view+json": {
       "version_major": 2,
       "version_minor": 0,
       "model_id": "ddfbfa1a1ad6403caf587cde358db420"
      }
     },
     "metadata": {},
     "output_type": "display_data"
    },
    {
     "name": "stderr",
     "output_type": "stream",
     "text": [
      "/home/daniel/anaconda3/envs/cv/lib/python3.11/site-packages/sklearn/utils/validation.py:605: FutureWarning: is_sparse is deprecated and will be removed in a future version. Check `isinstance(dtype, pd.SparseDtype)` instead.\n",
      "  if is_sparse(pd_dtype):\n",
      "/home/daniel/anaconda3/envs/cv/lib/python3.11/site-packages/sklearn/utils/validation.py:614: FutureWarning: is_sparse is deprecated and will be removed in a future version. Check `isinstance(dtype, pd.SparseDtype)` instead.\n",
      "  if is_sparse(pd_dtype) or not is_extension_array_dtype(pd_dtype):\n",
      "/home/daniel/anaconda3/envs/cv/lib/python3.11/site-packages/sklearn/utils/validation.py:605: FutureWarning: is_sparse is deprecated and will be removed in a future version. Check `isinstance(dtype, pd.SparseDtype)` instead.\n",
      "  if is_sparse(pd_dtype):\n",
      "/home/daniel/anaconda3/envs/cv/lib/python3.11/site-packages/sklearn/utils/validation.py:614: FutureWarning: is_sparse is deprecated and will be removed in a future version. Check `isinstance(dtype, pd.SparseDtype)` instead.\n",
      "  if is_sparse(pd_dtype) or not is_extension_array_dtype(pd_dtype):\n",
      "/home/daniel/anaconda3/envs/cv/lib/python3.11/site-packages/sklearn/utils/validation.py:605: FutureWarning: is_sparse is deprecated and will be removed in a future version. Check `isinstance(dtype, pd.SparseDtype)` instead.\n",
      "  if is_sparse(pd_dtype):\n",
      "/home/daniel/anaconda3/envs/cv/lib/python3.11/site-packages/sklearn/utils/validation.py:614: FutureWarning: is_sparse is deprecated and will be removed in a future version. Check `isinstance(dtype, pd.SparseDtype)` instead.\n",
      "  if is_sparse(pd_dtype) or not is_extension_array_dtype(pd_dtype):\n",
      "/home/daniel/anaconda3/envs/cv/lib/python3.11/site-packages/sklearn/utils/validation.py:605: FutureWarning: is_sparse is deprecated and will be removed in a future version. Check `isinstance(dtype, pd.SparseDtype)` instead.\n",
      "  if is_sparse(pd_dtype):\n",
      "/home/daniel/anaconda3/envs/cv/lib/python3.11/site-packages/sklearn/utils/validation.py:614: FutureWarning: is_sparse is deprecated and will be removed in a future version. Check `isinstance(dtype, pd.SparseDtype)` instead.\n",
      "  if is_sparse(pd_dtype) or not is_extension_array_dtype(pd_dtype):\n",
      "/home/daniel/anaconda3/envs/cv/lib/python3.11/site-packages/sklearn/utils/validation.py:605: FutureWarning: is_sparse is deprecated and will be removed in a future version. Check `isinstance(dtype, pd.SparseDtype)` instead.\n",
      "  if is_sparse(pd_dtype):\n",
      "/home/daniel/anaconda3/envs/cv/lib/python3.11/site-packages/sklearn/utils/validation.py:614: FutureWarning: is_sparse is deprecated and will be removed in a future version. Check `isinstance(dtype, pd.SparseDtype)` instead.\n",
      "  if is_sparse(pd_dtype) or not is_extension_array_dtype(pd_dtype):\n",
      "/home/daniel/anaconda3/envs/cv/lib/python3.11/site-packages/sklearn/utils/validation.py:605: FutureWarning: is_sparse is deprecated and will be removed in a future version. Check `isinstance(dtype, pd.SparseDtype)` instead.\n",
      "  if is_sparse(pd_dtype):\n",
      "/home/daniel/anaconda3/envs/cv/lib/python3.11/site-packages/sklearn/utils/validation.py:614: FutureWarning: is_sparse is deprecated and will be removed in a future version. Check `isinstance(dtype, pd.SparseDtype)` instead.\n",
      "  if is_sparse(pd_dtype) or not is_extension_array_dtype(pd_dtype):\n",
      "/home/daniel/anaconda3/envs/cv/lib/python3.11/site-packages/sklearn/utils/validation.py:605: FutureWarning: is_sparse is deprecated and will be removed in a future version. Check `isinstance(dtype, pd.SparseDtype)` instead.\n",
      "  if is_sparse(pd_dtype):\n",
      "/home/daniel/anaconda3/envs/cv/lib/python3.11/site-packages/sklearn/utils/validation.py:614: FutureWarning: is_sparse is deprecated and will be removed in a future version. Check `isinstance(dtype, pd.SparseDtype)` instead.\n",
      "  if is_sparse(pd_dtype) or not is_extension_array_dtype(pd_dtype):\n",
      "/home/daniel/anaconda3/envs/cv/lib/python3.11/site-packages/sklearn/utils/validation.py:605: FutureWarning: is_sparse is deprecated and will be removed in a future version. Check `isinstance(dtype, pd.SparseDtype)` instead.\n",
      "  if is_sparse(pd_dtype):\n",
      "/home/daniel/anaconda3/envs/cv/lib/python3.11/site-packages/sklearn/utils/validation.py:614: FutureWarning: is_sparse is deprecated and will be removed in a future version. Check `isinstance(dtype, pd.SparseDtype)` instead.\n",
      "  if is_sparse(pd_dtype) or not is_extension_array_dtype(pd_dtype):\n",
      "/home/daniel/anaconda3/envs/cv/lib/python3.11/site-packages/sklearn/utils/validation.py:605: FutureWarning: is_sparse is deprecated and will be removed in a future version. Check `isinstance(dtype, pd.SparseDtype)` instead.\n",
      "  if is_sparse(pd_dtype):\n",
      "/home/daniel/anaconda3/envs/cv/lib/python3.11/site-packages/sklearn/utils/validation.py:614: FutureWarning: is_sparse is deprecated and will be removed in a future version. Check `isinstance(dtype, pd.SparseDtype)` instead.\n",
      "  if is_sparse(pd_dtype) or not is_extension_array_dtype(pd_dtype):\n",
      "/home/daniel/anaconda3/envs/cv/lib/python3.11/site-packages/sklearn/utils/validation.py:605: FutureWarning: is_sparse is deprecated and will be removed in a future version. Check `isinstance(dtype, pd.SparseDtype)` instead.\n",
      "  if is_sparse(pd_dtype):\n",
      "/home/daniel/anaconda3/envs/cv/lib/python3.11/site-packages/sklearn/utils/validation.py:614: FutureWarning: is_sparse is deprecated and will be removed in a future version. Check `isinstance(dtype, pd.SparseDtype)` instead.\n",
      "  if is_sparse(pd_dtype) or not is_extension_array_dtype(pd_dtype):\n"
     ]
    },
    {
     "data": {
      "text/plain": "                           Description  num_features pipe_time    f1_rdf  \\\n0                                tfidf         10550    11.541  0.693313   \n1                          lower-tfidf         10550    11.589  0.697086   \n2                    lower-ponct-tfidf         11241    10.198  0.693648   \n3              lower-ponct-stopw-tfidf         11143    12.109  0.705459   \n4        lower-ponct-stopw-lemma-tfidf          9368    48.515  0.712701   \n5        lower-ponct-stopw-stemm-tfidf          7978    12.423  0.717836   \n6  lower-ponct-stopw-lemma-stemm-tfidf          7864    49.424  0.715693   \n7              lower-ponct-tfidf-lsi70            70     8.427  0.613060   \n8         lower-ponct-stop-tfidf-lsi70            70     8.678  0.642178   \n9   lower-ponct-stop-stemm-tfidf-lsi70            70    10.591  0.661436   \n\n    acc_rdf  \n0  0.712891  \n1  0.716635  \n2  0.713426  \n3  0.722386  \n4  0.729607  \n5  0.734154  \n6  0.732415  \n7  0.634795  \n8  0.660337  \n9  0.676518  ",
      "text/html": "<div>\n<style scoped>\n    .dataframe tbody tr th:only-of-type {\n        vertical-align: middle;\n    }\n\n    .dataframe tbody tr th {\n        vertical-align: top;\n    }\n\n    .dataframe thead th {\n        text-align: right;\n    }\n</style>\n<table border=\"1\" class=\"dataframe\">\n  <thead>\n    <tr style=\"text-align: right;\">\n      <th></th>\n      <th>Description</th>\n      <th>num_features</th>\n      <th>pipe_time</th>\n      <th>f1_rdf</th>\n      <th>acc_rdf</th>\n    </tr>\n  </thead>\n  <tbody>\n    <tr>\n      <th>0</th>\n      <td>tfidf</td>\n      <td>10550</td>\n      <td>11.541</td>\n      <td>0.693313</td>\n      <td>0.712891</td>\n    </tr>\n    <tr>\n      <th>1</th>\n      <td>lower-tfidf</td>\n      <td>10550</td>\n      <td>11.589</td>\n      <td>0.697086</td>\n      <td>0.716635</td>\n    </tr>\n    <tr>\n      <th>2</th>\n      <td>lower-ponct-tfidf</td>\n      <td>11241</td>\n      <td>10.198</td>\n      <td>0.693648</td>\n      <td>0.713426</td>\n    </tr>\n    <tr>\n      <th>3</th>\n      <td>lower-ponct-stopw-tfidf</td>\n      <td>11143</td>\n      <td>12.109</td>\n      <td>0.705459</td>\n      <td>0.722386</td>\n    </tr>\n    <tr>\n      <th>4</th>\n      <td>lower-ponct-stopw-lemma-tfidf</td>\n      <td>9368</td>\n      <td>48.515</td>\n      <td>0.712701</td>\n      <td>0.729607</td>\n    </tr>\n    <tr>\n      <th>5</th>\n      <td>lower-ponct-stopw-stemm-tfidf</td>\n      <td>7978</td>\n      <td>12.423</td>\n      <td>0.717836</td>\n      <td>0.734154</td>\n    </tr>\n    <tr>\n      <th>6</th>\n      <td>lower-ponct-stopw-lemma-stemm-tfidf</td>\n      <td>7864</td>\n      <td>49.424</td>\n      <td>0.715693</td>\n      <td>0.732415</td>\n    </tr>\n    <tr>\n      <th>7</th>\n      <td>lower-ponct-tfidf-lsi70</td>\n      <td>70</td>\n      <td>8.427</td>\n      <td>0.613060</td>\n      <td>0.634795</td>\n    </tr>\n    <tr>\n      <th>8</th>\n      <td>lower-ponct-stop-tfidf-lsi70</td>\n      <td>70</td>\n      <td>8.678</td>\n      <td>0.642178</td>\n      <td>0.660337</td>\n    </tr>\n    <tr>\n      <th>9</th>\n      <td>lower-ponct-stop-stemm-tfidf-lsi70</td>\n      <td>70</td>\n      <td>10.591</td>\n      <td>0.661436</td>\n      <td>0.676518</td>\n    </tr>\n  </tbody>\n</table>\n</div>"
     },
     "execution_count": 37,
     "metadata": {},
     "output_type": "execute_result"
    }
   ],
   "source": [
    "def pipe_10(data):\n",
    "    start_time = time.time()\n",
    "    \n",
    "    #preprocesing\n",
    "    df = data.copy()\n",
    "    df = lowercase_func(df)\n",
    "    df = ponctuation_remov_func(df)\n",
    "    df = remove_stop_words(df)\n",
    "    \n",
    "    df = stemming_func(df)\n",
    "\n",
    "    X, nan1, nan2 = LSI_func(df, 70)\n",
    "    #X, _ = TF_IDF_func(df, 1)\n",
    "    y = df['label']\n",
    "    description = 'lower-ponct-stop-stemm-tfidf-lsi70'\n",
    "    \n",
    "    # call the model\n",
    "    acc_rdf, f1_rdf = model(X, y)\n",
    "    \n",
    "    end_time = time.time()\n",
    "\n",
    "    num_features = X.shape[1]\n",
    "    pipe_time = end_time - start_time\n",
    "    pipe_time = format(pipe_time, '.3f')\n",
    "    \n",
    "    metrics_data.loc[len(metrics_data.index)] = [description, num_features,  pipe_time,  f1_rdf,  acc_rdf]\n",
    "\n",
    "pipe_10(data)\n",
    "metrics_data"
   ],
   "metadata": {
    "collapsed": false,
    "ExecuteTime": {
     "end_time": "2023-11-16T00:58:52.397028405Z",
     "start_time": "2023-11-16T00:58:41.838581268Z"
    }
   }
  },
  {
   "cell_type": "code",
   "execution_count": 38,
   "outputs": [
    {
     "data": {
      "text/plain": "VBox(children=(HBox(children=(IntProgress(value=0, description='0.00%', max=2671), Label(value='0 / 2671'))), …",
      "application/vnd.jupyter.widget-view+json": {
       "version_major": 2,
       "version_minor": 0,
       "model_id": "9070aeed8dbb4c50a740f4e36e47348f"
      }
     },
     "metadata": {},
     "output_type": "display_data"
    },
    {
     "data": {
      "text/plain": "VBox(children=(HBox(children=(IntProgress(value=0, description='0.00%', max=2671), Label(value='0 / 2671'))), …",
      "application/vnd.jupyter.widget-view+json": {
       "version_major": 2,
       "version_minor": 0,
       "model_id": "60536ec6f74942eda7b1b49f3eb3e77c"
      }
     },
     "metadata": {},
     "output_type": "display_data"
    },
    {
     "data": {
      "text/plain": "VBox(children=(HBox(children=(IntProgress(value=0, description='0.00%', max=2671), Label(value='0 / 2671'))), …",
      "application/vnd.jupyter.widget-view+json": {
       "version_major": 2,
       "version_minor": 0,
       "model_id": "dd7eea936ae14595aa0abea242a5a9d6"
      }
     },
     "metadata": {},
     "output_type": "display_data"
    },
    {
     "data": {
      "text/plain": "VBox(children=(HBox(children=(IntProgress(value=0, description='0.00%', max=2671), Label(value='0 / 2671'))), …",
      "application/vnd.jupyter.widget-view+json": {
       "version_major": 2,
       "version_minor": 0,
       "model_id": "b7b057f74d1e46d683dbf9bcc802305d"
      }
     },
     "metadata": {},
     "output_type": "display_data"
    },
    {
     "name": "stderr",
     "output_type": "stream",
     "text": [
      "/home/daniel/anaconda3/envs/cv/lib/python3.11/site-packages/sklearn/utils/validation.py:605: FutureWarning: is_sparse is deprecated and will be removed in a future version. Check `isinstance(dtype, pd.SparseDtype)` instead.\n",
      "  if is_sparse(pd_dtype):\n",
      "/home/daniel/anaconda3/envs/cv/lib/python3.11/site-packages/sklearn/utils/validation.py:614: FutureWarning: is_sparse is deprecated and will be removed in a future version. Check `isinstance(dtype, pd.SparseDtype)` instead.\n",
      "  if is_sparse(pd_dtype) or not is_extension_array_dtype(pd_dtype):\n",
      "/home/daniel/anaconda3/envs/cv/lib/python3.11/site-packages/sklearn/utils/validation.py:605: FutureWarning: is_sparse is deprecated and will be removed in a future version. Check `isinstance(dtype, pd.SparseDtype)` instead.\n",
      "  if is_sparse(pd_dtype):\n",
      "/home/daniel/anaconda3/envs/cv/lib/python3.11/site-packages/sklearn/utils/validation.py:614: FutureWarning: is_sparse is deprecated and will be removed in a future version. Check `isinstance(dtype, pd.SparseDtype)` instead.\n",
      "  if is_sparse(pd_dtype) or not is_extension_array_dtype(pd_dtype):\n",
      "/home/daniel/anaconda3/envs/cv/lib/python3.11/site-packages/sklearn/utils/validation.py:605: FutureWarning: is_sparse is deprecated and will be removed in a future version. Check `isinstance(dtype, pd.SparseDtype)` instead.\n",
      "  if is_sparse(pd_dtype):\n",
      "/home/daniel/anaconda3/envs/cv/lib/python3.11/site-packages/sklearn/utils/validation.py:614: FutureWarning: is_sparse is deprecated and will be removed in a future version. Check `isinstance(dtype, pd.SparseDtype)` instead.\n",
      "  if is_sparse(pd_dtype) or not is_extension_array_dtype(pd_dtype):\n",
      "/home/daniel/anaconda3/envs/cv/lib/python3.11/site-packages/sklearn/utils/validation.py:605: FutureWarning: is_sparse is deprecated and will be removed in a future version. Check `isinstance(dtype, pd.SparseDtype)` instead.\n",
      "  if is_sparse(pd_dtype):\n",
      "/home/daniel/anaconda3/envs/cv/lib/python3.11/site-packages/sklearn/utils/validation.py:614: FutureWarning: is_sparse is deprecated and will be removed in a future version. Check `isinstance(dtype, pd.SparseDtype)` instead.\n",
      "  if is_sparse(pd_dtype) or not is_extension_array_dtype(pd_dtype):\n",
      "/home/daniel/anaconda3/envs/cv/lib/python3.11/site-packages/sklearn/utils/validation.py:605: FutureWarning: is_sparse is deprecated and will be removed in a future version. Check `isinstance(dtype, pd.SparseDtype)` instead.\n",
      "  if is_sparse(pd_dtype):\n",
      "/home/daniel/anaconda3/envs/cv/lib/python3.11/site-packages/sklearn/utils/validation.py:614: FutureWarning: is_sparse is deprecated and will be removed in a future version. Check `isinstance(dtype, pd.SparseDtype)` instead.\n",
      "  if is_sparse(pd_dtype) or not is_extension_array_dtype(pd_dtype):\n",
      "/home/daniel/anaconda3/envs/cv/lib/python3.11/site-packages/sklearn/utils/validation.py:605: FutureWarning: is_sparse is deprecated and will be removed in a future version. Check `isinstance(dtype, pd.SparseDtype)` instead.\n",
      "  if is_sparse(pd_dtype):\n",
      "/home/daniel/anaconda3/envs/cv/lib/python3.11/site-packages/sklearn/utils/validation.py:614: FutureWarning: is_sparse is deprecated and will be removed in a future version. Check `isinstance(dtype, pd.SparseDtype)` instead.\n",
      "  if is_sparse(pd_dtype) or not is_extension_array_dtype(pd_dtype):\n",
      "/home/daniel/anaconda3/envs/cv/lib/python3.11/site-packages/sklearn/utils/validation.py:605: FutureWarning: is_sparse is deprecated and will be removed in a future version. Check `isinstance(dtype, pd.SparseDtype)` instead.\n",
      "  if is_sparse(pd_dtype):\n",
      "/home/daniel/anaconda3/envs/cv/lib/python3.11/site-packages/sklearn/utils/validation.py:614: FutureWarning: is_sparse is deprecated and will be removed in a future version. Check `isinstance(dtype, pd.SparseDtype)` instead.\n",
      "  if is_sparse(pd_dtype) or not is_extension_array_dtype(pd_dtype):\n",
      "/home/daniel/anaconda3/envs/cv/lib/python3.11/site-packages/sklearn/utils/validation.py:605: FutureWarning: is_sparse is deprecated and will be removed in a future version. Check `isinstance(dtype, pd.SparseDtype)` instead.\n",
      "  if is_sparse(pd_dtype):\n",
      "/home/daniel/anaconda3/envs/cv/lib/python3.11/site-packages/sklearn/utils/validation.py:614: FutureWarning: is_sparse is deprecated and will be removed in a future version. Check `isinstance(dtype, pd.SparseDtype)` instead.\n",
      "  if is_sparse(pd_dtype) or not is_extension_array_dtype(pd_dtype):\n",
      "/home/daniel/anaconda3/envs/cv/lib/python3.11/site-packages/sklearn/utils/validation.py:605: FutureWarning: is_sparse is deprecated and will be removed in a future version. Check `isinstance(dtype, pd.SparseDtype)` instead.\n",
      "  if is_sparse(pd_dtype):\n",
      "/home/daniel/anaconda3/envs/cv/lib/python3.11/site-packages/sklearn/utils/validation.py:614: FutureWarning: is_sparse is deprecated and will be removed in a future version. Check `isinstance(dtype, pd.SparseDtype)` instead.\n",
      "  if is_sparse(pd_dtype) or not is_extension_array_dtype(pd_dtype):\n",
      "/home/daniel/anaconda3/envs/cv/lib/python3.11/site-packages/sklearn/utils/validation.py:605: FutureWarning: is_sparse is deprecated and will be removed in a future version. Check `isinstance(dtype, pd.SparseDtype)` instead.\n",
      "  if is_sparse(pd_dtype):\n",
      "/home/daniel/anaconda3/envs/cv/lib/python3.11/site-packages/sklearn/utils/validation.py:614: FutureWarning: is_sparse is deprecated and will be removed in a future version. Check `isinstance(dtype, pd.SparseDtype)` instead.\n",
      "  if is_sparse(pd_dtype) or not is_extension_array_dtype(pd_dtype):\n"
     ]
    },
    {
     "data": {
      "text/plain": "                                 Description  num_features pipe_time  \\\n0                                      tfidf         10550    11.541   \n1                                lower-tfidf         10550    11.589   \n2                          lower-ponct-tfidf         11241    10.198   \n3                    lower-ponct-stopw-tfidf         11143    12.109   \n4              lower-ponct-stopw-lemma-tfidf          9368    48.515   \n5              lower-ponct-stopw-stemm-tfidf          7978    12.423   \n6        lower-ponct-stopw-lemma-stemm-tfidf          7864    49.424   \n7                    lower-ponct-tfidf-lsi70            70     8.427   \n8               lower-ponct-stop-tfidf-lsi70            70     8.678   \n9         lower-ponct-stop-stemm-tfidf-lsi70            70    10.591   \n10  lower-ponct-stop-lemma-stemm-tfidf-lsi70            70    50.522   \n\n      f1_rdf   acc_rdf  \n0   0.693313  0.712891  \n1   0.697086  0.716635  \n2   0.693648  0.713426  \n3   0.705459  0.722386  \n4   0.712701  0.729607  \n5   0.717836  0.734154  \n6   0.715693  0.732415  \n7   0.613060  0.634795  \n8   0.642178  0.660337  \n9   0.661436  0.676518  \n10  0.654726  0.670366  ",
      "text/html": "<div>\n<style scoped>\n    .dataframe tbody tr th:only-of-type {\n        vertical-align: middle;\n    }\n\n    .dataframe tbody tr th {\n        vertical-align: top;\n    }\n\n    .dataframe thead th {\n        text-align: right;\n    }\n</style>\n<table border=\"1\" class=\"dataframe\">\n  <thead>\n    <tr style=\"text-align: right;\">\n      <th></th>\n      <th>Description</th>\n      <th>num_features</th>\n      <th>pipe_time</th>\n      <th>f1_rdf</th>\n      <th>acc_rdf</th>\n    </tr>\n  </thead>\n  <tbody>\n    <tr>\n      <th>0</th>\n      <td>tfidf</td>\n      <td>10550</td>\n      <td>11.541</td>\n      <td>0.693313</td>\n      <td>0.712891</td>\n    </tr>\n    <tr>\n      <th>1</th>\n      <td>lower-tfidf</td>\n      <td>10550</td>\n      <td>11.589</td>\n      <td>0.697086</td>\n      <td>0.716635</td>\n    </tr>\n    <tr>\n      <th>2</th>\n      <td>lower-ponct-tfidf</td>\n      <td>11241</td>\n      <td>10.198</td>\n      <td>0.693648</td>\n      <td>0.713426</td>\n    </tr>\n    <tr>\n      <th>3</th>\n      <td>lower-ponct-stopw-tfidf</td>\n      <td>11143</td>\n      <td>12.109</td>\n      <td>0.705459</td>\n      <td>0.722386</td>\n    </tr>\n    <tr>\n      <th>4</th>\n      <td>lower-ponct-stopw-lemma-tfidf</td>\n      <td>9368</td>\n      <td>48.515</td>\n      <td>0.712701</td>\n      <td>0.729607</td>\n    </tr>\n    <tr>\n      <th>5</th>\n      <td>lower-ponct-stopw-stemm-tfidf</td>\n      <td>7978</td>\n      <td>12.423</td>\n      <td>0.717836</td>\n      <td>0.734154</td>\n    </tr>\n    <tr>\n      <th>6</th>\n      <td>lower-ponct-stopw-lemma-stemm-tfidf</td>\n      <td>7864</td>\n      <td>49.424</td>\n      <td>0.715693</td>\n      <td>0.732415</td>\n    </tr>\n    <tr>\n      <th>7</th>\n      <td>lower-ponct-tfidf-lsi70</td>\n      <td>70</td>\n      <td>8.427</td>\n      <td>0.613060</td>\n      <td>0.634795</td>\n    </tr>\n    <tr>\n      <th>8</th>\n      <td>lower-ponct-stop-tfidf-lsi70</td>\n      <td>70</td>\n      <td>8.678</td>\n      <td>0.642178</td>\n      <td>0.660337</td>\n    </tr>\n    <tr>\n      <th>9</th>\n      <td>lower-ponct-stop-stemm-tfidf-lsi70</td>\n      <td>70</td>\n      <td>10.591</td>\n      <td>0.661436</td>\n      <td>0.676518</td>\n    </tr>\n    <tr>\n      <th>10</th>\n      <td>lower-ponct-stop-lemma-stemm-tfidf-lsi70</td>\n      <td>70</td>\n      <td>50.522</td>\n      <td>0.654726</td>\n      <td>0.670366</td>\n    </tr>\n  </tbody>\n</table>\n</div>"
     },
     "execution_count": 38,
     "metadata": {},
     "output_type": "execute_result"
    }
   ],
   "source": [
    "def pipe_11(data):\n",
    "    start_time = time.time()\n",
    "    \n",
    "    #preprocesing\n",
    "    df = data.copy()\n",
    "    df = lowercase_func(df)\n",
    "    df = ponctuation_remov_func(df)\n",
    "    df = remove_stop_words(df)\n",
    "    df = lemmatization_func(df)\n",
    "    df = stemming_func(df)\n",
    "\n",
    "    X, nan1, nan2 = LSI_func(df, 70)\n",
    "    #X, _ = TF_IDF_func(df, 1)\n",
    "    y = df['label']\n",
    "    description = 'lower-ponct-stop-lemma-stemm-tfidf-lsi70'\n",
    "    \n",
    "    # call the model\n",
    "    acc_rdf, f1_rdf = model(X, y)\n",
    "    \n",
    "    end_time = time.time()\n",
    "\n",
    "    num_features = X.shape[1]\n",
    "    pipe_time = end_time - start_time\n",
    "    pipe_time = format(pipe_time, '.3f')\n",
    "    \n",
    "    metrics_data.loc[len(metrics_data.index)] = [description, num_features,  pipe_time,  f1_rdf,  acc_rdf]\n",
    "\n",
    "pipe_11(data)\n",
    "metrics_data"
   ],
   "metadata": {
    "collapsed": false,
    "ExecuteTime": {
     "end_time": "2023-11-16T00:59:42.936494641Z",
     "start_time": "2023-11-16T00:58:52.408901540Z"
    }
   }
  },
  {
   "cell_type": "code",
   "execution_count": 39,
   "outputs": [],
   "source": [
    "metrics_data.to_csv('parallel_metric_data_en_tfidf100.csv', index=False)"
   ],
   "metadata": {
    "collapsed": false,
    "ExecuteTime": {
     "end_time": "2023-11-16T00:59:42.941223211Z",
     "start_time": "2023-11-16T00:59:42.935463373Z"
    }
   }
  },
  {
   "cell_type": "code",
   "execution_count": 41,
   "outputs": [],
   "source": [
    "print(metrics_data.head(10))"
   ],
   "metadata": {
    "collapsed": false
   }
  },
  {
   "cell_type": "code",
   "execution_count": 42,
   "outputs": [],
   "source": [
    "metric = pd.read_csv('parallel_metric_data_en_tfidf100.csv')"
   ],
   "metadata": {
    "collapsed": false
   }
  },
  {
   "cell_type": "code",
   "execution_count": 43,
   "outputs": [],
   "source": [
    "metric"
   ],
   "metadata": {
    "collapsed": false
   }
  },
  {
   "cell_type": "code",
   "execution_count": null,
   "outputs": [],
   "source": [],
   "metadata": {
    "collapsed": false
   }
  }
 ],
 "metadata": {
  "accelerator": "GPU",
  "colab": {
   "provenance": [],
   "collapsed_sections": [
    "yf0Vev_nyflN",
    "pgVWw8TeJe35",
    "9U3EG6MEsaxr",
    "BeupEvaPsid_",
    "S4QMx_P4tIW3"
   ]
  },
  "kernelspec": {
   "name": "python3",
   "language": "python",
   "display_name": "Python 3 (ipykernel)"
  },
  "language_info": {
   "name": "python"
  }
 },
 "nbformat": 4,
 "nbformat_minor": 0
}
